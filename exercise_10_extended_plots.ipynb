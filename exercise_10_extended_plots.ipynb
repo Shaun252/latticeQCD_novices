{
 "cells": [
  {
   "cell_type": "markdown",
   "metadata": {
    "deletable": true,
    "editable": true
   },
   "source": [
    "# Plaquette energy vs beta\n",
    "\n",
    "Replication of Gattringer and Lang page 99) 10 hits is IMPORTANT, so is number of su3 matrices 100+ give bigger values (wrong) for energy as well as no of correlation "
   ]
  },
  {
   "cell_type": "code",
   "execution_count": 1,
   "metadata": {
    "collapsed": false,
    "deletable": true,
    "editable": true
   },
   "outputs": [],
   "source": [
    "import numpy as np\n",
    "from multiprocessing import Pool\n",
    "import matplotlib.pyplot as plt\n",
    "%matplotlib inline\n",
    "\n",
    "def generate_su2(epsilon):\n",
    "    #generates a random su2 matrix where epsilon controls the \"distance\" from the identity\n",
    "    r_random_numbers = np.random.uniform(0, 0.5, (4))\n",
    "    r = np.empty((4))\n",
    "    \n",
    "    r[1:] = epsilon * r_random_numbers[1:] / np.linalg.norm(r_random_numbers[1:])\n",
    "    r[0] = np.sign(r_random_numbers[0]) * np.sqrt(1-epsilon**2)\n",
    "    \n",
    "    r11 = r[0] + r[3]*1j\n",
    "    r12 = r[1]*1j + r[2]\n",
    "    r21 = r[1]*1j - r[2]\n",
    "    r22 = r[0] - r[3]*1j\n",
    "    \n",
    "    return np.array([[r11, r12], [r21, r22]])\n",
    "    \n",
    "def generate_su3_array(n, epsilon):\n",
    "    #generates a 2*n array of su3 matrices where epsilon controls the distance from the idenity\n",
    "    su3_array = np.empty((2*n, 3, 3), dtype = 'complex128')\n",
    "    \n",
    "    for i in range(n):\n",
    "\n",
    "        R_su3 = np.identity(3, dtype=complex)\n",
    "        S_su3 = np.identity(3, dtype=complex)\n",
    "        T_su3 = np.identity(3, dtype=complex)\n",
    "\n",
    "        R_su3[:2, :2] = generate_su2(epsilon)\n",
    "        S_su3[0:3:2, 0:3:2] = generate_su2(epsilon)\n",
    "        T_su3[1:, 1:] = generate_su2(epsilon)\n",
    "        \n",
    "        X_su3 = np.dot(np.dot(R_su3, S_su3), T_su3)\n",
    "\n",
    "        su3_array[2*i, :, :] = X_su3\n",
    "        su3_array[2*i+1, :, :] = X_su3.conj().T\n",
    "        \n",
    "    return su3_array"
   ]
  },
  {
   "cell_type": "markdown",
   "metadata": {
    "deletable": true,
    "editable": true
   },
   "source": [
    "### Classes for the lattice and the site at each lattice point.\n",
    "\n",
    "Site value is just a scalar here as this is a simple gauge simulation. The fundamental data structure of the lattice is a numpy array of site objects which have four links initialised to the identity matrix."
   ]
  },
  {
   "cell_type": "code",
   "execution_count": 2,
   "metadata": {
    "collapsed": false,
    "deletable": true,
    "editable": true
   },
   "outputs": [],
   "source": [
    "def generate_site():\n",
    "    #Returns a 4 dimensional array of su3 matrices initialised to the identity which can be assigned to each\n",
    "    #spatial lattice point\n",
    "    link_value = np.identity(3, dtype = 'complex128')\n",
    "    link = np.tile(link_value, (4, 1, 1))\n",
    "    \n",
    "    return link\n",
    "        \n",
    "\n",
    "def generate_lattice(n_points):\n",
    "    #Returns a (n_points, n_points, n_points, n_points, 4, 3, 3) numpy array as our lattice with 4\n",
    "    #su3 links assigned to each grid point\n",
    "    volume = np.append(np.repeat(n_points, 4), (4,3,3))\n",
    "    grid = np.empty(volume, dtype = 'complex128')\n",
    "    \n",
    "    for t in range(n_points):\n",
    "        for x in range(n_points):\n",
    "            for y in range(n_points):\n",
    "                for z in range(n_points):\n",
    "                    grid[t, x, y, z, :, :, :] = generate_site()\n",
    "                        \n",
    "    return grid\n",
    "\n",
    "def link(lattice, coordinates, mu):\n",
    "    #Function to take into account periodic bd conditions\n",
    "    n_points = lattice.shape[0]\n",
    "        \n",
    "    return lattice[coordinates[0] % n_points, coordinates[1] % n_points, \n",
    "                   coordinates[2] % n_points, coordinates[3] % n_points, mu, : , :]"
   ]
  },
  {
   "cell_type": "code",
   "execution_count": 3,
   "metadata": {
    "collapsed": false,
    "deletable": true,
    "editable": true
   },
   "outputs": [],
   "source": [
    "def wilson_link_sum(lattice, coordinates,  mu, u_0):\n",
    "    #Staple sum for the wilson plaquette action\n",
    "    dimension = 4\n",
    "    res = np.zeros((3,3), dtype = 'complex128')\n",
    "    \n",
    "    for nu in range(dimension):\n",
    "        if nu != mu:\n",
    "            \n",
    "            coordinates_mu = coordinates[:]\n",
    "            coordinates_mu[mu] += 1\n",
    "            \n",
    "            coordinates_nu = coordinates[:]\n",
    "            coordinates_nu[nu] += 1\n",
    "            \n",
    "            coordinates_mu_n_nu = coordinates[:]\n",
    "            coordinates_mu_n_nu[mu] += 1\n",
    "            coordinates_mu_n_nu[nu] -= 1\n",
    "            \n",
    "            coordinates_n_nu = coordinates[:]\n",
    "            coordinates_n_nu[nu] -= 1\n",
    "            \n",
    "            #1x1 positive\n",
    "            res += np.dot(np.dot(link(lattice, coordinates_mu, nu), \n",
    "                                 link(lattice, coordinates_nu, mu).conj().T),\n",
    "                                 link(lattice, coordinates,    nu).conj().T)\n",
    "            #1x1 negative\n",
    "            res += np.dot(np.dot(link(lattice, coordinates_mu_n_nu, nu).conj().T, \n",
    "                                 link(lattice, coordinates_n_nu,    mu).conj().T), \n",
    "                                 link(lattice, coordinates_n_nu,    nu))\n",
    "        \n",
    "    return res / u_0**4 / 3"
   ]
  },
  {
   "cell_type": "code",
   "execution_count": 4,
   "metadata": {
    "collapsed": false,
    "deletable": true,
    "editable": true
   },
   "outputs": [],
   "source": [
    "def update_link(lattice, coordinates, mu, link_sum, su3_set, su3_set_length, beta, u_0, n_hits):\n",
    "    \n",
    "    accept = 0\n",
    "    \n",
    "    t = coordinates[0]\n",
    "    x = coordinates[1]\n",
    "    y = coordinates[2]\n",
    "    z = coordinates[3]\n",
    "    \n",
    "    #compute staple once for given link\n",
    "    staple = link_sum(lattice, coordinates,  mu, u_0)\n",
    "    \n",
    "    #update single link multiple times to bring into equilibrium with surrounding links\n",
    "    for i in range(n_hits):\n",
    "\n",
    "        su3_matrix = su3_set[np.random.randint(0, su3_set_length)]\n",
    "        \n",
    "        new_link = np.dot(su3_matrix , lattice[t, x, y, z, mu, : , :])\n",
    "        \n",
    "        diff = new_link - lattice[t, x, y, z, mu, : , :]\n",
    "    \n",
    "        deltaS = beta * np.trace(np.dot(diff, staple)).real\n",
    "    \n",
    "        if np.exp(deltaS) > np.random.rand():\n",
    "          \n",
    "            lattice[t, x, y, z, mu, : , :] = new_link\n",
    "            accept += 1\n",
    "    \n",
    "    return accept / n_hits"
   ]
  },
  {
   "cell_type": "code",
   "execution_count": 5,
   "metadata": {
    "collapsed": false,
    "deletable": true,
    "editable": true
   },
   "outputs": [],
   "source": [
    "def update_lattice(lattice, link_sum, su3_set, beta, u_0, n_hits):\n",
    "    n_points = lattice.shape[0]\n",
    "    dimension = 4 \n",
    "    acceptance = 0\n",
    "    su3_set_length = len(su3_set)\n",
    "    \n",
    "    for t in range(n_points):\n",
    "        for x in range(n_points):\n",
    "            for y in range(n_points):\n",
    "                for z in range(n_points):\n",
    "                    for mu in range(dimension):\n",
    "                        acceptance += update_link(lattice, [t,x,y,z], mu, link_sum, \n",
    "                                                  su3_set, su3_set_length, beta, u_0, n_hits)\n",
    "                            \n",
    "    return acceptance / dimension / n_points**dimension"
   ]
  },
  {
   "cell_type": "code",
   "execution_count": 6,
   "metadata": {
    "collapsed": false,
    "deletable": true,
    "editable": true
   },
   "outputs": [],
   "source": [
    "def markov_chain(lattice, link_sum,  su3_set, beta, u_0, n_configs, n_corr, n_hits, \n",
    "                 thermal_steps = 100, thermalise = True):\n",
    "    \n",
    "    acceptance = 0\n",
    "    ensemble = []\n",
    "    \n",
    "    #Thermalise\n",
    "    if thermalise == True:\n",
    "        for i in range(int(thermal_steps)):\n",
    "            \n",
    "            update_lattice(lattice, link_sum, su3_set, beta, u_0, n_hits=n_hits)\n",
    "    \n",
    "    #Equilibrium Update\n",
    "    for j in range(n_configs*n_corr):\n",
    "        \n",
    "        acceptance += update_lattice(lattice, link_sum, su3_set, beta, u_0, n_hits=n_hits)\n",
    "        \n",
    "        if j % n_corr == 0:\n",
    "            \n",
    "            ensemble.append(lattice)\n",
    "    \n",
    "    if n_configs != 0 and n_corr != 0:\n",
    "    \n",
    "        acceptance = acceptance / n_configs / n_corr       \n",
    "    \n",
    "    return ensemble, acceptance"
   ]
  },
  {
   "cell_type": "markdown",
   "metadata": {
    "deletable": true,
    "editable": true
   },
   "source": [
    "### Plaquette lattice average"
   ]
  },
  {
   "cell_type": "code",
   "execution_count": 7,
   "metadata": {
    "collapsed": true,
    "deletable": true,
    "editable": true
   },
   "outputs": [],
   "source": [
    "def square_wilson_loop(lattice, coordinates, mu, nu):\n",
    "    #compute upper plaquette\n",
    "    coordinates_mu = coordinates[:]\n",
    "    coordinates_mu[mu] +=1\n",
    "    coordinates_nu = coordinates[:]\n",
    "    coordinates_nu[nu] +=1\n",
    "    \n",
    "    res = np.dot(np.dot(np.dot(link(lattice, coordinates,    mu), \n",
    "                               link(lattice, coordinates_mu, nu)), \n",
    "                               link(lattice, coordinates_nu, mu).conj().T), \n",
    "                               link(lattice, coordinates,    nu).conj().T)\n",
    "        \n",
    "    return np.trace(res).real / 3\n",
    "\n",
    "\n",
    "def square_lattice_average(lattice):\n",
    "    #average plaquette over whole lattice\n",
    "    dimension = 4\n",
    "    unique_2d_loops_number = 6\n",
    "    n_points = lattice.shape[0]\n",
    "    \n",
    "    res = 0\n",
    "    for t in range(n_points):\n",
    "        for x in range(n_points):\n",
    "            for y in range(n_points):\n",
    "                for z in range(n_points):\n",
    "                    for mu in range(dimension):\n",
    "                        for nu in range(mu):\n",
    "                            res += square_wilson_loop(lattice, [t,x,y,z], mu, nu)\n",
    "                                \n",
    "    return res / n_points**dimension / unique_2d_loops_number"
   ]
  },
  {
   "cell_type": "code",
   "execution_count": 8,
   "metadata": {
    "collapsed": true,
    "deletable": true,
    "editable": true
   },
   "outputs": [],
   "source": [
    "def gauge_average(lattice_ensemble, loop_average_function):\n",
    "\n",
    "    loop_ensemble = list(map(loop_average_function, lattice_ensemble))\n",
    "        \n",
    "    return np.mean(loop_ensemble), np.std(loop_ensemble) / np.sqrt(len(lattice_ensemble))"
   ]
  },
  {
   "cell_type": "code",
   "execution_count": 9,
   "metadata": {
    "collapsed": false,
    "deletable": true,
    "editable": true
   },
   "outputs": [],
   "source": [
    "su3_array = generate_su3_array(25, epsilon = 0.2)"
   ]
  },
  {
   "cell_type": "code",
   "execution_count": 10,
   "metadata": {
    "collapsed": true,
    "deletable": true,
    "editable": true
   },
   "outputs": [],
   "source": [
    "def plaquette_energy_thermal(thermal_steps):\n",
    "    \n",
    "    latt = generate_lattice(n_points = 6)\n",
    "\n",
    "    ensemble, acceptance1 = markov_chain(lattice = latt, link_sum = wilson_link_sum, su3_set = su3_array, \n",
    "                                         beta = 5.5, u_0 = 1, n_configs = 10, n_corr = 50, n_hits = 10, \n",
    "                                         thermal_steps = thermal_steps)\n",
    "    \n",
    "    wilson_square_loop = gauge_average(ensemble, square_lattice_average)[0]\n",
    "    \n",
    "    del latt\n",
    "    \n",
    "    return wilson_square_loop\n",
    "\n",
    "\n",
    "def plaquette_plot_thermal():\n",
    "    \n",
    "    p = Pool(5)\n",
    "    thermal_arr = np.linspace(10, 200, 20)\n",
    "    energy_array = p.map(plaquette_energy_thermal, thermal_arr)\n",
    "    p.terminate()\n",
    "    \n",
    "    f, ax = plt.subplots(figsize=(8, 8), dpi=100)\n",
    "    ax.plot(thermal_arr, energy_array, 'g^')\n",
    "    ax.set_title('Plaquette value vs thermalise steps')\n",
    "    ax.set_xlabel(\"Thermalise Steps\")\n",
    "    ax.set_ylabel(\"Plaquette Energy\")\n",
    "    plt.show()\n",
    "    \n",
    "    return energy_array"
   ]
  },
  {
   "cell_type": "code",
   "execution_count": 11,
   "metadata": {
    "collapsed": false,
    "deletable": true,
    "editable": true
   },
   "outputs": [
    {
     "data": {
      "image/png": "[encoded data removed]",
      "text/plain": [
       "<matplotlib.figure.Figure at 0x7f503d6aa048>"
      ]
     },
     "metadata": {},
     "output_type": "display_data"
    },
    {
     "data": {
      "text/plain": [
       "[0.48574945979262524,\n",
       " 0.49673282578766093,\n",
       " 0.49737830872431632,\n",
       " 0.50144135485681596,\n",
       " 0.50747005825682057,\n",
       " 0.50070665125541081,\n",
       " 0.50645455355242597,\n",
       " 0.50761039513850392,\n",
       " 0.49931753269016427,\n",
       " 0.49717966125189034,\n",
       " 0.51407983354128395,\n",
       " 0.50204320385322831,\n",
       " 0.50701991890939913,\n",
       " 0.48770495950717613,\n",
       " 0.50630921362002623,\n",
       " 0.49844847152972294,\n",
       " 0.49566398739443313,\n",
       " 0.49899085945276339,\n",
       " 0.50975599281177009,\n",
       " 0.49244856415623256]"
      ]
     },
     "execution_count": 11,
     "metadata": {},
     "output_type": "execute_result"
    }
   ],
   "source": [
    "plaquette_plot_thermal()"
   ]
  },
  {
   "cell_type": "code",
   "execution_count": 12,
   "metadata": {
    "collapsed": false,
    "deletable": true,
    "editable": true
   },
   "outputs": [],
   "source": [
    "def plaquette_energy_hits(hits):\n",
    "    \n",
    "    latt = generate_lattice(n_points = 6)\n",
    "\n",
    "    ensemble, acceptance1 = markov_chain(lattice = latt, link_sum = wilson_link_sum, su3_set = su3_array, \n",
    "                                         beta = 5.5, u_0 = 1, n_configs = 20, n_corr = 50, n_hits = hits)\n",
    "    \n",
    "    wilson_square_loop = gauge_average(ensemble, square_lattice_average)[0]\n",
    "    \n",
    "    del latt\n",
    "    \n",
    "    return wilson_square_loop\n",
    "\n",
    "\n",
    "def plaquette_plot_hits():\n",
    "    p = Pool(5)\n",
    "    \n",
    "\n",
    "    hit_arr = range(1, 20)\n",
    "    energy_array = p.map(plaquette_energy_hits, hit_arr)\n",
    "\n",
    "    f, ax = plt.subplots(figsize=(8, 8), dpi=100)\n",
    "    ax.plot(hit_arr, energy_array, 'g^')\n",
    "    ax.set_title('Plaquette value vs hits')\n",
    "    ax.set_xlabel(\"Hits\")\n",
    "    ax.set_ylabel(\"Plaquette Energy\")\n",
    "    plt.show()\n",
    "    \n",
    "    p.terminate()\n",
    "    \n",
    "    return energy_array"
   ]
  },
  {
   "cell_type": "code",
   "execution_count": 13,
   "metadata": {
    "collapsed": false,
    "deletable": true,
    "editable": true
   },
   "outputs": [
    {
     "data": {
      "image/png": "[encoded data removed]",
      "text/plain": [
       "<matplotlib.figure.Figure at 0x7f503d6aa7f0>"
      ]
     },
     "metadata": {},
     "output_type": "display_data"
    },
    {
     "data": {
      "text/plain": [
       "[0.54036658685180672,\n",
       " 0.52574627380043504,\n",
       " 0.50708843393129266,\n",
       " 0.51382223137773109,\n",
       " 0.50228490708089746,\n",
       " 0.49661824514255271,\n",
       " 0.50766384508703521,\n",
       " 0.49100525261058225,\n",
       " 0.49690452633933352,\n",
       " 0.49818963398822069,\n",
       " 0.49499806039826977,\n",
       " 0.493523432302789,\n",
       " 0.48746371454130905,\n",
       " 0.49185560718986227]"
      ]
     },
     "execution_count": 13,
     "metadata": {},
     "output_type": "execute_result"
    }
   ],
   "source": [
    "plaquette_plot_hits()"
   ]
  },
  {
   "cell_type": "code",
   "execution_count": 14,
   "metadata": {
    "collapsed": true,
    "deletable": true,
    "editable": true
   },
   "outputs": [],
   "source": [
    "def plaquette_energy_corr(corr):\n",
    "    \n",
    "    latt = generate_lattice(n_points = 6)\n",
    "\n",
    "    ensemble, acceptance1 = markov_chain(lattice = latt, link_sum = wilson_link_sum, su3_set = su3_array, \n",
    "                                         beta = 5.5, u_0 =1,  n_configs = 20, n_corr = corr, n_hits = 10)\n",
    "    \n",
    "    wilson_square_loop = gauge_average(ensemble, square_lattice_average)[0]\n",
    "    \n",
    "    del latt\n",
    "    \n",
    "    return wilson_square_loop\n",
    "\n",
    "\n",
    "def plaquette_plot_corr():\n",
    "    p = Pool(5)\n",
    "    \n",
    "\n",
    "    beta_arr = range(1, 70, 5)\n",
    "    energy_array = p.map(plaquette_energy_corr, beta_arr)\n",
    "\n",
    "    f, ax = plt.subplots(figsize=(8, 8), dpi=100)\n",
    "    ax.plot(beta_arr, energy_array, 'g^')\n",
    "    ax.set_title('Plaquette value vs correlation number')\n",
    "    ax.set_xlabel(\"Correlation number\")\n",
    "    ax.set_ylabel(\"Plaquette Energy\")\n",
    "    plt.show()\n",
    "    \n",
    "    p.terminate()\n",
    "    \n",
    "    return energy_array"
   ]
  },
  {
   "cell_type": "code",
   "execution_count": 15,
   "metadata": {
    "collapsed": false,
    "deletable": true,
    "editable": true
   },
   "outputs": [
    {
     "data": {
      "image/png": "[encoded data removed]",
      "text/plain": [
       "<matplotlib.figure.Figure at 0x7f50697691d0>"
      ]
     },
     "metadata": {},
     "output_type": "display_data"
    },
    {
     "data": {
      "text/plain": [
       "[0.52349062439671068,\n",
       " 0.50778046137727229,\n",
       " 0.50271101561150333,\n",
       " 0.49246852726491835,\n",
       " 0.50714328890397353,\n",
       " 0.49351859347693106,\n",
       " 0.50032717897200096,\n",
       " 0.49796750732051126,\n",
       " 0.51184464622148318,\n",
       " 0.50257301424644285,\n",
       " 0.48660666134973629,\n",
       " 0.49411704929497208,\n",
       " 0.49537025201187601,\n",
       " 0.49170566740513227]"
      ]
     },
     "execution_count": 15,
     "metadata": {},
     "output_type": "execute_result"
    }
   ],
   "source": [
    "plaquette_plot_corr()"
   ]
  },
  {
   "cell_type": "code",
   "execution_count": 16,
   "metadata": {
    "collapsed": true,
    "deletable": true,
    "editable": true
   },
   "outputs": [],
   "source": [
    "def plaquette_energy_beta(beta):\n",
    "    \n",
    "    latt = generate_lattice(n_points = 8)\n",
    "\n",
    "    ensemble, acceptance1 = markov_chain(lattice = latt, link_sum = wilson_link_sum, su3_set = su3_array, \n",
    "                                         beta = beta, u_0=1, n_configs = 20, n_corr = 50, n_hits = 10)\n",
    "    \n",
    "    wilson_square_loop = gauge_average(ensemble, square_lattice_average)[0]\n",
    "    \n",
    "    del latt\n",
    "    \n",
    "    return wilson_square_loop\n",
    "\n",
    "def plaquette_plot_beta():\n",
    "    p = Pool(6)\n",
    "    \n",
    "\n",
    "    beta_arr = np.linspace(0, 8, 24)\n",
    "    energy_array = p.map(plaquette_energy_beta, beta_arr)\n",
    "\n",
    "    f, ax = plt.subplots(figsize=(8, 8), dpi=100)\n",
    "    ax.plot(beta_arr, energy_array)\n",
    "    ax.set_title('Plaquette value vs beta')\n",
    "    ax.set_xlabel(\"Beta\")\n",
    "    ax.set_ylabel(\"Plaquette Energy\")\n",
    "    plt.show()\n",
    "    \n",
    "    p.terminate()\n",
    "    \n",
    "    return energy_array"
   ]
  },
  {
   "cell_type": "code",
   "execution_count": 17,
   "metadata": {
    "collapsed": false,
    "deletable": true,
    "editable": true
   },
   "outputs": [
    {
     "data": {
      "image/png": "[encoded data removed]",
      "text/plain": [
       "<matplotlib.figure.Figure at 0x7f5069788710>"
      ]
     },
     "metadata": {},
     "output_type": "display_data"
    },
    {
     "data": {
      "text/plain": [
       "[-0.00086659077683441557,\n",
       " 0.018977510403210156,\n",
       " 0.038274645154770623,\n",
       " 0.062910789834009995,\n",
       " 0.085031328430026559,\n",
       " 0.10870619206370739,\n",
       " 0.13646657543752311,\n",
       " 0.16340918320313591,\n",
       " 0.18964176839237953,\n",
       " 0.21757930707403741,\n",
       " 0.24759662151048351,\n",
       " 0.27551311059000771,\n",
       " 0.30745863836419779,\n",
       " 0.3447574574816864,\n",
       " 0.38502031710750451,\n",
       " 0.43608123155694045,\n",
       " 0.51806847995791661,\n",
       " 0.58716293891057503,\n",
       " 0.61638525047738335,\n",
       " 0.64549277713923781,\n",
       " 0.67165552228092185,\n",
       " 0.68750207915526507,\n",
       " 0.70346239322086945,\n",
       " 0.72028564645955417]"
      ]
     },
     "execution_count": 17,
     "metadata": {},
     "output_type": "execute_result"
    }
   ],
   "source": [
    "plaquette_plot_beta()"
   ]
  },
  {
   "cell_type": "code",
   "execution_count": null,
   "metadata": {
    "collapsed": true,
    "deletable": true,
    "editable": true
   },
   "outputs": [],
   "source": []
  }
 ],
 "metadata": {
  "kernelspec": {
   "display_name": "Python 3",
   "language": "python",
   "name": "python3"
  },
  "language_info": {
   "codemirror_mode": {
    "name": "ipython",
    "version": 3
   },
   "file_extension": ".py",
   "mimetype": "text/x-python",
   "name": "python",
   "nbconvert_exporter": "python",
   "pygments_lexer": "ipython3",
   "version": "3.5.2"
  }
 },
 "nbformat": 4,
 "nbformat_minor": 2
}
