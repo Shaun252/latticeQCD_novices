{
 "cells": [
  {
   "cell_type": "markdown",
   "metadata": {
    "deletable": true,
    "editable": true
   },
   "source": [
    "## Anaylsing Uncertainties due to Correlations"
   ]
  },
  {
   "cell_type": "markdown",
   "metadata": {
    "deletable": true,
    "editable": true
   },
   "source": [
    "### Potentials"
   ]
  },
  {
   "cell_type": "code",
   "execution_count": 36,
   "metadata": {
    "collapsed": true,
    "deletable": true,
    "editable": true
   },
   "outputs": [],
   "source": [
    "import numpy as np\n",
    "import matplotlib.pyplot as plt\n",
    "from functools import partial\n",
    "import vegas\n",
    "import warnings; warnings.simplefilter('ignore')\n",
    "\n",
    "%matplotlib inline\n",
    "\n",
    "#Harmonic\n",
    "def v_sho(x):\n",
    "    \n",
    "    return (x**2)/2\n",
    "\n",
    "#Anharmonic\n",
    "def v_aho(x):\n",
    "    \n",
    "    return (x ** 4)/2\n"
   ]
  },
  {
   "cell_type": "markdown",
   "metadata": {
    "deletable": true,
    "editable": true
   },
   "source": [
    "### Action for One Spatial Point"
   ]
  },
  {
   "cell_type": "code",
   "execution_count": 37,
   "metadata": {
    "collapsed": true,
    "deletable": true,
    "editable": true
   },
   "outputs": [],
   "source": [
    "def action(x, i, v, m, a): \n",
    "    ir = (i+1)%len(x) \n",
    "    il = (i-1)%len(x)\n",
    "    return a *  v(x[i]) + (m/a) * x[i] * (x[i]-x[ir]-x[il])"
   ]
  },
  {
   "cell_type": "markdown",
   "metadata": {
    "deletable": true,
    "editable": true
   },
   "source": [
    "### Update Function"
   ]
  },
  {
   "cell_type": "code",
   "execution_count": 38,
   "metadata": {
    "collapsed": false,
    "deletable": true,
    "editable": true
   },
   "outputs": [],
   "source": [
    "def update(x, v, m, a, dx):\n",
    "    #Updates Every Point Once\n",
    "    accept = 0\n",
    "    for i in range(len(x)):\n",
    "        \n",
    "        x_old = x[i]\n",
    "        old_action = action(x=x, i=i, v=v, m=m, a=a)\n",
    "        \n",
    "        x[i] += np.random.uniform(-dx, dx)\n",
    "        new_action = action(x=x, i=i, v=v, m=m, a=a)\n",
    "        \n",
    "        diff = old_action - new_action\n",
    "        \n",
    "        r = np.minimum(1.0, np.exp(diff))\n",
    "    \n",
    "        if r < np.random.rand():\n",
    "            x[i] = x_old\n",
    "        \n",
    "        else:\n",
    "            accept += 1\n",
    "    \n",
    "    return x, accept / len(x)"
   ]
  },
  {
   "cell_type": "markdown",
   "metadata": {
    "deletable": true,
    "editable": true
   },
   "source": [
    "### Two Point Function"
   ]
  },
  {
   "cell_type": "code",
   "execution_count": 39,
   "metadata": {
    "collapsed": false,
    "deletable": true,
    "editable": true
   },
   "outputs": [],
   "source": [
    "def G(x):\n",
    "    #Returns Array Gn = [G1, G2,...]\n",
    "    n = len(x)\n",
    "    g = np.zeros(n)\n",
    "    for j in range(n):\n",
    "        for i in range(n):\n",
    "            g[j] += (x[(i+j)%(n)]) *(x[i])\n",
    "            \n",
    "    return g/n"
   ]
  },
  {
   "cell_type": "markdown",
   "metadata": {
    "deletable": true,
    "editable": true
   },
   "source": [
    "### Markov Chain Generation"
   ]
  },
  {
   "cell_type": "code",
   "execution_count": 40,
   "metadata": {
    "collapsed": false,
    "deletable": true,
    "editable": true
   },
   "outputs": [],
   "source": [
    "def markov_chain(n_sites, n_configs, v, m, a, dx, n_corr):\n",
    "    \n",
    "    acceptance = 0\n",
    "    config = np.zeros((n_sites))\n",
    "    gn = []\n",
    "    \n",
    "    #Thermalise\n",
    "    for i in range(10*n_corr):\n",
    "        config = update(config, v, m, a, dx)[0]\n",
    "\n",
    "\n",
    "    for i in range(n_configs*n_corr):\n",
    "        config, acc = update(config, v, m, a, dx)\n",
    "        acceptance += acc\n",
    "        \n",
    "        if i % n_corr == 0:\n",
    "            gn.append(G(config))\n",
    "            \n",
    "    acceptance = acceptance / (n_configs*n_corr)       \n",
    "    return gn, acceptance"
   ]
  },
  {
   "cell_type": "markdown",
   "metadata": {
    "collapsed": true,
    "deletable": true,
    "editable": true
   },
   "source": [
    "### Binning "
   ]
  },
  {
   "cell_type": "code",
   "execution_count": 41,
   "metadata": {
    "collapsed": false,
    "deletable": true,
    "editable": true
   },
   "outputs": [],
   "source": [
    "def binning(g, bin_size):\n",
    "    g_binned = []\n",
    "    for i in range(0, len(g), bin_size):\n",
    "        bin_val = np.mean(g[i:i+bin_size],0)\n",
    "        g_binned.append(bin_val)\n",
    "\n",
    "    return g_binned\n",
    "        \n",
    "        \n",
    "def analysis_binned(n_sites, n_cfs_arr, v, m, a, dx, n_corr, bin_size, harmonic=True):\n",
    "    \n",
    "    rows = len(n_cfs_arr)\n",
    "    fig, axs =  plt.subplots(nrows=rows, ncols=2, sharex='col', figsize=(12, 10), dpi=100)\n",
    "    fig.subplots_adjust(wspace=0.1, hspace=0.2)\n",
    "    ax = axs.flat\n",
    "    \n",
    "    for i, n_configs in enumerate(n_cfs_arr):\n",
    "        gn, acc = markov_chain(n_sites=n_sites, n_configs=n_configs, v=v, m=m, a=a, dx=dx, n_corr=n_corr)\n",
    "        binned_g = binning(g=gn, bin_size=bin_size)\n",
    "        \n",
    "        ######################################################################################################\n",
    "        #Not Binned#\n",
    "        \n",
    "        avg = np.mean(gn,0)\n",
    "        err = np.std(gn,0) / np.sqrt(n_configs)\n",
    "        avg_shift = np.roll(avg, -1)\n",
    "        err_shift = np.roll(err, -1)\n",
    "        \n",
    "        E_eff = np.log(np.divide(avg,avg_shift)) / a\n",
    "        E_eff_err = np.sqrt(np.divide(err, avg)**2 + np.divide(err_shift, avg_shift)**2)/ a / np.sqrt(n_configs/bin_size)\n",
    "        \n",
    "        #######################################################################################################\n",
    "        #Binned#\n",
    "        \n",
    "        avg_binned = np.mean(binned_g, 0)\n",
    "        err_binned = np.std(binned_g, 0)\n",
    "        avg_shift_binned = np.roll(avg_binned, -1)\n",
    "        err_shift_binned = np.roll(err_binned, -1)\n",
    "        \n",
    "        E_eff_binned = np.log(np.divide(avg_binned, avg_shift_binned)) / a\n",
    "        E_eff_err_binned = np.sqrt(np.divide(err_binned, avg_binned)**2 + np.divide(err_shift_binned, avg_shift_binned)**2)/ a / np.sqrt(n_configs/bin_size)\n",
    "    \n",
    "    \n",
    "        t = np.arange(0, n_sites * a, a)\n",
    "\n",
    "        ax[2*i].set_xlim(0, 4)\n",
    "        ax[2*i].set_ylim(0, 2)\n",
    "        ax[2*i].errorbar(t, E_eff, yerr=E_eff_err, fmt='o',  markersize=2, color='k')\n",
    "        ax[2*i].tick_params(bottom=\"off\", top=\"off\", left=\"off\", right=\"off\")\n",
    "        ax[2*i].set_title(\"Effective Energy for N_configs: \" + str(n_configs))\n",
    "        ax[2*i].set_xticks([0, 2, 4])\n",
    "        if harmonic == True:\n",
    "            ax[2*i].axhline(y=1, color='r', linestyle='-')\n",
    "            ax[2*i].set_yticks([1, 2])\n",
    "        elif harmonic == False:\n",
    "            ax[2*i].set_yticks([0.5, 1, 1.5, 2])\n",
    "            \n",
    "        ax[2*i+1].set_xlim(0, 4)\n",
    "        ax[2*i+1].set_ylim(0, 2)\n",
    "        ax[2*i+1].errorbar(t, E_eff_binned, yerr=E_eff_err_binned, fmt='o',  markersize=2, color='k')\n",
    "        ax[2*i+1].tick_params(bottom=\"off\", top=\"off\", left=\"off\", right=\"off\")\n",
    "        ax[2*i+1].set_title(\"Binned Effective Energy for N_configs: \" + str(n_configs))\n",
    "        ax[2*i+1].set_xticks([0, 2, 4])\n",
    "        if harmonic == True:\n",
    "            ax[2*i+1].axhline(y=1, color='r', linestyle='-')\n",
    "            ax[2*i+1].set_yticks([1, 2])\n",
    "        elif harmonic == False:\n",
    "            ax[2*i+1].set_yticks([0.5, 1, 1.5, 2])\n",
    "    \n",
    "        print(\"Acceptance Rate: \" + str(acc))\n",
    "    plt.show()\n",
    "    \n",
    "    "
   ]
  },
  {
   "cell_type": "code",
   "execution_count": 42,
   "metadata": {
    "collapsed": false,
    "deletable": true,
    "editable": true
   },
   "outputs": [
    {
     "name": "stdout",
     "output_type": "stream",
     "text": [
      "Acceptance Rate: 0.48999999999999994\n",
      "Acceptance Rate: 0.4855\n",
      "Acceptance Rate: 0.4972000000000004\n",
      "Acceptance Rate: 0.4967349999999989\n"
     ]
    },
    {
     "data": {
      "image/png": "[encoded data removed]",
      "text/plain": [
       "<matplotlib.figure.Figure at 0x7fec4960c780>"
      ]
     },
     "metadata": {},
     "output_type": "display_data"
    }
   ],
   "source": [
    "analysis_binned(n_sites=20, n_cfs_arr=[25,100,1000,10000], v=v_sho, m=1, a=0.5, dx=1.4, n_corr=1, bin_size = 20)"
   ]
  },
  {
   "cell_type": "markdown",
   "metadata": {
    "collapsed": true,
    "deletable": true,
    "editable": true
   },
   "source": [
    "For some reason binning every 20 samples into one instead of just storing every 20th sample gives larger errors. Do I divided by original number of configs or number of configs / bin size"
   ]
  }
 ],
 "metadata": {
  "kernelspec": {
   "display_name": "Python 3",
   "language": "python",
   "name": "python3"
  },
  "language_info": {
   "codemirror_mode": {
    "name": "ipython",
    "version": 3
   },
   "file_extension": ".py",
   "mimetype": "text/x-python",
   "name": "python",
   "nbconvert_exporter": "python",
   "pygments_lexer": "ipython3",
   "version": "3.5.2"
  }
 },
 "nbformat": 4,
 "nbformat_minor": 2
}
