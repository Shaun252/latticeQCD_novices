{
 "cells": [
  {
   "cell_type": "markdown",
   "metadata": {},
   "source": [
    "# Exercise 5: Some proof"
   ]
  },
  {
   "cell_type": "markdown",
   "metadata": {},
   "source": [
    "Want to compute\n",
    "\n",
    "\\begin{eqnarray*}\n",
    "\\big\\langle 0 \\big| \\Gamma (0) \\big| \\phi_{p=0} \\big\\rangle\n",
    "\\end{eqnarray*}\n",
    "\n",
    "where\n",
    "\n",
    "\\begin{eqnarray*}\n",
    " | \\phi_{p=0} \\rangle &=& \\hat \\phi(-p) | 0 \\rangle\\\\\n",
    " \\Gamma (0) &=& \\frac{1}{\\sqrt{N}}\\sum_n \\phi(n,0)\n",
    "\\end{eqnarray*}\n",
    "\n",
    "Our discretised mode expansion is\n",
    "\n",
    "\\begin{eqnarray*}\n",
    "\\hat \\phi(\\vec{p}) &=&  \\frac{1}{\\sqrt{2E_p}}\\left(a^\\dagger_{-p}+a_p\\right)\\\\\n",
    "\\hat \\phi(n) &=& \\frac{1}{\\sqrt{N}} \\sum_p \\frac{1}{\\sqrt{2E_p}}\\left(a^\\dagger_{p}e^{-ipna}+a_pe^{ipna}\\right) \n",
    "\\end{eqnarray*}\n",
    "\n",
    "Our inner product is defined as\n",
    "\n",
    "\\begin{eqnarray*}\n",
    "\\frac{1}{N}\\sum_n e^{-in(q-p)} = \\delta_{pq}\n",
    "\\end{eqnarray*}\n",
    "\n",
    "and a state completeness relationship\n",
    "\n",
    "\\begin{eqnarray*}\n",
    "1 = \\sum_k | \\phi_k \\rangle \\langle \\phi_k |\n",
    "\\end{eqnarray*}\n",
    "\n",
    "Giving\n",
    "\n",
    "\\begin{eqnarray*}\n",
    " \\big\\langle 0 \\big| \\Gamma (0) \\big| \\phi_{p=0} \\big\\rangle &=&  \\frac{1}{\\sqrt{N}} \\sum_n  \\langle 0 | \\phi(n,0) | \\phi_{p=0} \\rangle\\\\\n",
    "&=&  \\frac{1}{\\sqrt{N}} \\sum_n \\sum_q  \\langle 0 | \\phi(n,0) | \\phi_q \\rangle \\langle \\phi_q | \\phi_{p=0} \\rangle\\\\\n",
    "&=&  \\frac{1}{\\sqrt{N}} \\sum_n \\sum_q  \\langle 0 | \\left(\\frac{1}{\\sqrt{N}} \\sum_k \\frac{1}{\\sqrt{2E_k}}\\left(a^\\dagger_{k}e^{-ikna}+a_ke^{ikna}\\right)\\right)\\left( \\frac{1}{\\sqrt{2E_q}}\\left(a^\\dagger_{q}+a_q\\right)\\right) | 0 \\rangle \\langle \\phi_q | \\phi_{p=0} \\rangle\\\\\n",
    "&=&  \\frac{1}{N} \\sum_n \\sum_q \\sum_k \\langle 0 |  \\frac{1}{\\sqrt{2E_k}\\sqrt{2E_q}} e^{ikna} a_k a^\\dagger_{q} | 0 \\rangle \\langle \\phi_q | \\phi_{p=0} \\rangle\\\\\n",
    "\\end{eqnarray*}\n",
    "\n",
    "Preforming the sum over $n$ using the inner product above\n",
    "\n",
    "\\begin{eqnarray*}\n",
    "&=&   \\sum_q \\sum_k \\langle 0 |  \\frac{1}{\\sqrt{2E_k}\\sqrt{2E_q}} \\delta_{k0} a_k a^\\dagger_{q} | 0 \\rangle \\langle \\phi_q | \\phi_{p=0} \\rangle\\\\\n",
    "&=&  \\sum_q \\langle 0 |  \\frac{1}{\\sqrt{2E_0}\\sqrt{2E_q}} a_0 a^\\dagger_{q} | 0 \\rangle \\langle \\phi_q | \\phi_{p=0} \\rangle\\\\\n",
    "&=&  \\langle 0 |  \\frac{1}{2E_0}  | 0 \\rangle \\langle \\phi_{q=0} | \\phi_{p=0} \\rangle\\\\\n",
    "&=&   \\frac{1}{2E_0} \\langle \\phi_{q=0} | \\phi_{p=0} \\rangle\\\\\n",
    "&=&   \\frac{Z_2}{2m_{\\phi}}\\\\\n",
    "\\end{eqnarray*}\n",
    "\n",
    "where I used\n",
    "\n",
    "\\begin{eqnarray*}\n",
    "a_p a_q^\\dagger &=& \\delta_{pq}\n",
    "\\end{eqnarray*}"
   ]
  },
  {
   "cell_type": "code",
   "execution_count": null,
   "metadata": {},
   "outputs": [],
   "source": []
  }
 ],
 "metadata": {
  "kernelspec": {
   "display_name": "Python 3",
   "language": "python",
   "name": "python3"
  },
  "language_info": {
   "codemirror_mode": {
    "name": "ipython",
    "version": 3
   },
   "file_extension": ".py",
   "mimetype": "text/x-python",
   "name": "python",
   "nbconvert_exporter": "python",
   "pygments_lexer": "ipython3",
   "version": "3.6.4"
  }
 },
 "nbformat": 4,
 "nbformat_minor": 2
}
