{
 "cells": [
  {
   "cell_type": "markdown",
   "metadata": {
    "deletable": true,
    "editable": true
   },
   "source": [
    "# Exercise 6: Improved Discretization of Action\n",
    "\n",
    "Starting from the path integral with our euclidean action\n",
    "\n",
    "\\begin{eqnarray*}\n",
    "S_E = \\int_{t_1}^{t_2} \\frac{1}{2}m\\dot{x}(t)^2 + V(x(t))\\ dt\n",
    "\\end{eqnarray*}\n",
    "\n",
    "\n",
    "Integrating by parts and assuming $x(t_2) = x(t_1)$\n",
    "\n",
    "\\begin{eqnarray*}\n",
    "S_E = \\int_{t_1}^{t_2} -\\frac{1}{2}mx(t)\\ddot{x}(t) + V(x(t))\\ dt\n",
    "\\end{eqnarray*}\n",
    "\n",
    "The second order central difference method applied to the second derivative returns the discretised action used in the previous exercises. If instead the fourth order central difference is used\n",
    "\n",
    "\\begin{eqnarray*}\n",
    "S_E &=& a\\sum_{j=0}^{N-1} \\left[ -\\frac{1}{2}mx_j\\left(\\Delta^{(2)} -\\frac{a^2}{12}(\\Delta^{(2)})^2\\right)x_j + V(x(t))\\right]\\\\\n",
    "&=&a\\sum_{j=0}^{N-1} \\left[ -\\frac{1}{2}mx_j\\left(\\frac{-x_{j+2} + 16x_{j+1} -30x_j + 16x_{j-1} -x_{j-2}}{12a^2} \\right) + V(x(t))\\right]\\\\\n",
    "\\end{eqnarray*}\n",
    "\n",
    "Where $\\Delta^{(2)}= \\frac{x_{j+1} -2x_j + x_{j-1}}{a^2}$ is the second order central difference method. This result can also be derived by by taylor expanding $x(t+2a)$ and $x(t-2a)$ and adding."
   ]
  },
  {
   "cell_type": "markdown",
   "metadata": {
    "deletable": true,
    "editable": true
   },
   "source": [
    "### Potentials\n",
    "\n",
    "We only work with the harmonic oscillator"
   ]
  },
  {
   "cell_type": "code",
   "execution_count": 1,
   "metadata": {
    "collapsed": true,
    "deletable": true,
    "editable": true
   },
   "outputs": [],
   "source": [
    "import numpy as np\n",
    "import matplotlib.pyplot as plt\n",
    "from functools import partial\n",
    "import vegas\n",
    "import warnings; warnings.simplefilter('ignore')\n",
    "\n",
    "%matplotlib inline\n",
    "\n",
    "#Harmonic\n",
    "def v_sho(x):\n",
    "    \n",
    "    return (x**2)/2"
   ]
  },
  {
   "cell_type": "markdown",
   "metadata": {
    "deletable": true,
    "editable": true
   },
   "source": [
    "### Actions\n",
    "\n",
    "Once again only the part of the actions containing $x_j$ is computed"
   ]
  },
  {
   "cell_type": "code",
   "execution_count": 2,
   "metadata": {
    "collapsed": true,
    "deletable": true,
    "editable": true
   },
   "outputs": [],
   "source": [
    "def action_original(x, i, v, m, a): \n",
    "    ir = (i+1)%len(x) \n",
    "    il = (i-1)%len(x)\n",
    "    return a *  v(x[i]) + (m/a) * x[i] * (x[i]-x[il]-x[ir])\n",
    "\n",
    "def action_improved(x, i, v, m, a):\n",
    "    ir1 = (i+1)%len(x)\n",
    "    ir2 = (i+2)%len(x)\n",
    "    il1 = (i-1)%len(x)\n",
    "    il2 = (i-2)%len(x)\n",
    "    return a *  v(x[i]) + (m/(12*a)) * x[i] * (x[il2]-16*x[il1]+15*x[i]-16*x[ir1]+x[ir2])"
   ]
  },
  {
   "cell_type": "markdown",
   "metadata": {
    "deletable": true,
    "editable": true
   },
   "source": [
    "### Update function"
   ]
  },
  {
   "cell_type": "code",
   "execution_count": 3,
   "metadata": {
    "collapsed": true,
    "deletable": true,
    "editable": true
   },
   "outputs": [],
   "source": [
    "def update(x, v, m, a, dx, action):\n",
    "    #Updates Every Point Once\n",
    "    accept = 0\n",
    "    for i in range(len(x)):\n",
    "        \n",
    "        x_old = x[i]\n",
    "        old_action = action(x=x, i=i, v=v, m=m, a=a)\n",
    "        \n",
    "        x[i] += np.random.uniform(-dx, dx)\n",
    "        new_action = action(x=x, i=i, v=v, m=m, a=a)\n",
    "        \n",
    "        diff = old_action - new_action\n",
    "        \n",
    "        r = np.minimum(1.0, np.exp(diff))\n",
    "    \n",
    "        if r < np.random.rand():\n",
    "            x[i] = x_old\n",
    "        \n",
    "        else:\n",
    "            accept += 1\n",
    "    \n",
    "    return x, accept / len(x)"
   ]
  },
  {
   "cell_type": "markdown",
   "metadata": {
    "deletable": true,
    "editable": true
   },
   "source": [
    "### Correlator"
   ]
  },
  {
   "cell_type": "code",
   "execution_count": 4,
   "metadata": {
    "collapsed": true,
    "deletable": true,
    "editable": true
   },
   "outputs": [],
   "source": [
    "def G(x):\n",
    "    #Returns Array Gn = [G1, G2,...]\n",
    "    n = len(x)\n",
    "    g = np.zeros(n)\n",
    "    for j in range(n):\n",
    "        for i in range(n):\n",
    "            g[j] += (x[(i+j)%(n)]) *(x[i])\n",
    "            \n",
    "    return g/n"
   ]
  },
  {
   "cell_type": "markdown",
   "metadata": {
    "deletable": true,
    "editable": true
   },
   "source": [
    "### Function to generate ensembles"
   ]
  },
  {
   "cell_type": "code",
   "execution_count": 5,
   "metadata": {
    "collapsed": true,
    "deletable": true,
    "editable": true
   },
   "outputs": [],
   "source": [
    "def markov_chain(n_sites, n_configs, v, m, a, dx, n_corr, action):\n",
    "    \n",
    "    acceptance = 0\n",
    "    config = np.zeros((n_sites))\n",
    "    gn = []\n",
    "    \n",
    "    #Thermalise\n",
    "    for i in range(10*n_corr):\n",
    "        config = update(config, v, m, a, dx, action)[0]\n",
    "\n",
    "\n",
    "    for i in range(n_configs*n_corr):\n",
    "        config, acc = update(config, v, m, a, dx, action)\n",
    "        acceptance += acc\n",
    "        \n",
    "        if i % n_corr == 0:\n",
    "            gn.append(G(config))\n",
    "            \n",
    "    acceptance = acceptance / (n_configs*n_corr)       \n",
    "    return gn, acceptance"
   ]
  },
  {
   "cell_type": "markdown",
   "metadata": {
    "deletable": true,
    "editable": true
   },
   "source": [
    "### Analysis"
   ]
  },
  {
   "cell_type": "code",
   "execution_count": 6,
   "metadata": {
    "collapsed": false,
    "deletable": true,
    "editable": true
   },
   "outputs": [],
   "source": [
    "def binning(g, bin_size):\n",
    "    g_binned = []\n",
    "    for i in range(0, len(g), bin_size):\n",
    "        bin_val = np.mean(g[i:i+bin_size],0)\n",
    "        g_binned.append(bin_val)\n",
    "\n",
    "    return g_binned\n",
    "\n",
    "\n",
    "def analysis(n_sites, n_cfs_arr, v, m, a, dx, n_corr, bin_size):\n",
    "    \n",
    "    rows = len(n_cfs_arr)\n",
    "    fig, axs =  plt.subplots(nrows=rows, ncols=2, sharex='col', figsize=(12, 10), dpi=100)\n",
    "    fig.subplots_adjust(wspace=0.1, hspace=0.2)\n",
    "    ax = axs.flat\n",
    "    \n",
    "    for i, n_configs in enumerate(n_cfs_arr):\n",
    "        \n",
    "        gn, acc = markov_chain(n_sites=n_sites, n_configs=n_configs * bin_size, v=v, m=m, a=a, dx=dx, n_corr=n_corr, action = action_original)\n",
    "        gn_improved, acc_improved = markov_chain(n_sites=n_sites, n_configs=n_configs * bin_size, v=v, m=m, a=a, dx=dx, n_corr=n_corr, action = action_improved)\n",
    "        binned_g = binning(g=gn, bin_size=bin_size)\n",
    "        binned_g_improved = binning(g=gn_improved, bin_size=bin_size)\n",
    "        \n",
    "        #############################################################################################\n",
    "        #Original Action\n",
    "        \n",
    "        avg_binned = np.mean(binned_g, 0)\n",
    "        err_binned = np.std(binned_g, 0)\n",
    "        avg_shift_binned = np.roll(avg_binned, -1)\n",
    "        err_shift_binned = np.roll(err_binned, -1)\n",
    "        \n",
    "        E_eff_binned = np.log(np.divide(avg_binned, avg_shift_binned)) / a\n",
    "        E_eff_err_binned = np.sqrt(np.divide(err_binned, avg_binned)**2 + np.divide(err_shift_binned, avg_shift_binned)**2)/ a / np.sqrt(n_configs/bin_size)\n",
    "    \n",
    "        #############################################################################################\n",
    "        #Improved Action\n",
    "        \n",
    "        avg_binned_improved = np.mean(binned_g_improved, 0)\n",
    "        err_binned_improved = np.std(binned_g_improved, 0)\n",
    "        avg_shift_binned_improved = np.roll(avg_binned_improved, -1)\n",
    "        err_shift_binned_improved = np.roll(err_binned_improved, -1)\n",
    "        \n",
    "        E_eff_binned_improved = np.log(np.divide(avg_binned_improved, avg_shift_binned_improved)) / a\n",
    "        E_eff_err_binned_improved = np.sqrt(np.divide(err_binned_improved, avg_binned_improved)**2 + np.divide(err_shift_binned_improved, avg_shift_binned_improved)**2)/ a / np.sqrt(n_configs/bin_size)\n",
    "    \n",
    "    \n",
    "        #############################################################################################\n",
    "        #PLotting\n",
    "        t = np.arange(0, n_sites * a, a)\n",
    "        \n",
    "        ax[2*i].errorbar(t, E_eff_binned, yerr=E_eff_err_binned, fmt='o',  markersize=2, color='k')\n",
    "        ax[2*i].tick_params(bottom=\"off\", top=\"off\", left=\"off\", right=\"off\")\n",
    "        ax[2*i].set_title(\"Effective Energy for N_configs: \" + str(n_configs))\n",
    "        ax[2*i].set_xlim(0, 10)\n",
    "        ax[2*i].set_ylim(-4, 4)\n",
    "        ax[2*i].set_xticks([0, 2, 4, 6, 8, 10])\n",
    "        ax[2*i].set_yticks([-4, -2, 0, 2, 4])\n",
    "        ax[2*i].axhline(y=1, color='r', linestyle='-')\n",
    "            \n",
    "        ax[2*i+1].errorbar(t, E_eff_binned_improved, yerr=E_eff_err_binned_improved, fmt='o',  markersize=2, color='k')\n",
    "        ax[2*i+1].tick_params(bottom=\"off\", top=\"off\", left=\"off\", right=\"off\")\n",
    "        ax[2*i+1].set_title(\"Improved Effective Energy for N_configs: \" + str(n_configs))\n",
    "        ax[2*i+1].set_xlim(0, 10)\n",
    "        ax[2*i+1].set_ylim(-4, 4)\n",
    "        ax[2*i+1].set_xticks([0, 2, 4, 6, 8, 10])\n",
    "        ax[2*i+1].set_yticks([-4, -2, 0, 2, 4])\n",
    "        ax[2*i+1].axhline(y=1, color='r', linestyle='-')\n",
    "        \n",
    "    \n",
    "        print(\"Original acceptance Rate: \" + str(acc))\n",
    "        print(\"Improved acceptance Rate: \" + str(acc_improved))\n",
    "    plt.show()"
   ]
  },
  {
   "cell_type": "code",
   "execution_count": 7,
   "metadata": {
    "collapsed": false,
    "deletable": true,
    "editable": true
   },
   "outputs": [
    {
     "name": "stdout",
     "output_type": "stream",
     "text": [
      "Original acceptance Rate: 0.5020000000000002\n",
      "Improved acceptance Rate: 0.4571999999999999\n",
      "Original acceptance Rate: 0.494025\n",
      "Improved acceptance Rate: 0.46374999999999933\n",
      "Original acceptance Rate: 0.4957049999999981\n",
      "Improved acceptance Rate: 0.4591925\n",
      "Original acceptance Rate: 0.49634275000000283\n",
      "Improved acceptance Rate: 0.46048849999996544\n"
     ]
    },
    {
     "data": {
      "image/png": "[encoded data removed]",
      "text/plain": [
       "<matplotlib.figure.Figure at 0x7f3169870c88>"
      ]
     },
     "metadata": {},
     "output_type": "display_data"
    }
   ],
   "source": [
    "analysis(n_sites=20, n_cfs_arr=[25, 100, 1000, 10000], v=v_sho, m=1, a=0.5, dx=1.4, n_corr=1, bin_size = 20)"
   ]
  },
  {
   "cell_type": "markdown",
   "metadata": {
    "deletable": true,
    "editable": true
   },
   "source": [
    "Points at later times are more accurate for improved action, improved action does however approach from below due to new states introduced in discretization."
   ]
  },
  {
   "cell_type": "code",
   "execution_count": null,
   "metadata": {
    "collapsed": true,
    "deletable": true,
    "editable": true
   },
   "outputs": [],
   "source": []
  }
 ],
 "metadata": {
  "kernelspec": {
   "display_name": "Python 3",
   "language": "python",
   "name": "python3"
  },
  "language_info": {
   "codemirror_mode": {
    "name": "ipython",
    "version": 3
   },
   "file_extension": ".py",
   "mimetype": "text/x-python",
   "name": "python",
   "nbconvert_exporter": "python",
   "pygments_lexer": "ipython3",
   "version": "3.5.2"
  }
 },
 "nbformat": 4,
 "nbformat_minor": 2
}
