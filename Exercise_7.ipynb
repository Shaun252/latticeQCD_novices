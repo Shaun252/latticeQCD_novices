{
 "cells": [
  {
   "cell_type": "markdown",
   "metadata": {},
   "source": [
    "# Exercise 7: Numerical Equations of Motion, Frequency and Avoiding Ghost States"
   ]
  },
  {
   "cell_type": "markdown",
   "metadata": {},
   "source": [
    "### Equation of motion for unimproved action\n",
    "\n",
    "Starting with the unimproved action\n",
    "\n",
    "\\begin{eqnarray*}\n",
    "S &=& a\\sum_{j=0}^{\\infty} -\\frac{1}{2} m x_j \\Delta^{(2)} x_j+V(x_j)  \\\\\n",
    "&=& a\\sum_{j=0}^{\\infty} -\\frac{1}{2} m x_j \\frac{x_{j+1}-2 x_j + x_{j-1}}{a^2}+V(x_j) \n",
    "\\end{eqnarray*}\n",
    "\n",
    "Taking the derivative wrt $x_l$\n",
    "\n",
    "\\begin{eqnarray*}\n",
    "\\frac{\\partial S}{\\partial x_l} &=& a\\sum_{j=0}^{\\infty} -\\frac{1}{2}m \\left[\\frac{\\partial x_j}{\\partial x_l} \\frac{x_{j+1}-2x_j+x_{j-1}}{a^2} + x_j \\frac{\\partial }{\\partial x_l}\\left(\\frac{x_{j+1}-2x_j+x_{j-1}}{a^2}\\right)\\right] + \\frac{\\partial V(x_j)}{\\partial x_l}   \\\\\n",
    "&=& a\\sum_{j=0}^{\\infty} -\\frac{1}{2}m \\left[\\delta_{lj} \\frac{x_{j+1}-2x_j+x_{j-1}}{a^2} + x_j \\frac{1}{a^2} \\delta_{l,j+1} - 2\\delta_{lj} + \\delta_{l,j-1} \\right] + \\frac{\\partial V(x_j)}{\\partial x_j} \\delta_{lj}  \\\\\n",
    "&=& a\\left[-\\frac{1}{2}m \\left[ \\frac{x_{l+1}-2x_l+x_{l-1}}{a^2} + \\frac{x_{l-1}-2x_l+x_{l+1}}{a^2} \\right] +\\frac{\\partial V(x_l)}{\\partial x_l}\\right] \\\\\n",
    "&=& a\\left[ -m\\frac{x_{l+1}-2x_l+x_{l-1}}{a^2} + \\frac{\\partial V(x_l)}{\\partial x_l} \\right]  \\\\\n",
    "\\end{eqnarray*}\n",
    "\n",
    "Setting $\\frac{\\partial S}{\\partial x_l} = 0$\n",
    "\n",
    "\\begin{eqnarray*}\n",
    "m\\frac{x_{l+1}-2x_l+x_{l-1}}{a^2} = \\frac{\\partial V(x_l)}{\\partial x_l} \\\\\n",
    "m \\Delta^{(2)} x_l = \\frac{\\partial V(x_l)}{\\partial x_l} \n",
    "\\end{eqnarray*}"
   ]
  },
  {
   "cell_type": "markdown",
   "metadata": {},
   "source": [
    "### Numerical Frequency\n",
    "\n",
    "Choosing $V(x) = \\frac{1}{2}m\\omega_0^2 x^2$ we have\n",
    "\n",
    "\\begin{eqnarray*}\n",
    "\\frac{x_{j+1}-2x_j+x_{j-1}}{a^2} &=& \\omega_0^2 x_j \\nonumber \\\\\n",
    "x_{j+1}+x_{j-1} &=& (2+(a\\omega_0)^2) x_j \\nonumber\n",
    "\\end{eqnarray*}\n",
    "\n",
    "Ansatz solution of $x_j = e^{-\\omega ja}$ gives\n",
    "\n",
    "\\begin{eqnarray*}\n",
    "e^{-\\omega (j+1)a}+e^{-\\omega (j-1)a} &=& (2+(a\\omega_0)^2) e^{-\\omega ja} \\nonumber \\\\\n",
    "2\\cosh(a\\omega) &=& 2+(a\\omega_0)^2 \\nonumber\n",
    "\\end{eqnarray*}"
   ]
  },
  {
   "cell_type": "markdown",
   "metadata": {},
   "source": [
    "We expand \n",
    "\n",
    "\\begin{eqnarray*}\n",
    "\\cosh(a\\omega) = 1+\\frac{(a\\omega_0)^2}{2}\n",
    "\\end{eqnarray*}"
   ]
  },
  {
   "cell_type": "code",
   "execution_count": 46,
   "metadata": {},
   "outputs": [
    {
     "data": {
      "image/png": "[encoded data removed]",
      "text/latex": [
       "$$1 + \\frac{a^{2} w^{2}}{2} + \\frac{a^{4} w^{4}}{24} + \\frac{a^{6} w^{6}}{720} + \\mathcal{O}\\left(a^{8}\\right)$$"
      ],
      "text/plain": [
       "     2  2    4  4    6  6        \n",
       "    a ⋅w    a ⋅w    a ⋅w     ⎛ 8⎞\n",
       "1 + ───── + ───── + ───── + O⎝a ⎠\n",
       "      2       24     720         "
      ]
     },
     "execution_count": 46,
     "metadata": {},
     "output_type": "execute_result"
    }
   ],
   "source": [
    "import sympy as sp\n",
    "from sympy import init_printing\n",
    "init_printing(use_latex = True)\n",
    "a, w = sp.symbols('a w')\n",
    "func2 = sp.cosh(a*w)\n",
    "\n",
    "func2.series(a, n=8)"
   ]
  },
  {
   "cell_type": "markdown",
   "metadata": {},
   "source": [
    "\\begin{eqnarray*}\n",
    "1 + \\frac{a^{2} \\omega^{2}}{2} + \\frac{a^{4} \\omega^{4}}{24} + \\mathcal{O}\\left((a\\omega)^{6}\\right) &=& = 1+\\frac{(a\\omega_0)^2}{2} \\\\\n",
    "\\frac{a^{2} \\omega^{2}}{2} &=& \\frac{(a\\omega_0)^2}{2} - \\frac{a^{4} \\omega^{4}}{24} - \\mathcal{O}\\left((a\\omega)^{6}\\right) \\\\\n",
    "\\omega^{2} &=& \\omega_0^2 - \\frac{a^2 \\omega^{4}}{12} - \\mathcal{O}\\left(a^{4}\\omega^{6}\\right) \\\\\n",
    "\\omega^{2} &=& \\omega_0^2\\left[1 - \\frac{a^2 \\omega_0^{2}}{12} - \\mathcal{O}\\left((a\\omega)^{4}\\right)\\right] \\\\\n",
    "\\end{eqnarray*}"
   ]
  },
  {
   "cell_type": "markdown",
   "metadata": {},
   "source": [
    "### Improved Action\n",
    "\n",
    "In a similar fashion as above the equations of motion can be derivied for the improved action of the form\n",
    "\n",
    "\\begin{eqnarray*}\n",
    "S &=& a\\sum_{j=0}^{\\infty} -\\frac{1}{2} m x_j \\left(\\Delta^{(2)}- \\frac{a^2}{12} (\\Delta^{(2)})^2\\right) x_j+V(x_j) \\nonumber \\\\\n",
    "&=& a\\sum_{j=0}^{\\infty} -\\frac{1}{2} m x_j \\frac{-x_{j+2}+16x_{j+1}-30 x_j + 16x_{j-1}-x_{j-2}}{12 a^2}+V(x_j) \\nonumber\n",
    "\\end{eqnarray*} \n",
    "\n",
    "by setting $\\frac{\\partial S}{\\partial x_l} = 0$. Giving\n",
    "\n",
    "\\begin{eqnarray*}\n",
    "m \\left(\\Delta^{(2)}- \\frac{a^2}{12} (\\Delta^{(2)})^2\\right) x_l &=& \\frac{\\partial V(x_l)}{\\partial x_l} \\nonumber \\\\\n",
    "\\frac{-x_{j+2}+16x_{j+1}-30 x_j + 16x_{j-1}-x_{j-2}}{12 a^2} &=& \\omega_0^2 x_j \\nonumber \\\\\n",
    "\\end{eqnarray*}\n",
    "\n",
    "with $V(x) = \\frac{1}{2}m\\omega_0^2 x^2$. \n",
    "\n",
    "Once again using the ansatz $x_j = e^{-\\omega ja}$\n",
    "\n",
    "\\begin{eqnarray*}\n",
    "-e^{-\\omega (j+2)a}+16e^{-\\omega (j+1)a}-30 e^{-\\omega ja} + 16e^{-\\omega (j-1)a}-e^{-\\omega (j-2)a} &=& 12(a\\omega_0)^2  e^{-\\omega ja} \\nonumber \\\\\n",
    "-e^{-\\omega 2a} -e^{-\\omega -2a} +16e^{-\\omega a} + 16e^{-\\omega -a} &=&30+ 12(a\\omega_0)^2 \\nonumber \\\\\n",
    "-2\\cosh(2a \\omega) +32\\cosh(a\\omega) &=&30+ 12(a\\omega_0)^2 \\nonumber \\\\\n",
    "\\cosh(2a \\omega) - 16\\cosh(a\\omega) &=& -15 - 6(a\\omega_0)^2 \\nonumber \\\\\n",
    "2 \\cosh^2(a\\omega)-1 - 16\\cosh(a\\omega) &=&-15 - 6(a\\omega_0)^2 \\nonumber \\\\\n",
    "\\cosh^2(a\\omega) - 8\\cosh(a\\omega) &=& -7 -3(a\\omega_0)^2 \\nonumber \\\\\n",
    "\\cosh^2(a\\omega) - 8\\cosh(a\\omega) + 7 + 3(a\\omega_0)^2 &=& 0 \\nonumber\\\\\n",
    "\\end{eqnarray*}\n",
    "\n",
    "So\n",
    "\n",
    "\\begin{eqnarray*}\n",
    "\\cosh (a\\omega_{\\pm}) &=& \\frac{8 \\pm \\sqrt{64-4(7 + 3(a\\omega_0)^2)}}{2} \\nonumber\\\\\n",
    "&=& \\frac{8 \\pm \\sqrt{36 - 12(a\\omega_0)^2}}{2} \\nonumber \\\\\n",
    "&=& 4 \\pm \\sqrt{9 - 3(a\\omega_0)^2} \\nonumber \\\\\n",
    "\\end{eqnarray*}\n",
    "\n",
    "or\n",
    "\n",
    "\\begin{eqnarray*}\n",
    "\\omega_{\\pm}^2 &=& \\frac{1}{a^2}\\mathrm{arccosh}^2\\left(4 \\pm \\sqrt{9 - 3(a\\omega_0)^2}\\right) \\nonumber\\\\\n",
    "\\end{eqnarray*}\n",
    "\n",
    "Using sympy to expand $\\mathrm{arccosh}^2\\left(4 \\pm \\sqrt{9 - 3(x)^2}\\right)$ as a taylor series in x is wrong. Instead we expand the left hand side of\n",
    "\n",
    "\\begin{eqnarray*}\n",
    "-\\frac{1}{3}\\left(\\cosh^2(a\\omega) - 8\\cosh(a\\omega) + 7\\right) = (a\\omega_0)^2\\\\\n",
    "\\end{eqnarray*}"
   ]
  },
  {
   "cell_type": "code",
   "execution_count": 47,
   "metadata": {},
   "outputs": [
    {
     "data": {
      "image/png": "[encoded data removed]",
      "text/latex": [
       "$$a^{2} w^{2} - \\frac{a^{6} w^{6}}{90} - \\frac{a^{8} w^{8}}{1008} + \\mathcal{O}\\left(a^{10}\\right)$$"
      ],
      "text/plain": [
       "         6  6    8  8         \n",
       " 2  2   a ⋅w    a ⋅w     ⎛ 10⎞\n",
       "a ⋅w  - ───── - ───── + O⎝a  ⎠\n",
       "          90     1008         "
      ]
     },
     "execution_count": 47,
     "metadata": {},
     "output_type": "execute_result"
    }
   ],
   "source": [
    "new_func = -(sp.cosh(a*w)**2 - 8*sp.cosh(a*w) + 7)/3\n",
    "new_func.series(a, n=10)\n",
    "#sp.series(sp.acosh(4 + sp.sqrt(9 + 3 * (x)**2))**2, x)"
   ]
  },
  {
   "cell_type": "markdown",
   "metadata": {
    "collapsed": true
   },
   "source": [
    "Which gives\n",
    "\n",
    "\\begin{eqnarray*}\n",
    "\\omega^{2} a^{2} - \\frac{\\omega^{6} a^{6}}{90} - \\mathcal{O}\\left((a\\omega)^{8}\\right) = a^2 \\omega_0^2 \\\\\n",
    "\\omega^{2} - \\frac{\\omega^{6} a^{4}}{90} - \\mathcal{O}\\left(a^6\\omega^{8}\\right) = \\omega_0^2 \\\\\n",
    "\\omega^{2} = \\omega_0^2 + \\frac{\\omega^{6} a^{4}}{90} + \\mathcal{O}\\left(a^6\\omega^{8}\\right)  \\\\\n",
    "\\omega^{2} = \\omega_0^2\\left[1 + \\frac{\\omega_0^{4} a^{4}}{90} + \\mathcal{O}\\left(a^6\\omega^{6}\\right)\\right]  \\\\\n",
    "\\end{eqnarray*}"
   ]
  },
  {
   "cell_type": "markdown",
   "metadata": {
    "collapsed": true
   },
   "source": [
    "Other solution comes from setting $\\omega_0 = 0$. This solution corresponds to ghost states which we dont want and are responsable for the effective energy plot approaching from below in the improved action. We have\n",
    "\n",
    "\\begin{eqnarray*}\n",
    "-\\frac{1}{3}\\left(\\cosh^2(a\\omega) - 8\\cosh(a\\omega) + 7\\right) = 0 \n",
    "\\end{eqnarray*}\n",
    "\n",
    "Solving for $\\cosh(a\\omega)$ gives\n",
    "\n",
    "\\begin{eqnarray*}\n",
    "\\cosh(a\\omega) = 1, 7 \n",
    "\\end{eqnarray*}\n",
    "\n",
    "The $1$ gives a complex solution, the 7 gives\n",
    "\n",
    "\\begin{eqnarray*}\n",
    "a\\omega \\approx 2.6\n",
    "\\end{eqnarray*}\n",
    "\n",
    "\n",
    "which is the required result"
   ]
  },
  {
   "cell_type": "markdown",
   "metadata": {
    "collapsed": true
   },
   "source": [
    "### Avoiding Ghosts\n",
    "\n",
    "The next step is to incorparate the $\\frac{a^2 \\omega_0^{2}}{12}$ correction calculated in the first part into the unimproved action to obtain something which is accurate up to $\\mathcal{O}(a^4)$ but doesn't contain the ghost states of the improved action.\n",
    "\n",
    "We can show this is equivalent to our improved action with an additional variable change $x_j \\to \\bar{x}_j$ where\n",
    "\n",
    "\\begin{eqnarray*}\n",
    "x_j = \\bar{x}_j + \\delta \\bar{x}_j \\\\\n",
    "\\delta \\bar{x}_j = \\xi_1 a^2 \\Delta^{(2)} \\bar{x}_j + \\xi_2 a^2 \\omega_0^2 \\bar{x}_j \n",
    "\\end{eqnarray*}\n",
    "\n",
    "Using\n",
    "\n",
    "\\begin{eqnarray*}\n",
    "S[x] &=& S[\\bar{x}+\\delta \\bar{x}]\\\\\n",
    "&=& S[\\bar{x}] + \\sum_j \\delta \\bar{x}_j \\frac{\\partial S[\\bar{x}]}{\\partial \\bar{x}_j} + \\mathcal{O}(a^4)\\\\\n",
    "&\\equiv& \\bar{S}[\\bar{x}] + \\mathcal{O}(a^4)\n",
    "\\end{eqnarray*}\n",
    "\n",
    "\n",
    "To determine $\\xi_1$ and $\\xi_2$ we demand that the action has the form\n",
    "\n",
    "\\begin{eqnarray*}\n",
    "\\bar{S}[\\bar{x}] &=& a \\sum_{j=0}^{N-1} \\left[ -\\frac{1}{2}m \\bar{x}_j \\Delta^{(2)} \\bar{x}_j + \\bar{V}(\\bar{x}_j) \\right] \n",
    "\\end{eqnarray*}\n",
    "\n",
    "with an improved potential containing the second order correction to $\\omega_0^2$ \n",
    "\n",
    "\\begin{eqnarray*}\n",
    "\\bar{V}(\\bar{x}_j) = \\frac{1}{2}m \\omega_0^2 \\bar{x}_j^2 \\left(1+\\frac{(a\\omega_0)^2}{12}\\right)\n",
    "\\end{eqnarray*}\n",
    "\n",
    "We have then\n",
    "\n",
    "\\begin{eqnarray*}\n",
    "S[\\bar{x}] &=& am \\sum_{j=0}^{\\infty} -\\frac{1}{2} x_j \\left(\\Delta^{(2)}- \\frac{a^2}{12} (\\Delta^{(2)})^2\\right) x_j + \\frac{1}{2}\\omega_0^2 \\bar{x}_j^2  \\\\\n",
    "\\frac{\\partial S[\\bar{x}]}{\\partial \\bar{x}_j} &=& am\\left[ -\\left(\\Delta^{(2)}- \\frac{a^2}{12} (\\Delta^{(2)})^2\\right) \\bar{x}_j + \\omega_0^2 \\bar{x}_j \\right]\n",
    "\\end{eqnarray*}\n",
    "\n",
    "So\n",
    "\n",
    "\\begin{eqnarray*}\n",
    "S[\\bar{x}] + \\sum_j \\delta \\bar{x}_j \\frac{\\partial S[\\bar{x}]}{\\partial \\bar{x}_j} \n",
    "&=& am \\sum_{j=0}^{N-1} \\left[ -\\frac{1}{2} \\bar{x}_j \\left(\\Delta^{(2)}- \\frac{a^2}{12} (\\Delta^{(2)})^2\\right) \\bar{x}_j + \\frac{1}{2}\\omega_0^2 \\bar{x}_j^2 + \\left( -\\left(\\Delta^{(2)}- \\frac{a^2}{12} (\\Delta^{(2)})^2\\right)\\bar{x}_j + \\omega_0^2 \\bar{x}_j \\right) \\left( \\xi_1 a^2 \\Delta^{(2)} \\bar{x}_j + \\xi_2 a^2 \\omega_0^2 \\bar{x}_j  \\right) \\right] \\\\\n",
    "&=& am \\sum_{j=0}^{N-1} \\left[ \\overset{(1)}{-\\frac{1}{2} \\bar{x}_j \\Delta^{(2)} \\bar{x}_j} + \\overset{(2)}{\\bar{x}_j  \\frac{a^2}{24} (\\Delta^{(2)})^2 \\bar{x}_j} + \\overset{(3)}{\\frac{1}{2}\\omega_0^2 \\bar{x}_j^2} -\\overset{(4)}{\\Delta^{(2)} \\bar{x}_j \\xi_1 a^2 \\Delta^{(2)} \\bar{x}_j} -\\overset{(5)}{\\Delta^{(2)} \\bar{x}_j\\xi_2 a^2 \\omega_0^2 \\bar{x}_j} + \\overset{(6)}{\\frac{a^2}{12} (\\Delta^{(2)})^2\\bar{x}_j \\xi_1 a^2 \\Delta^{(2)} \\bar{x}_j} \\right. \\\\\n",
    "&&\\left.+ \\overset{(7)}{\\frac{a^2}{12} (\\Delta^{(2)})^2\\bar{x}_j \\xi_2 a^2 \\omega_0^2 \\bar{x}_j} + \\overset{(8)}{\\omega_0^2 \\bar{x}_j\\xi_1 a^2 \\Delta^{(2)} \\bar{x}_j} + \\overset{(9)}{\\omega_0^2 \\bar{x}_j\\xi_2 a^2 \\omega_0^2 \\bar{x}_j} \\right]\n",
    "\\end{eqnarray*}\n",
    "\n",
    "Term $(1)$ is clearly just the first term in the $\\bar{S}[\\bar{x}]$ and term $(3)$ and $(8)$ can be combined to give $\\bar{V}[\\bar{x}]$\n",
    "\n",
    "\\begin{eqnarray*}\n",
    "\\frac{1}{2}m\\omega_0^2 \\bar{x}_j^2 + m\\omega_0^2 \\bar{x}_j\\xi_2 a^2 \\omega_0^2 \\bar{x}_j = \\frac{1}{2}m\\omega_0^2 \\bar{x}_j^2 \\left(1+24\\xi_2\\frac{(a\\omega_0)^2}{12}\\right)\n",
    "\\end{eqnarray*}\n",
    "\n",
    "Which gives $\\xi_2=\\frac{1}{24}$. Term $(2)$ and $(4)$ cancel if we 'integrate by parts' (twice for second derivative operator) and take $\\xi_1 = \\frac{1}{24}$. Terms $(5)$ and $(8)$ then cancel with eachother. So we are left with terms $(6)$ and $(7)$ which are fourth order in $a$ so we drop them."
   ]
  },
  {
   "cell_type": "markdown",
   "metadata": {},
   "source": [
    "### Jacobian\n",
    "\n",
    "We have that\n",
    "\n",
    "\\begin{eqnarray*}\n",
    "\\prod_{i=0}^{N-1} dx_i = \\prod_{l=0}^{N-1} d\\bar{x}_l \\det{\\left(\\frac{\\partial x_i}{\\partial \\bar{x}_l}\\right)}\n",
    "\\end{eqnarray*}\n",
    "\n",
    "So\n",
    "\n",
    "\\begin{eqnarray*}\n",
    "&& \\frac{\\partial x_i}{\\partial \\bar{x}_l} = \\frac{\\partial \\left(\\bar{x}_i+ \\xi_1 a^2 \\Delta^{(2)} \\bar{x}_i+ \\xi_2 a^2 \\omega_0^2 \\bar{x}_i\\right)}{\\partial \\bar{x}_l} \\\\\n",
    "&=& \\frac{\\partial \\left(\\bar{x}_i+ \\xi_1 (\\bar{x}_{i+1}-2\\bar{x}_i+\\bar{x}_{i-1})+ \\xi_2 a^2 \\omega_0^2 \\bar{x}_i\\right)}{\\partial \\bar{x}_l} \\\\\n",
    "&=& \\delta_{il} + \\xi_1 (\\delta_{i+1,l}-2\\delta_{il}+\\delta_{i-1,l}) + \\xi_2 a^2 \\omega_0^2 \\delta_{il} \\\\\n",
    "&=& \\delta_{il}(1-2 \\xi_1 + \\xi_2 a^2 \\omega_0^2) + \\delta_{i+1,l}\\xi_1 + \\delta_{i-1,l}\\xi_1 \n",
    "\\end{eqnarray*}\n",
    "\n",
    "This is a diagonal $2\\times2$ block matrix with determinant equal to the determinant of the $2\\times2$ block to the power of the dimension of the matrix $N$.\n",
    "\n",
    "\\begin{eqnarray*}\n",
    "\\det{\\left(\\frac{\\partial x_i}{\\partial \\bar{x}_l}\\right)} = \\left((1-2 \\xi_1 + \\xi_2 a^2 \\omega_0^2)^2 - \\xi_1^2\\right)^N\n",
    "\\end{eqnarray*}\n",
    "\n",
    "As this Jacobian has no dependence on $\\bar{x}_i$ we can pull it out in front of the path integral as a contributing normalisation factor. As our expectation values will have this normalisation in both the denominator and numerator it will just cancel and not affect the final result."
   ]
  },
  {
   "cell_type": "markdown",
   "metadata": {
    "collapsed": true
   },
   "source": [
    "### Numerical Test\n",
    "\n",
    "We rerun our simulation from exercise 6 with the improved potential."
   ]
  },
  {
   "cell_type": "code",
   "execution_count": 48,
   "metadata": {
    "collapsed": true
   },
   "outputs": [],
   "source": [
    "import numpy as np\n",
    "import matplotlib.pyplot as plt\n",
    "from functools import partial\n",
    "import vegas\n",
    "import warnings; warnings.simplefilter('ignore')\n",
    "\n",
    "%matplotlib inline\n",
    "\n",
    "#Harmonic\n",
    "def v_sho(x):\n",
    "    \n",
    "    return (x**2)/2"
   ]
  },
  {
   "cell_type": "markdown",
   "metadata": {},
   "source": [
    "### Actions\n",
    "\n",
    "Once again only the part of the actions containing $x_j$ is computed"
   ]
  },
  {
   "cell_type": "code",
   "execution_count": 49,
   "metadata": {
    "collapsed": true
   },
   "outputs": [],
   "source": [
    "def action_improved1(x, i, v, m, a):\n",
    "    ir1 = (i+1)%len(x)\n",
    "    ir2 = (i+2)%len(x)\n",
    "    il1 = (i-1)%len(x)\n",
    "    il2 = (i-2)%len(x)\n",
    "    return a *  v(x[i]) + (m/(12*a)) * x[i] * (x[il2]-16*x[il1]+15*x[i]-16*x[ir1]+x[ir2])\n",
    "\n",
    "def action_improved2(x, i, v, m, a):\n",
    "    ir = (i+1)%len(x) \n",
    "    il = (i-1)%len(x)\n",
    "    return a * (1+(a**2)/12.0) * v(x[i]) + (m/a) * x[i] * (x[i]-x[il]-x[ir])"
   ]
  },
  {
   "cell_type": "markdown",
   "metadata": {},
   "source": [
    "### Update function"
   ]
  },
  {
   "cell_type": "code",
   "execution_count": 50,
   "metadata": {
    "collapsed": true
   },
   "outputs": [],
   "source": [
    "def update(x, v, m, a, dx, action):\n",
    "    #Updates Every Point Once\n",
    "    accept = 0\n",
    "    for i in range(len(x)):\n",
    "        \n",
    "        x_old = x[i]\n",
    "        old_action = action(x=x, i=i, v=v, m=m, a=a)\n",
    "        \n",
    "        x[i] += np.random.uniform(-dx, dx)\n",
    "        new_action = action(x=x, i=i, v=v, m=m, a=a)\n",
    "        \n",
    "        diff = old_action - new_action\n",
    "        \n",
    "        r = np.minimum(1.0, np.exp(diff))\n",
    "    \n",
    "        if r < np.random.rand():\n",
    "            x[i] = x_old\n",
    "        \n",
    "        else:\n",
    "            accept += 1\n",
    "    \n",
    "    return x, accept / len(x)"
   ]
  },
  {
   "cell_type": "markdown",
   "metadata": {},
   "source": [
    "### Correlator"
   ]
  },
  {
   "cell_type": "code",
   "execution_count": 51,
   "metadata": {
    "collapsed": true
   },
   "outputs": [],
   "source": [
    "def G(x):\n",
    "    #Returns Array Gn = [G1, G2,...]\n",
    "    n = len(x)\n",
    "    g = np.zeros(n)\n",
    "    for j in range(n):\n",
    "        for i in range(n):\n",
    "            g[j] += (x[(i+j)%(n)]) *(x[i])\n",
    "            \n",
    "    return g/n"
   ]
  },
  {
   "cell_type": "markdown",
   "metadata": {},
   "source": [
    "### Function to generate ensembles"
   ]
  },
  {
   "cell_type": "code",
   "execution_count": 52,
   "metadata": {
    "collapsed": true
   },
   "outputs": [],
   "source": [
    "def markov_chain(n_sites, n_configs, v, m, a, dx, n_corr, action):\n",
    "    \n",
    "    acceptance = 0\n",
    "    config = np.zeros((n_sites))\n",
    "    gn = []\n",
    "    \n",
    "    #Thermalise\n",
    "    for i in range(10*n_corr):\n",
    "        config = update(config, v, m, a, dx, action)[0]\n",
    "\n",
    "\n",
    "    for i in range(n_configs*n_corr):\n",
    "        config, acc = update(config, v, m, a, dx, action)\n",
    "        acceptance += acc\n",
    "        \n",
    "        if i % n_corr == 0:\n",
    "            gn.append(G(config))\n",
    "            \n",
    "    acceptance = acceptance / (n_configs*n_corr)       \n",
    "    return gn, acceptance"
   ]
  },
  {
   "cell_type": "markdown",
   "metadata": {},
   "source": [
    "### Analysis"
   ]
  },
  {
   "cell_type": "code",
   "execution_count": 53,
   "metadata": {
    "collapsed": true
   },
   "outputs": [],
   "source": [
    "def binning(g, bin_size):\n",
    "    g_binned = []\n",
    "    for i in range(0, len(g), bin_size):\n",
    "        bin_val = np.mean(g[i:i+bin_size],0)\n",
    "        g_binned.append(bin_val)\n",
    "\n",
    "    return g_binned\n",
    "\n",
    "\n",
    "def analysis(n_sites, n_cfs_arr, v, m, a, dx, n_corr, bin_size):\n",
    "    \n",
    "    rows = len(n_cfs_arr)\n",
    "    fig, axs =  plt.subplots(nrows=rows, ncols=2, sharex='col', figsize=(12, 10), dpi=100)\n",
    "    fig.subplots_adjust(wspace=0.1, hspace=0.2)\n",
    "    ax = axs.flat\n",
    "    \n",
    "    for i, n_configs in enumerate(n_cfs_arr):\n",
    "        \n",
    "        gn_improved1, acc1 = markov_chain(n_sites=n_sites, n_configs=n_configs * bin_size, v=v, m=m, a=a, dx=dx, n_corr=n_corr, action = action_improved1)\n",
    "        gn_improved2, acc2 = markov_chain(n_sites=n_sites, n_configs=n_configs * bin_size, v=v, m=m, a=a, dx=dx, n_corr=n_corr, action = action_improved2)\n",
    "        binned_g_improved1 = binning(g=gn_improved1, bin_size=bin_size)\n",
    "        binned_g_improved2 = binning(g=gn_improved2, bin_size=bin_size)\n",
    "        \n",
    "        #############################################################################################\n",
    "        #Ghost action\n",
    "        \n",
    "        avg_binned_improved1 = np.mean(binned_g_improved1, 0)\n",
    "        err_binned_improved1 = np.std(binned_g_improved1, 0)\n",
    "        avg_shift_binned_improved1 = np.roll(avg_binned_improved1, -1)\n",
    "        err_shift_binned_improved1 = np.roll(err_binned_improved1, -1)\n",
    "        \n",
    "        E_eff_binned_improved1 = np.log(np.divide(avg_binned_improved1, avg_shift_binned_improved1)) / a\n",
    "        E_eff_err_binned_improved1 = np.sqrt(np.divide(err_binned_improved1, avg_binned_improved1)**2 + np.divide(err_shift_binned_improved1, avg_shift_binned_improved1)**2)/ a / np.sqrt(n_configs/bin_size)\n",
    "    \n",
    "        #############################################################################################\n",
    "        #Action w/o ghosts\n",
    "        \n",
    "        avg_binned_improved2 = np.mean(binned_g_improved2, 0)\n",
    "        err_binned_improved2 = np.std(binned_g_improved2, 0)\n",
    "        avg_shift_binned_improved2 = np.roll(avg_binned_improved2, -1)\n",
    "        err_shift_binned_improved2 = np.roll(err_binned_improved2, -1)\n",
    "        \n",
    "        E_eff_binned_improved2 = np.log(np.divide(avg_binned_improved2, avg_shift_binned_improved2)) / a\n",
    "        E_eff_err_binned_improved2 = np.sqrt(np.divide(err_binned_improved2, avg_binned_improved2)**2 + np.divide(err_shift_binned_improved2, avg_shift_binned_improved2)**2)/ a / np.sqrt(n_configs/bin_size)\n",
    "    \n",
    "    \n",
    "        #############################################################################################\n",
    "        #PLotting\n",
    "        t = np.arange(0, n_sites * a, a)\n",
    "        \n",
    "        ax[2*i].errorbar(t, E_eff_binned_improved1, yerr=E_eff_err_binned_improved1, fmt='o',  markersize=2, color='k')\n",
    "        ax[2*i].tick_params(bottom=\"off\", top=\"off\", left=\"off\", right=\"off\")\n",
    "        ax[2*i].set_title(\"Ghost Action Effective Energy for N_configs: \" + str(n_configs))\n",
    "        ax[2*i].set_xlim(0, 3)\n",
    "        ax[2*i].set_ylim(-2, 2)\n",
    "        ax[2*i].set_xticks([0, 1, 3])\n",
    "        ax[2*i].set_yticks([-2, -1, 0, 1, 2])\n",
    "        ax[2*i].axhline(y=1, color='r', linestyle='-')\n",
    "            \n",
    "        ax[2*i+1].errorbar(t, E_eff_binned_improved2, yerr=E_eff_err_binned_improved2, fmt='o',  markersize=2, color='k')\n",
    "        ax[2*i+1].tick_params(bottom=\"off\", top=\"off\", left=\"off\", right=\"off\")\n",
    "        ax[2*i+1].set_title(\"Modified Potential Effective Energy for N_configs: \" + str(n_configs))\n",
    "        ax[2*i+1].set_xlim(0, 3)\n",
    "        ax[2*i+1].set_ylim(-2, 2)\n",
    "        ax[2*i+1].set_xticks([0, 1, 3])\n",
    "        ax[2*i+1].set_yticks([-2, -1, 0, 1, 2])\n",
    "        ax[2*i+1].axhline(y=1, color='r', linestyle='-')\n",
    "        \n",
    "    \n",
    "        print(\"Ghost action acceptance Rate: \" + str(acc1))\n",
    "        print(\"Modified Potential action acceptance Rate: \" + str(acc2))\n",
    "    plt.show()"
   ]
  },
  {
   "cell_type": "code",
   "execution_count": 54,
   "metadata": {},
   "outputs": [
    {
     "name": "stdout",
     "output_type": "stream",
     "text": [
      "Ghost action acceptance Rate: 0.45930000000000026\n",
      "Modified Potential action acceptance Rate: 0.4944999999999997\n",
      "Ghost action acceptance Rate: 0.45872499999999966\n",
      "Modified Potential action acceptance Rate: 0.4998000000000005\n",
      "Ghost action acceptance Rate: 0.4603024999999956\n",
      "Modified Potential action acceptance Rate: 0.4967424999999998\n",
      "Ghost action acceptance Rate: 0.4604607499999737\n",
      "Modified Potential action acceptance Rate: 0.49585625000000333\n"
     ]
    },
    {
     "data": {
      "image/png": "[encoded data removed]",
      "text/plain": [
       "<matplotlib.figure.Figure at 0x7fb9a8dc62b0>"
      ]
     },
     "metadata": {},
     "output_type": "display_data"
    }
   ],
   "source": [
    "analysis(n_sites=20, n_cfs_arr=[25, 100, 1000, 10000], v=v_sho, m=1, a=0.5, dx=1.4, n_corr=1, bin_size = 20)"
   ]
  },
  {
   "cell_type": "markdown",
   "metadata": {},
   "source": [
    "We can clearly see the value approaches asymptotically from above for the modified potential action."
   ]
  },
  {
   "cell_type": "code",
   "execution_count": null,
   "metadata": {
    "collapsed": true
   },
   "outputs": [],
   "source": []
  }
 ],
 "metadata": {
  "kernelspec": {
   "display_name": "Python 3",
   "language": "python",
   "name": "python3"
  },
  "language_info": {
   "codemirror_mode": {
    "name": "ipython",
    "version": 3
   },
   "file_extension": ".py",
   "mimetype": "text/x-python",
   "name": "python",
   "nbconvert_exporter": "python",
   "pygments_lexer": "ipython3",
   "version": "3.6.4"
  }
 },
 "nbformat": 4,
 "nbformat_minor": 2
}
