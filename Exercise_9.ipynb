{
 "cells": [
  {
   "cell_type": "markdown",
   "metadata": {
    "deletable": true,
    "editable": true
   },
   "source": [
    "# Exercise 9: Loop Expansions"
   ]
  },
  {
   "cell_type": "markdown",
   "metadata": {
    "deletable": true,
    "editable": true
   },
   "source": [
    "Attempt to compute eqn (93)\n",
    "\n",
    "$A_{\\mu}$, $A_{\\nu}$ can be $A_{x}$, $A_{y}$ or $A_{x}$, $A_{t}$ etc\n",
    "\n",
    "Similarly $dx_{\\mu}$ and $dx_{\\nu}$ can be $dx$ and $dy$ or $dx$ and $dt$.\n",
    "\n",
    "First we use Stokes (greens) theorem where $x_0$ is \"origin\" and $x= (0,0,0,0)+ \\hat{x}_\\mu + \\hat{x}_\\nu$\n",
    "\n",
    "\\begin{eqnarray*}\n",
    "\\oint_{\\mathcal{C}} A \\cdot dx &=& \\int_{-\\frac{a}{2}}^{\\frac{a}{2}}\\int_{-\\frac{a}{2}}^{\\frac{a}{2}} \\,dx_{\\mu} \\,dx_{\\nu} \\left[ \\partial_{\\mu} A_{\\nu}(x_0+x) - \\partial_{\\nu} A_{\\mu}(x_0+x) \\right]\n",
    "\\end{eqnarray*}\n",
    "\n",
    "Taylor expanding\n",
    "\n",
    "\\begin{eqnarray*}\n",
    "&& \\int_{-\\frac{a}{2}}^{\\frac{a}{2}}\\int_{-\\frac{a}{2}}^{\\frac{a}{2}} \\,dx_{\\mu} \\,dx_{\\nu} \\left[ \\partial_{\\mu} A_{\\nu}(x_0+x) - \\partial_{\\nu} A_{\\mu}(x_0+x) +\\ldots \\right] \\\\\n",
    "&=& \\int_{-\\frac{a}{2}}^{\\frac{a}{2}}\\int_{-\\frac{a}{2}}^{\\frac{a}{2}} \\,dx_{\\mu} \\,dx_{\\nu} \\left[ \\partial_{\\mu} A_{\\nu}(x_0) + x_{\\mu}\\partial_{\\mu}\\partial_{\\mu} A_{\\nu}(x_0) + x_{\\nu}\\partial_{\\nu}\\partial_{\\mu} A_{\\nu}(x_0) - \\partial_{\\nu} A_{\\mu}(x_0) - x_{\\mu}\\partial_{\\mu}\\partial_{\\nu} A_{\\mu}(x_0) - x_{\\nu}\\partial_{\\nu}\\partial_{\\nu} A_{\\mu}(x_0) +\\ldots \\right] \\\\\n",
    "&=& \\int_{-\\frac{a}{2}}^{\\frac{a}{2}}\\int_{-\\frac{a}{2}}^{\\frac{a}{2}} \\,dx_{\\mu} \\,dx_{\\nu} \\left[ \\partial_{\\mu} A_{\\nu}(x_0) - \\partial_{\\nu} A_{\\mu}(x_0) + x_{\\mu}\\partial_{\\mu} \\left (\\partial_{\\mu} A_{\\nu}(x_0) -\\partial_{\\nu} A_{\\mu}(x_0) \\right) + x_{\\nu}\\partial_{\\nu} \\left(\\partial_{\\mu} A_{\\nu}(x_0) - \\partial_{\\nu} A_{\\mu}(x_0) \\right) +\\ldots \\right] \\\\\n",
    "&=& \\int_{-\\frac{a}{2}}^{\\frac{a}{2}}\\int_{-\\frac{a}{2}}^{\\frac{a}{2}} \\,dx_{\\mu} \\,dx_{\\nu} \\left[ \\partial_{\\mu} A_{\\nu}(x_0) - \\partial_{\\nu} A_{\\mu}(x_0) + \\left( x_{\\mu}\\partial_{\\mu} + x_{\\nu}\\partial_{\\nu} \\right) \\left(\\partial_{\\mu} A_{\\nu}(x_0) - \\partial_{\\nu} A_{\\mu}(x_0) \\right) +\\ldots \\right]\n",
    "\\end{eqnarray*}\n",
    "\n",
    "Now expanding the second line to compare, ignoring $g$\n",
    "\n",
    "\\begin{eqnarray*}\n",
    "&& \\int_{-\\frac{a}{2}}^{\\frac{a}{2}}\\int_{-\\frac{a}{2}}^{\\frac{a}{2}} \\,dx_{\\mu} \\,dx_{\\nu} \\left[ F_{\\mu\\nu}(x_0) + \\left( x_{\\mu}D_{\\mu} + x_{\\nu}D_{\\nu} \\right)F_{\\mu\\nu}(x_0) +\\ldots \\right]\\\\\n",
    "&=& \\int_{-\\frac{a}{2}}^{\\frac{a}{2}}\\int_{-\\frac{a}{2}}^{\\frac{a}{2}} \\,dx_{\\mu} \\,dx_{\\nu} \\Big[  \\partial_{\\mu} A_{\\nu}(x_0) - \\partial_{\\nu} A_{\\mu}(x_0) +i\\left[A_{\\mu}(x_0), A_{\\nu}(x_0)\\right] + \\left( x_{\\mu}\\partial_{\\mu} + x_{\\nu}\\partial_{\\nu} \\right)\\left(\\partial_{\\mu} A_{\\nu}(x_0)- \\partial_{\\nu} A_{\\mu}(x_0) +i\\left[A_{\\mu}(x_0), A_{\\nu}(x_0) \\right] \\right) - \\left(i x_{\\mu}A_{\\mu}(x_0)+i x_{\\nu}A_{\\nu}(x_0)\\right)\\left(\\partial_{\\mu} A_{\\nu}(x_0) - \\partial_{\\nu} A_{\\mu}(x_0) +i\\left[A_{\\mu}(x_0), A_{\\nu}(x_0) \\right] \\right) +\\ldots \\Big] \\\\\n",
    "\\end{eqnarray*}\n",
    "\n",
    "If we choose a gauge (see reference 10 in the Lepage notes not 100% sure on this) where\n",
    "\\begin{eqnarray*}\n",
    "A_\\mu(x) &=& 0 \\ \\ \\ \\ \\text{for all   } x \\\\\n",
    "A_\\nu(x) &=& 0 \\ \\ \\ \\ \\text{for   } x=x_0\n",
    "\\end{eqnarray*}\n",
    "\n",
    "Then we see these expansions agree and since our final actions are gauge invariant we are free to work in this gauge. This gauge allows us to change partial derivatives to covariant derivatives when we write a taylor expansion in two dimensions. We just need to be aware of the fact $D_\\mu$ and $D_\\nu$ do not commute.\n",
    "\n",
    "So to go to the third line we actually need the third term in the expansion which form some reason was left out, the expansion with this term is then\n",
    "\\begin{eqnarray*}\n",
    "&& \\int_{-\\frac{a}{2}}^{\\frac{a}{2}}\\int_{-\\frac{a}{2}}^{\\frac{a}{2}} \\,dx_{\\mu} \\,dx_{\\nu} \\left[ F_{\\mu\\nu}(x_0) + \\left( x_{\\mu}D_{\\mu} + x_{\\nu}D_{\\nu} \\right)F_{\\mu\\nu}(x_0) + \\frac{1}{2}\\left( x^2_{\\mu}D^2_{\\mu} + x^2_{\\nu}D^2_{\\nu} + x_{\\nu}x_{\\mu}\\left(D_{\\nu}D_{\\mu}+D_{\\mu}D_{\\nu}\\right) \\right)F_{\\mu\\nu}(x_0) +\\ldots \\right]\\\\\n",
    "&=& \\int_{-\\frac{a}{2}}^{\\frac{a}{2}}\\,dx_{\\mu} \\left[ F_{\\mu\\nu}(x_0)\\big|x_{\\nu}\\big|_{-\\frac{a}{2}}^{\\frac{a}{2}} + \\left( \\big|x_{\\nu}\\big|_{-\\frac{a}{2}}^{\\frac{a}{2}}x_{\\mu}D_{\\mu} + \\frac{1}{2}\\big|x^2_{\\nu}\\big|_{-\\frac{a}{2}}^{\\frac{a}{2}}D_{\\nu} \\right)F_{\\mu\\nu}(x_0) + \\frac{1}{2}\\left( \\big|x_{\\nu}\\big|_{-\\frac{a}{2}}^{\\frac{a}{2}}x^2_{\\mu}D^2_{\\mu} + \\frac{1}{3}\\big|x^3_{\\nu}\\big|_{-\\frac{a}{2}}^{\\frac{a}{2}}D^2_{\\nu} + \\big|x^2_{\\nu}\\big|_{-\\frac{a}{2}}^{\\frac{a}{2}}x_{\\mu}\\left(D_{\\nu}D_{\\mu}+D_{\\mu}D_{\\nu}\\right) \\right)F_{\\mu\\nu}(x_0) +\\ldots \\right]\\\\\n",
    "&=& \\int_{-\\frac{a}{2}}^{\\frac{a}{2}}\\,dx_{\\mu} \\left[ aF_{\\mu\\nu}(x_0) + \\left( ax_{\\mu}D_{\\mu} \\right)F_{\\mu\\nu}(x_0) + \\frac{1}{2}\\left( ax^2_{\\mu}D^2_{\\mu} + \\frac{a^3}{12}D^2_{\\nu} \\right)F_{\\mu\\nu}(x_0) +\\ldots \\right]\\\\\n",
    "&=& a^2 F_{\\mu\\nu}(x_0) + \\frac{a^4}{24}\\left(D^2_{\\mu} + D^2_{\\nu}\\right)F_{\\mu\\nu}(x_0) +\\ldots\n",
    "\\end{eqnarray*}\n",
    "\n",
    "So from equation (92) we see we are taking the trace and as $A_\\mu$ is lie algebra valued i.e it can be expanded in the generators which are traceless hermitian matrices we are concerned with the first term, the identity and the 3rd term in the expansion. So we have\n",
    "\n",
    "\\begin{eqnarray*}\n",
    "P_{\\mu \\nu} &=& \\frac{1}{3} Tr\\left[I - \\frac{1}{2}g^2 \\left(a^2 F_{\\mu\\nu}(x_0) + \\frac{a^4}{24}\\left(D^2_{\\mu} + D^2_{\\nu}\\right)F_{\\mu\\nu}(x_0) \\right)^2 + \\ldots  \\right]\\\\\n",
    "&=&\\frac{1}{3} Tr\\left(I\\right) - \\frac{1}{6}g^2 Tr\\left[ a^4 F^2_{\\mu\\nu}(x_0) + \\frac{a^6}{12}F_{\\mu\\nu}(x_0)\\left(D^2_{\\mu} + D^2_{\\nu}\\right)F_{\\mu\\nu}(x_0) + \\ldots \\right]\\\\\n",
    "&=& 1 - g^2\\frac{a^4}{6} Tr\\left(F^2_{\\mu\\nu}(x_0)\\right) - g^2\\frac{a^6}{72}Tr\\left(F_{\\mu\\nu}(x_0)\\left(D^2_{\\mu} + D^2_{\\nu}\\right)F_{\\mu\\nu}(x_0)\\right) + \\ldots \\\\\n",
    "\\end{eqnarray*}\n",
    "\n",
    "So obviously the identity element here belongs to su3 and we are working in the fundamental 3x3 representation (why the factor of $\\frac{1}{3}$ is there). Also when I squared the sum, I used the trace to combine the cross terms and dropped the order $a^6$ term. So we get $c_1$ and $c_2$\n",
    "\n",
    "So our action is\n",
    "\n",
    "\\begin{eqnarray*}\n",
    "S_{wil} &=& \\beta \\sum_{x,\\ \\mu > \\nu} \\left(1-P_{\\mu \\nu}\\left(x_0\\right) \\right)\\\\\n",
    "&=& \\beta \\sum_{x,\\ \\mu > \\nu} g^2\\left[ \\frac{a^4}{6} Tr\\left(F^2_{\\mu\\nu}(x_0)\\right) + \\frac{a^6}{72}Tr\\left(F_{\\mu\\nu}(x_0)\\left(D^2_{\\mu} + D^2_{\\nu}\\right)F_{\\mu\\nu}(x_0)\\right) + \\ldots \\right] \\\\\n",
    "&=& \\int d^4x\\, \\sum_{\\mu > \\nu} \\left[ \\frac{1}{2} Tr\\left(F^2_{\\mu\\nu}(x_0)\\right) + \\frac{a^2}{24}Tr\\left(F_{\\mu\\nu}(x_0)\\left(D^2_{\\mu} + D^2_{\\nu}\\right)F_{\\mu\\nu}(x_0)\\right) + \\ldots \\right] \\\\\n",
    "\\end{eqnarray*}\n",
    "\n",
    "where we used \n",
    "\\begin{eqnarray*}\n",
    "a^4 \\ \\beta \\ g^2 \\sum_{x} &=& 3\\int d^4x\\, \\ \\ \\ \\ \\ \\text{with}\\ \\ \\ \\  \\beta =\\frac{6}{g^2}\n",
    "\\end{eqnarray*}\n",
    "Not sure where the extra $\\frac{1}{2}$ comes from as I thought $ a^4 \\sum_{x}=\\int d^4x$"
   ]
  },
  {
   "cell_type": "markdown",
   "metadata": {
    "deletable": true,
    "editable": true
   },
   "source": [
    "### Doing the exercise\n",
    "\n",
    "So after using stokes theorem our integration region will be for $T_{\\mu \\nu}$\n",
    "\n",
    "\\begin{eqnarray*}\n",
    "&& \\left(\\int_{-a}^{0}-\\int_{0}^{a}\\right)dx_{\\mu}\\,\\int_{-\\frac{a}{2}}^{\\frac{a}{2}}dx_{\\nu}\\, \\left[ F_{\\mu\\nu}(x_0) + \\left( x_{\\mu}D_{\\mu} + x_{\\nu}D_{\\nu} \\right)F_{\\mu\\nu}(x_0) + \\frac{1}{2}\\left( x^2_{\\mu}D^2_{\\mu} + x^2_{\\nu}D^2_{\\nu} + x_{\\nu}x_{\\mu}\\left(D_{\\nu}D_{\\mu}+D_{\\mu}D_{\\nu}\\right) \\right)F_{\\mu\\nu}(x_0) +\\ldots \\right]\\\\\n",
    "&=& \\left(\\int_{-a}^{0}-\\int_{0}^{a}\\right)dx_{\\mu}\\,\\left[ aF_{\\mu\\nu}(x_0) +  ax_{\\mu}D_{\\mu} F_{\\mu\\nu}(x_0) + \\frac{a}{2} x^2_{\\mu}D^2_{\\mu}F_{\\mu\\nu}(x_0) + \\frac{a^3}{24}D^2_{\\nu}F_{\\mu\\nu}(x_0) +\\ldots \\right]\\\\\n",
    "&=& -a^3 D_\\mu F_{\\mu\\nu} (x_0) + \\ldots\n",
    "\\end{eqnarray*}\n",
    "\n",
    "So\n",
    "\n",
    "\\begin{eqnarray*}\n",
    "T_{\\mu \\nu} &=& \\frac{1}{3} Tr\\left[I -\\frac{1}{2} a^6 \\left(D_\\mu F_{\\mu\\nu} (x_0) \\right)^2 + \\ldots  \\right]\\\\\n",
    "&=& 1 +\\frac{1}{6} a^6 Tr\\left(F_{\\mu\\nu} (x_0)D^2_\\mu F_{\\mu\\nu} (x_0) \\right) + \\ldots  \n",
    "\\end{eqnarray*}\n",
    "\n",
    "where we premptively integrated by parts in the second line (using our previous gauge condition). By symmetry we also have \n",
    "\n",
    "\\begin{eqnarray*}\n",
    "T_{\\nu \\mu} &=& 1 +\\frac{1}{6} a^6 Tr\\left(F_{\\mu\\nu} (x_0)D^2_\\nu F_{\\mu\\nu} (x_0) \\right) + \\ldots  \n",
    "\\end{eqnarray*}\n",
    "\n",
    "So\n",
    "\\begin{eqnarray*}\n",
    "\\frac{T_{\\mu \\nu} + T_{\\nu \\mu}}{12} &=& \\frac{1}{6} + \\frac{a^6}{72} Tr\\left(F_{\\mu\\nu} (x_0)\\left(D^2_\\mu + D^2_\\nu \\right) F_{\\mu\\nu} (x_0) \\right)\n",
    "\\end{eqnarray*}\n",
    "which when added to wilson action clearly cancels the order $a^2$ term and makes the action accurate to $\\mathcal{O}(a^4)$"
   ]
  },
  {
   "cell_type": "code",
   "execution_count": null,
   "metadata": {
    "collapsed": true,
    "deletable": true,
    "editable": true
   },
   "outputs": [],
   "source": []
  }
 ],
 "metadata": {
  "kernelspec": {
   "display_name": "Python 3",
   "language": "python",
   "name": "python3"
  },
  "language_info": {
   "codemirror_mode": {
    "name": "ipython",
    "version": 3
   },
   "file_extension": ".py",
   "mimetype": "text/x-python",
   "name": "python",
   "nbconvert_exporter": "python",
   "pygments_lexer": "ipython3",
   "version": "3.5.2"
  }
 },
 "nbformat": 4,
 "nbformat_minor": 2
}
