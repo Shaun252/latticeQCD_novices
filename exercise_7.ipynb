{
 "cells": [
  {
   "cell_type": "markdown",
   "metadata": {
    "deletable": true,
    "editable": true
   },
   "source": [
    "# Exercise 7: Numerical Equations of Motion, Frequency and Avoiding Ghost States"
   ]
  },
  {
   "cell_type": "markdown",
   "metadata": {
    "deletable": true,
    "editable": true
   },
   "source": [
    "### Equation of motion for unimproved action\n",
    "\n",
    "Starting with the unimproved action\n",
    "\n",
    "\\begin{eqnarray*}\n",
    "S &=& a\\sum_{j=0}^{\\infty} -\\frac{1}{2} m x_j \\Delta^{(2)} x_j+V(x_j)  \\\\\n",
    "&=& a\\sum_{j=0}^{\\infty} -\\frac{1}{2} m x_j \\frac{x_{j+1}-2 x_j + x_{j-1}}{a^2}+V(x_j) \n",
    "\\end{eqnarray*}\n",
    "\n",
    "Taking the derivative wrt $x_l$\n",
    "\n",
    "\\begin{eqnarray*}\n",
    "\\frac{\\partial S}{\\partial x_l} &=& a\\sum_{j=0}^{\\infty} -\\frac{1}{2}m \\left[\\frac{\\partial x_j}{\\partial x_l} \\frac{x_{j+1}-2x_j+x_{j-1}}{a^2} + x_j \\frac{\\partial }{\\partial x_l}\\left(\\frac{x_{j+1}-2x_j+x_{j-1}}{a^2}\\right)\\right] + \\frac{\\partial V(x_j)}{\\partial x_l}   \\\\\n",
    "&=& a\\sum_{j=0}^{\\infty} -\\frac{1}{2}m \\left[\\delta_{lj} \\frac{x_{j+1}-2x_j+x_{j-1}}{a^2} + x_j \\frac{1}{a^2} \\delta_{l,j+1} - 2\\delta_{lj} + \\delta_{l,j-1} \\right] + \\frac{\\partial V(x_j)}{\\partial x_j} \\delta_{lj}  \\\\\n",
    "&=& a\\left[-\\frac{1}{2}m \\left[ \\frac{x_{l+1}-2x_l+x_{l-1}}{a^2} + \\frac{x_{l-1}-2x_l+x_{l+1}}{a^2} \\right] +\\frac{\\partial V(x_l)}{\\partial x_l}\\right] \\\\\n",
    "&=& a\\left[ -m\\frac{x_{l+1}-2x_l+x_{l-1}}{a^2} + \\frac{\\partial V(x_l)}{\\partial x_l} \\right]  \\\\\n",
    "\\end{eqnarray*}\n",
    "\n",
    "Setting $\\frac{\\partial S}{\\partial x_l} = 0$\n",
    "\n",
    "\\begin{eqnarray*}\n",
    "m\\frac{x_{l+1}-2x_l+x_{l-1}}{a^2} = \\frac{\\partial V(x_l)}{\\partial x_l} \\\\\n",
    "m \\Delta^{(2)} x_l = \\frac{\\partial V(x_l)}{\\partial x_l} \n",
    "\\end{eqnarray*}"
   ]
  },
  {
   "cell_type": "markdown",
   "metadata": {
    "deletable": true,
    "editable": true
   },
   "source": [
    "### Numerical Frequency\n",
    "\n",
    "Choosing $V(x) = \\frac{1}{2}m\\omega_0^2 x^2$ we have\n",
    "\n",
    "\\begin{eqnarray}\n",
    "\\frac{x_{j+1}-2x_j+x_{j-1}}{a^2} &=& \\omega_0^2 x_j \\nonumber \\\\\n",
    "x_{j+1}+x_{j-1} &=& (2+(a\\omega_0)^2) x_j \\nonumber\n",
    "\\end{eqnarray}\n",
    "\n",
    "Ansatz solution of $x_j = e^{-\\omega ja}$ gives\n",
    "\n",
    "\\begin{eqnarray}\n",
    "e^{-\\omega (j+1)a}+e^{-\\omega (j-1)a} &=& (2+(a\\omega_0)^2) e^{-\\omega ja} \\nonumber \\\\\n",
    "2\\cosh(a\\omega) &=& 2+(a\\omega_0)^2 \\nonumber \\\\\n",
    "a\\omega &=& \\mathrm{arccosh}\\left(1+\\frac{(a\\omega_0)^2}{2}\\right) \\nonumber \\\\\n",
    "\\omega^2 &=& \\frac{1}{a^2} \\mathrm{arccosh}^2\\left(1+\\frac{(a\\omega_0)^2}{2}\\right) \\nonumber \\\\\n",
    "\\end{eqnarray}\n",
    "\n",
    "Now using sympy to compute the taylor expansion of $\\mathrm{arccosh}^2\\left(1+\\frac{(a\\omega_0)^2}{2}\\right)$"
   ]
  },
  {
   "cell_type": "code",
   "execution_count": 6,
   "metadata": {
    "collapsed": false,
    "deletable": true,
    "editable": true
   },
   "outputs": [
    {
     "data": {
      "image/png": "[encoded data removed]",
      "text/latex": [
       "$$\\omega_0^{2} a^{2} + \\mathcal{O}\\left(a^{6}\\right)$$"
      ],
      "text/plain": [
       "       2  2    ⎛ 6⎞\n",
       "\\omega₀ ⋅a  + O⎝a ⎠"
      ]
     },
     "execution_count": 6,
     "metadata": {},
     "output_type": "execute_result"
    }
   ],
   "source": [
    "import sympy as sp\n",
    "from sympy import init_printing\n",
    "init_printing(use_latex = True)\n",
    "\n",
    "a, w_0, w = sp.symbols('a \\omega_0 \\omega')\n",
    "\n",
    "func1 = sp.acosh(1 + (a*w_0)**2 / 2)**2\n",
    "\n",
    "func1.series(a)"
   ]
  },
  {
   "cell_type": "markdown",
   "metadata": {
    "deletable": true,
    "editable": true
   },
   "source": [
    "So we have \n",
    "\n",
    "\\begin{eqnarray*}\n",
    "\\omega^2 &=& \\frac{1}{a^2} \\left[(a\\omega_0)^2 + \\mathcal{O}((a)^6)\\right]  \\\\\n",
    "\\omega^2 &=&  \\omega_0^2 + \\mathcal{O}((a)^4) \\\\\n",
    "\\end{eqnarray*}\n",
    "\n",
    "Which apparently is the incorrect way to do it. Instead we expand \n",
    "\n",
    "\\begin{eqnarray*}\n",
    "\\cosh(a\\omega) = 1+\\frac{(a\\omega_0)^2}{2}\n",
    "\\end{eqnarray*}"
   ]
  },
  {
   "cell_type": "code",
   "execution_count": 7,
   "metadata": {
    "collapsed": false,
    "deletable": true,
    "editable": true
   },
   "outputs": [
    {
     "data": {
      "image/png": "[encoded data removed]",
      "text/latex": [
       "$$1 + \\frac{\\omega^{2} a^{2}}{2} + \\frac{\\omega^{4} a^{4}}{24} + \\frac{\\omega^{6} a^{6}}{720} + \\mathcal{O}\\left(a^{8}\\right)$$"
      ],
      "text/plain": [
       "          2  2         4  4         6  6        \n",
       "    \\omega ⋅a    \\omega ⋅a    \\omega ⋅a     ⎛ 8⎞\n",
       "1 + ────────── + ────────── + ────────── + O⎝a ⎠\n",
       "        2            24          720            "
      ]
     },
     "execution_count": 7,
     "metadata": {},
     "output_type": "execute_result"
    }
   ],
   "source": [
    "func2 = sp.cosh(a*w)\n",
    "\n",
    "func2.series(a, n=8)"
   ]
  },
  {
   "cell_type": "markdown",
   "metadata": {
    "deletable": true,
    "editable": true
   },
   "source": [
    "\\begin{eqnarray*}\n",
    "1 + \\frac{a^{2} \\omega^{2}}{2} + \\frac{a^{4} \\omega^{4}}{24} + \\mathcal{O}\\left((a\\omega)^{6}\\right) &=& = 1+\\frac{(a\\omega_0)^2}{2} \\\\\n",
    "\\frac{a^{2} \\omega^{2}}{2} &=& \\frac{(a\\omega_0)^2}{2} - \\frac{a^{4} \\omega^{4}}{24} - \\mathcal{O}\\left((a\\omega)^{6}\\right) \\\\\n",
    "\\omega^{2} &=& \\omega_0^2 - \\frac{a^2 \\omega^{4}}{12} - \\mathcal{O}\\left(a^{4}\\omega^{6}\\right) \\\\\n",
    "\\omega^{2} &=& \\omega_0^2\\left[1 - \\frac{a^2 \\omega_0^{2}}{12} - \\mathcal{O}\\left((a\\omega)^{4}\\right)\\right] \\\\\n",
    "\\end{eqnarray*}"
   ]
  },
  {
   "cell_type": "markdown",
   "metadata": {
    "deletable": true,
    "editable": true
   },
   "source": [
    "### Improved Action\n",
    "\n",
    "In a similar fashion as above the equations of motion can be derivied for the improved action of the form\n",
    "\n",
    "\\begin{eqnarray*}\n",
    "S &=& a\\sum_{j=0}^{\\infty} -\\frac{1}{2} m x_j \\left(\\Delta^{(2)}- \\frac{a^2}{12} (\\Delta^{(2)})^2\\right) x_j+V(x_j) \\nonumber \\\\\n",
    "&=& a\\sum_{j=0}^{\\infty} -\\frac{1}{2} m x_j \\frac{-x_{j+2}+16x_{j+1}-30 x_j + 16x_{j-1}-x_{j-2}}{12 a^2}+V(x_j) \\nonumber\n",
    "\\end{eqnarray*} \n",
    "\n",
    "by setting $\\frac{\\partial S}{\\partial x_l} = 0$. Giving\n",
    "\n",
    "\\begin{eqnarray*}\n",
    "m \\left(\\Delta^{(2)}- \\frac{a^2}{12} (\\Delta^{(2)})^2\\right) x_l &=& \\frac{\\partial V(x_l)}{\\partial x_l} \\nonumber \\\\\n",
    "\\frac{-x_{j+2}+16x_{j+1}-30 x_j + 16x_{j-1}-x_{j-2}}{12 a^2} &=& \\omega_0^2 x_j \\nonumber \\\\\n",
    "\\end{eqnarray*}\n",
    "\n",
    "with $V(x) = \\frac{1}{2}m\\omega_0^2 x^2$. \n",
    "\n",
    "Once again using the ansatz $x_j = e^{-\\omega ja}$\n",
    "\n",
    "\\begin{eqnarray*}\n",
    "-e^{-\\omega (j+2)a}+16e^{-\\omega (j+1)a}-30 e^{-\\omega ja} + 16e^{-\\omega (j-1)a}-e^{-\\omega (j-2)a} &=& 12(a\\omega_0)^2  e^{-\\omega ja} \\nonumber \\\\\n",
    "-e^{-\\omega 2a} -e^{-\\omega -2a} +16e^{-\\omega a} + 16e^{-\\omega -a} &=&30+ 12(a\\omega_0)^2 \\nonumber \\\\\n",
    "-2\\cosh(2a \\omega) +32\\cosh(a\\omega) &=&30+ 12(a\\omega_0)^2 \\nonumber \\\\\n",
    "\\cosh(2a \\omega) - 16\\cosh(a\\omega) &=& -15 - 6(a\\omega_0)^2 \\nonumber \\\\\n",
    "2 \\cosh^2(a\\omega)-1 - 16\\cosh(a\\omega) &=&-15 - 6(a\\omega_0)^2 \\nonumber \\\\\n",
    "\\cosh^2(a\\omega) - 8\\cosh(a\\omega) &=& -7 -3(a\\omega_0)^2 \\nonumber \\\\\n",
    "\\cosh^2(a\\omega) - 8\\cosh(a\\omega) + 7 + 3(a\\omega_0)^2 &=& 0 \\nonumber\\\\\n",
    "\\end{eqnarray*}\n",
    "\n",
    "So\n",
    "\n",
    "\\begin{eqnarray*}\n",
    "\\cosh (a\\omega_{\\pm}) &=& \\frac{8 \\pm \\sqrt{64-4(7 + 3(a\\omega_0)^2)}}{2} \\nonumber\\\\\n",
    "&=& \\frac{8 \\pm \\sqrt{36 - 12(a\\omega_0)^2}}{2} \\nonumber \\\\\n",
    "&=& 4 \\pm \\sqrt{9 - 3(a\\omega_0)^2} \\nonumber \\\\\n",
    "\\end{eqnarray*}\n",
    "\n",
    "or\n",
    "\n",
    "\\begin{eqnarray*}\n",
    "\\omega_{\\pm}^2 &=& \\frac{1}{a^2}\\mathrm{arccosh}^2\\left(4 \\pm \\sqrt{9 - 3(a\\omega_0)^2}\\right) \\nonumber\\\\\n",
    "\\end{eqnarray*}\n",
    "\n",
    "Using sympy to expand $\\mathrm{arccosh}^2\\left(4 \\pm \\sqrt{9 - 3(x)^2}\\right)$ as a taylor series in x is wrong. Instead we expand the left hand side of\n",
    "\n",
    "\\begin{eqnarray*}\n",
    "-\\frac{1}{3}\\left(\\cosh^2(a\\omega) - 8\\cosh(a\\omega) + 7\\right) = (a\\omega_0)^2\\\\\n",
    "\\end{eqnarray*}"
   ]
  },
  {
   "cell_type": "code",
   "execution_count": 8,
   "metadata": {
    "collapsed": false,
    "deletable": true,
    "editable": true
   },
   "outputs": [
    {
     "data": {
      "image/png": "[encoded data removed]",
      "text/latex": [
       "$$\\omega^{2} a^{2} - \\frac{\\omega^{6} a^{6}}{90} - \\frac{\\omega^{8} a^{8}}{1008} + \\mathcal{O}\\left(a^{10}\\right)$$"
      ],
      "text/plain": [
       "                   6  6         8  8         \n",
       "      2  2   \\omega ⋅a    \\omega ⋅a     ⎛ 10⎞\n",
       "\\omega ⋅a  - ────────── - ────────── + O⎝a  ⎠\n",
       "                 90          1008            "
      ]
     },
     "execution_count": 8,
     "metadata": {},
     "output_type": "execute_result"
    }
   ],
   "source": [
    "new_func = -(sp.cosh(a*w)**2 - 8*sp.cosh(a*w) + 7)/3\n",
    "new_func.series(a, n=10)\n",
    "#sp.series(sp.acosh(4 + sp.sqrt(9 + 3 * (x)**2))**2, x)"
   ]
  },
  {
   "cell_type": "markdown",
   "metadata": {
    "collapsed": true,
    "deletable": true,
    "editable": true
   },
   "source": [
    "Which gives\n",
    "\n",
    "\\begin{eqnarray*}\n",
    "\\omega^{2} a^{2} - \\frac{\\omega^{6} a^{6}}{90} - \\mathcal{O}\\left((a\\omega)^{8}\\right) = a^2 \\omega_0^2 \\\\\n",
    "\\omega^{2} - \\frac{\\omega^{6} a^{4}}{90} - \\mathcal{O}\\left(a^6\\omega^{8}\\right) = \\omega_0^2 \\\\\n",
    "\\omega^{2} = \\omega_0^2 + \\frac{\\omega^{6} a^{4}}{90} + \\mathcal{O}\\left(a^6\\omega^{8}\\right)  \\\\\n",
    "\\omega^{2} = \\omega_0^2\\left[1 + \\frac{\\omega_0^{4} a^{4}}{90} + \\mathcal{O}\\left(a^6\\omega^{6}\\right)\\right]  \\\\\n",
    "\\end{eqnarray*}"
   ]
  },
  {
   "cell_type": "markdown",
   "metadata": {
    "collapsed": true,
    "deletable": true,
    "editable": true
   },
   "source": [
    "Other solution comes from when $a^4$ is as important but I don't even understand this solution and why $a^4$ being not important allows the last step. This solution introduces ghost states which we dont want and are responsable for the effective energy plot approaching from below in the improved action."
   ]
  },
  {
   "cell_type": "markdown",
   "metadata": {
    "collapsed": true,
    "deletable": true,
    "editable": true
   },
   "source": [
    "### Avoiding Ghosts\n",
    "\n",
    "The next step is to incorparate the $\\frac{a^2 \\omega_0^{2}}{12}$ correction calculated in the first part into the unimproved action to obtain something which is accurate up to $\\mathcal{O}(a^4)$ but doesn't contain the ghost states of the improved action.\n",
    "\n",
    "This is done by making the variable transform $x_j \\to \\bar{x}_j$ where\n",
    "\n",
    "\\begin{eqnarray*}\n",
    "x_j = \\bar{x}_j + \\delta \\bar{x}_j \\\\\n",
    "\\delta \\bar{x}_j = \\xi_1 a^2 \\Delta^{(2)} \\bar{x}_j + \\xi_2 a^2 \\omega_0^2 \\bar{x}_j \n",
    "\\end{eqnarray*}\n",
    "\n",
    "Using\n",
    "\n",
    "\\begin{eqnarray*}\n",
    "S[x] &=& S[\\bar{x}+\\delta \\bar{x}]\\\\\n",
    "&=& S[\\bar{x}] + \\sum_j \\delta \\bar{x}_j \\frac{\\partial S[\\bar{x}]}{\\partial \\bar{x}_j} + \\mathcal{O}(a^4)\\\\\n",
    "&\\equiv& \\bar{S}[\\bar{x}] + \\mathcal{O}(a^4)\n",
    "\\end{eqnarray*}\n",
    "\n",
    "\n",
    "*Not sure I understand the $\\mathcal{O}(a^4)$ here.*\n",
    "\n",
    "To determine $\\xi_1$ and $\\xi_2$ we demand that the action has the form\n",
    "\n",
    "\\begin{eqnarray*}\n",
    "\\bar{S}[\\bar{x}] &=& a \\sum_{j=0}^{N-1} \\left[ -\\frac{1}{2}m \\bar{x}_j \\Delta^{(2)} \\bar{x}_j + \\bar{V}(\\bar{x}_j) \\right] \n",
    "\\end{eqnarray*}\n",
    "\n",
    "with an improved potential containing the second order correction to $\\omega_0^2$ \n",
    "\n",
    "\\begin{eqnarray*}\n",
    "\\bar{V}(\\bar{x}_j) = \\frac{1}{2}m \\omega_0^2 \\bar{x}_j^2 \\left(1+\\frac{(a\\omega_0)^2}{12}\\right)\n",
    "\\end{eqnarray*}\n",
    "\n",
    "We have then\n",
    "\n",
    "\\begin{eqnarray*}\n",
    "S[\\bar{x}] &=& am \\sum_{j=0}^{N-1} \\left[ -\\frac{1}{2} \\bar{x}_j \\Delta^{(2)} \\bar{x}_j + \\frac{1}{2}\\omega_0^2 \\bar{x}_j^2 \\right] \\\\\n",
    "\\frac{\\partial S[\\bar{x}]}{\\partial \\bar{x}_j} &=& am\\left[ -\\Delta^{(2)} \\bar{x}_j + \\omega_0^2 \\bar{x}_j \\right]\n",
    "\\end{eqnarray*}\n",
    "\n",
    "So\n",
    "\n",
    "\\begin{eqnarray*}\n",
    "S[\\bar{x}] + \\sum_j \\delta \\bar{x}_j \\frac{\\partial S[\\bar{x}]}{\\partial \\bar{x}_j} \n",
    "&=& am \\sum_{j=0}^{N-1} \\left[ -\\frac{1}{2} \\bar{x}_j \\Delta^{(2)} \\bar{x}_j + \\frac{1}{2}\\omega_0^2 \\bar{x}_j^2 + \\left( -\\Delta^{(2)} \\bar{x}_j + \\omega_0^2 \\bar{x}_j \\right) \\left( \\xi_1 a^2 \\Delta^{(2)} \\bar{x}_j + \\xi_2 a^2 \\omega_0^2 \\bar{x}_j  \\right) \\right] \\\\\n",
    "&=& am \\sum_{j=0}^{N-1} \\left[ -\\frac{1}{2} \\bar{x}_j \\Delta^{(2)} \\bar{x}_j + \\frac{1}{2}\\omega_0^2 \\bar{x}_j^2 -\\Delta^{(2)} \\bar{x}_j \\xi_1 a^2 \\Delta^{(2)} \\bar{x}_j -\\Delta^{(2)} \\bar{x}_j\\xi_2 a^2 \\omega_0^2 \\bar{x}_j + \\omega_0^2 \\bar{x}_j\\xi_1 a^2 \\Delta^{(2)} \\bar{x}_j + \\omega_0^2 \\bar{x}_j\\xi_2 a^2 \\omega_0^2 \\bar{x}_j \\right]\n",
    "\\end{eqnarray*}\n",
    "\n",
    "The first term is clearly just the first term in the $\\bar{S}[\\bar{x}]$ and the second and the last term can be combined to give $\\bar{V}[\\bar{x}]$\n",
    "\n",
    "\\begin{eqnarray*}\n",
    "\\frac{1}{2}m\\omega_0^2 \\bar{x}_j^2 + m\\omega_0^2 \\bar{x}_j\\xi_2 a^2 \\omega_0^2 \\bar{x}_j = \\frac{1}{2}m\\omega_0^2 \\bar{x}_j^2 \\left(1+24\\xi_2\\frac{(a\\omega_0)^2}{12}\\right)\n",
    "\\end{eqnarray*}\n",
    "\n",
    "Which gives $\\xi_2=\\frac{1}{24}$. We have our two terms so we need the rest to be equal to zero.\n",
    "\n",
    "\\begin{eqnarray*}\n",
    "-\\xi_1 a^2\\left(\\Delta^{(2)} \\bar{x}_j\\right)^2 + \\xi_1 a^2\\omega_0^2 \\bar{x}_j \\Delta^{(2)} \\bar{x}_j -\\frac{a^2}{24} \\omega_0^2 \\bar{x}_j\\Delta^{(2)} \\bar{x}_j  = 0\n",
    "\\end{eqnarray*}\n",
    "\n",
    "Which I can't get equal to zero for any value of $\\xi_1$, I tried factoring out $a^2 \\Delta^{(2)} \\bar{x}_j$ and using the equation of motion, but $(a)$ it doesn't work and $(b)$ it is the equation of motion for $x_j$ and not $\\bar{x}_j$. The second and third term also can cancel each other if $\\xi_1 = \\frac{1}{24}$ which lends itself to this exercise being \"particularly simple\" but I don't see how the first term is zero then."
   ]
  },
  {
   "cell_type": "markdown",
   "metadata": {
    "deletable": true,
    "editable": true
   },
   "source": [
    "### Computing $S[\\bar{x}+\\delta \\bar{x}]$ directly\n",
    "\n",
    "\\begin{eqnarray*}\n",
    "&S[\\bar{x}+\\delta \\bar{x}]& = am \\sum_{j=0}^{N-1} \\left[ -\\frac{1}{2} \\left(\\bar{x}_j + \\xi_1 a^2 \\Delta^{(2)} \\bar{x}_j + \\xi_2 a^2 \\omega_0^2 \\bar{x}_j\\right) \\Delta^{(2)} \\left(\\bar{x}_j + \\xi_1 a^2 \\Delta^{(2)} \\bar{x}_j + \\xi_2 a^2 \\omega_0^2 \\bar{x}_j \\right) + \\frac{1}{2}\\omega_0^2 \\left( \\bar{x}_j + \\xi_1 a^2 \\Delta^{(2)} \\bar{x}_j + \\xi_2 a^2 \\omega_0^2 \\bar{x}_j \\right)^2 \\right] \\\\\n",
    "&&= \\frac{am}{2} \\sum_{j=0}^{N-1} \\Big[ \\overset{(1)}{-\\bar{x}_j \\Delta^{(2)}\\bar{x}_j }- \\overset{(2)}{\\xi_1 a^2 \\bar{x}_j(\\Delta^{(2)})^2 \\bar{x}_j} - \\overset{(3)}{\\xi_2 a^2 \\omega_0^2 \\bar{x}_j\\Delta^{(2)}\\bar{x}_j} - \\overset{(4)}{\\xi_1 a^2 (\\Delta^{(2)} \\bar{x}_j)^2} - \\overset{(5)}{\\xi_1^2 a^4 \\Delta^{(2)} \\bar{x}_j \\left(\\Delta^{(2)}\\right)^2 \\bar{x}_j} - \\overset{(6)}{\\xi_1 \\xi_2 a^4 \\omega_0^2 \\left(\\Delta^{(2)} \\bar{x}_j\\right)^2}  \\\\\n",
    "&& \\ \\ \\ \\ \\ \\ \\ \\ \\ \\ \\ \\ \\ \\ \\ \\ \\ \\ \\   \\overset{(7)}{-\\xi_2 a^2 \\omega_0^2\\bar{x}_j \\Delta^{(2)}\\bar{x}_j} - \\overset{(8)}{\\xi_1 \\xi_2 a^4  \\omega_0^2\\bar{x}_j(\\Delta^{(2)})^2 \\bar{x}_j} - \\overset{(9)}{\\xi_2^2 a^4 \\omega_0^4 \\bar{x}_j\\Delta^{(2)}\\bar{x}_j} + \\overset{(10)}{\\omega_0^2\\bar{x}_j^2} + \\overset{(11)}{\\xi_1^2 a^4 \\omega_0^2 (\\Delta^{(2)} \\bar{x}_j)^2} + \\overset{(12)}{\\xi_2^2 a^4 \\omega_0^6 \\bar{x}_j^2} \\\\\n",
    "\\\\\n",
    "&& \\ \\ \\ \\ \\ \\ \\ \\ \\ \\ \\ \\ \\ \\ \\ \\ \\ \\ \\ + \\overset{(13)}{2\\xi_1 a^2 \\omega_0^2\\bar{x}_j\\Delta^{(2)} \\bar{x}_j} + \\overset{(14)}{2\\xi_2 a^2 \\omega_0^4 \\bar{x}_j^2} +\\overset{(15)}{2\\xi_1 \\xi_2 a^4 \\omega_0^4  \\bar{x}_j\\Delta^{(2)} \\bar{x}_j}  \\Big]\n",
    "\\end{eqnarray*}\n",
    "\n",
    "\n",
    "Now term $(1)$ again is clearly just the first term in the $\\bar{S}[\\bar{x}]$. This time the terms (10) and (14) can be combined to give $\\bar{V}[\\bar{x}]$ giving $\\xi_2 = \\frac{1}{24}$ again.\n",
    "\n",
    "Once again we set the rest equal to zero to find $\\xi_1$\n",
    "\n",
    "\\begin{eqnarray*}\n",
    "-\\overset{(2)}{\\xi_1 a^2 \\bar{x}_j(\\Delta^{(2)})^2 \\bar{x}_j} - \\overset{(3)}{\\frac{(a\\omega_0)^2}{24}  \\bar{x}_j\\Delta^{(2)}\\bar{x}_j} - \\overset{(4)}{\\xi_1 a^2 (\\Delta^{(2)} \\bar{x}_j)^2} - \\overset{(5)}{\\xi_1^2 a^4 \\Delta^{(2)} \\bar{x}_j \\left(\\Delta^{(2)}\\right)^2 \\bar{x}_j} - \\overset{(6)}{\\frac{\\xi_1 a^4 \\omega_0^2}{24} \\left(\\Delta^{(2)} \\bar{x}_j\\right)^2} \\overset{(7)}{- \\frac{a^2 \\omega_0^2}{24}\\bar{x}_j \\Delta^{(2)}\\bar{x}_j} - \\overset{(8)}{\\frac{\\xi_1 a^4  \\omega_0^2}{24}\\bar{x}_j(\\Delta^{(2)})^2 \\bar{x}_j} - \\overset{(9)}{\\frac{a^4 \\omega_0^4}{576} \\bar{x}_j\\Delta^{(2)}\\bar{x}_j} + \\overset{(11)}{\\xi_1^2 a^4 \\omega_0^2 (\\Delta^{(2)} \\bar{x}_j)^2} + \\overset{(12)}{\\frac{a^4 \\omega_0^6}{576} \\bar{x}_j^2} + \\overset{(13)}{2\\xi_1 a^2 \\omega_0^2\\bar{x}_j\\Delta^{(2)} \\bar{x}_j} +\\overset{(15)}{\\frac{2\\xi_1 a^4 \\omega_0^4}{24}  \\bar{x}_j\\Delta^{(2)} \\bar{x}_j} = 0\n",
    "\\end{eqnarray*}\n",
    "\n",
    "Adding $(3) + (7)$ and $(6) + (11)$\n",
    "\n",
    "\\begin{eqnarray*}\n",
    "-\\overset{(2)}{\\xi_1 a^2 \\bar{x}_j(\\Delta^{(2)})^2 \\bar{x}_j} - \\overset{(3+7)}{\\frac{(a\\omega_0)^2}{12}  \\bar{x}_j\\Delta^{(2)}\\bar{x}_j} - \\overset{(4)}{\\xi_1 a^2 (\\Delta^{(2)} \\bar{x}_j)^2} - \\overset{(5)}{\\xi_1^2 a^4 \\Delta^{(2)} \\bar{x}_j \\left(\\Delta^{(2)}\\right)^2 \\bar{x}_j} + \\overset{(6+11)}{a^4 \\omega_0^2 \\left(\\Delta^{(2)} \\bar{x}_j\\right)^2}\\left(\\xi_2^2 -\\frac{\\xi_1}{24}\\right) -\\overset{(8)}{\\frac{\\xi_1 a^4  \\omega_0^2}{24}\\bar{x}_j(\\Delta^{(2)})^2 \\bar{x}_j} - \\overset{(9)}{\\frac{a^4 \\omega_0^4}{576} \\bar{x}_j\\Delta^{(2)}\\bar{x}_j}  + \\overset{(12)}{\\frac{a^4 \\omega_0^6}{576} \\bar{x}_j^2} + \\overset{(13)}{2\\xi_1 a^2 \\omega_0^2\\bar{x}_j\\Delta^{(2)} \\bar{x}_j} +\\overset{(15)}{\\frac{2\\xi_1 a^4 \\omega_0^4}{24}  \\bar{x}_j\\Delta^{(2)} \\bar{x}_j} = 0\n",
    "\\end{eqnarray*}\n",
    "\n",
    "Pulling out $(3+7)$, $(4)$ and $(15)$\n",
    "\n",
    "\\begin{eqnarray*}\n",
    "&& -\\frac{(a\\omega_0)^2}{12}  \\bar{x}_j\\Delta^{(2)}\\bar{x}_j - \\xi_1 a^2 (\\Delta^{(2)} \\bar{x}_j)^2 + \\frac{2\\xi_1 a^4 \\omega_0^4}{24}  \\bar{x}_j\\Delta^{(2)} \\bar{x}_j\\\\\n",
    "&=& \\frac{a^2}{12}\\Delta^{(2)}\\bar{x}_j \\left[-\\omega_0^2\\bar{x}_j - 12\\xi_1 \\Delta^{(2)} \\bar{x}_j + \\xi_1 a^2 \\omega_0^4 \\bar{x}_j\\right] \\\\\n",
    "&=& \\frac{a^2}{12}\\Delta^{(2)}\\bar{x}_j \\left[- 12\\xi_1 \\Delta^{(2)} \\bar{x}_j -\\omega_0^2\\bar{x}_j\\left(1  - \\xi_1 a^2 \\omega_0^2\\right)\\right] \\\\\n",
    "\\end{eqnarray*}\n",
    "\n",
    "This is equal to zero if $\\xi_1 = -\\frac{1}{12}$\n",
    "\n",
    "Leaving\n",
    "\n",
    "\\begin{eqnarray*}\n",
    "\\overset{(2)}{ \\frac{a^2}{12} \\bar{x}_j(\\Delta^{(2)})^2 \\bar{x}_j} - \\overset{(5)}{\\frac{a^4}{144} \\Delta^{(2)} \\bar{x}_j \\left(\\Delta^{(2)}\\right)^2 \\bar{x}_j} + \\overset{(6+11)}{a^4 \\omega_0^2 \\left(\\Delta^{(2)} \\bar{x}_j\\right)^2}\\left(\\frac{1}{96}\\right) +\\overset{(8)}{\\frac{a^4  \\omega_0^2}{288}\\bar{x}_j(\\Delta^{(2)})^2 \\bar{x}_j} - \\overset{(9)}{\\frac{a^4 \\omega_0^4}{576} \\bar{x}_j\\Delta^{(2)}\\bar{x}_j}  + \\overset{(12)}{\\frac{a^4 \\omega_0^6}{576} \\bar{x}_j^2} + \\overset{(13)}{\\frac{ a^2 \\omega_0^2}{6}\\bar{x}_j\\Delta^{(2)} \\bar{x}_j}\n",
    "\\end{eqnarray*}\n",
    "\n",
    "Which I cant do anything with.............."
   ]
  },
  {
   "cell_type": "markdown",
   "metadata": {
    "deletable": true,
    "editable": true
   },
   "source": [
    "### Jacobian\n",
    "\n",
    "We have that\n",
    "\n",
    "\\begin{eqnarray*}\n",
    "\\prod_{i=0}^{N-1} dx_i = \\prod_{l=0}^{N-1} d\\bar{x}_l \\det{\\left(\\frac{\\partial x_i}{\\partial \\bar{x}_l}\\right)}\n",
    "\\end{eqnarray*}\n",
    "\n",
    "So\n",
    "\n",
    "\\begin{eqnarray*}\n",
    "&& \\frac{\\partial x_i}{\\partial \\bar{x}_l} = \\frac{\\partial \\left(\\bar{x}_i+ \\xi_1 a^2 \\Delta^{(2)} \\bar{x}_i+ \\xi_2 a^2 \\omega_0^2 \\bar{x}_i\\right)}{\\partial \\bar{x}_l} \\\\\n",
    "&=& \\frac{\\partial \\left(\\bar{x}_i+ \\xi_1 (\\bar{x}_{i+1}-2\\bar{x}_i+\\bar{x}_{i-1})+ \\xi_2 a^2 \\omega_0^2 \\bar{x}_i\\right)}{\\partial \\bar{x}_l} \\\\\n",
    "&=& \\delta_{il} + \\xi_1 (\\delta_{i+1,j}-2\\delta_{ij}+\\delta_{i-1,j}) + \\xi_2 a^2 \\omega_0^2 \\delta_{ij} \\\\\n",
    "&=& \\delta_{il}(1-2 \\xi_1 + \\xi_2 a^2 \\omega_0^2) + \\delta_{i+1,j}\\xi_1 + \\delta_{i-1,j}\\xi_1 \n",
    "\\end{eqnarray*}\n",
    "\n",
    "This is a diagonal $2\\times2$ block matrix with determinant equal to the determinant of the $2\\times2$ block to power of the dimension of the matrix $N$.\n",
    "\n",
    "\\begin{eqnarray*}\n",
    "\\det{\\left(\\frac{\\partial x_i}{\\partial \\bar{x}_l}\\right)} = \\left((1-2 \\xi_1 + \\xi_2 a^2 \\omega_0^2)^2 - \\xi_1^2\\right)^N\n",
    "\\end{eqnarray*}"
   ]
  },
  {
   "cell_type": "code",
   "execution_count": null,
   "metadata": {
    "collapsed": true,
    "deletable": true,
    "editable": true
   },
   "outputs": [],
   "source": []
  }
 ],
 "metadata": {
  "kernelspec": {
   "display_name": "Python 3",
   "language": "python",
   "name": "python3"
  },
  "language_info": {
   "codemirror_mode": {
    "name": "ipython",
    "version": 3
   },
   "file_extension": ".py",
   "mimetype": "text/x-python",
   "name": "python",
   "nbconvert_exporter": "python",
   "pygments_lexer": "ipython3",
   "version": "3.5.2"
  }
 },
 "nbformat": 4,
 "nbformat_minor": 2
}
