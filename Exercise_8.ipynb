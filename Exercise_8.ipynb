{
 "cells": [
  {
   "cell_type": "markdown",
   "metadata": {
    "deletable": true,
    "editable": true
   },
   "source": [
    "# Exercise 8: Avoiding Ghost States Part Deux"
   ]
  },
  {
   "cell_type": "markdown",
   "metadata": {
    "collapsed": true,
    "deletable": true,
    "editable": true
   },
   "source": [
    "We make the variable transform $x_j \\to \\bar{x}_j$ where\n",
    "\n",
    "\\begin{eqnarray*}\n",
    "x_j = \\bar{x}_j + \\delta \\bar{x}_j \\\\\n",
    "\\delta \\bar{x}_j = \\xi_1 a^2 \\Delta^{(2)} \\bar{x}_j + \\xi_2 a^2 \\omega_0^2 \\bar{x}_j + \\xi_3 a^2 m\\omega_0^3  \\bar{x}^3_j \n",
    "\\end{eqnarray*}\n",
    "\n",
    "Using\n",
    "\n",
    "\\begin{eqnarray*}\n",
    "S[x] &=& S[\\bar{x}+\\delta \\bar{x}]\\\\\n",
    "&=& S[\\bar{x}] + \\sum_j \\delta \\bar{x}_j \\frac{\\partial S[\\bar{x}]}{\\partial \\bar{x}_j} + \\mathcal{O}(a^4)\\\\\n",
    "&\\equiv& \\bar{S}[\\bar{x}] + \\mathcal{O}(a^4)\n",
    "\\end{eqnarray*}\n",
    "\n",
    "\n",
    "To determine $\\xi_1$, $\\xi_2$ and $\\xi_3$ we demand that the action has the form\n",
    "\n",
    "\\begin{eqnarray*}\n",
    "\\bar{S}[\\bar{x}] &=& a \\sum_{j=0}^{N-1} \\left[ -\\frac{1}{2}m \\bar{x}_j \\Delta^{(2)} \\bar{x}_j + \\bar{V}(\\bar{x}_j) \\right] \n",
    "\\end{eqnarray*}\n",
    "\n",
    "with an improved potential containing the second order correction to $\\omega_0^2$ \n",
    "'''\n",
    "\\begin{eqnarray*}\n",
    "\\bar{V}(\\bar{x}_j) = \\frac{1}{2}m \\omega_0^2 \\bar{x}_j^2 \\left(1+cm\\omega_0^2\\bar{x}_j^2\\right) + \n",
    "\\end{eqnarray*}\n",
    "\n"
   ]
  },
  {
   "cell_type": "code",
   "execution_count": null,
   "metadata": {
    "collapsed": true,
    "deletable": true,
    "editable": true
   },
   "outputs": [],
   "source": []
  }
 ],
 "metadata": {
  "kernelspec": {
   "display_name": "Python 3",
   "language": "python",
   "name": "python3"
  },
  "language_info": {
   "codemirror_mode": {
    "name": "ipython",
    "version": 3
   },
   "file_extension": ".py",
   "mimetype": "text/x-python",
   "name": "python",
   "nbconvert_exporter": "python",
   "pygments_lexer": "ipython3",
   "version": "3.5.2"
  }
 },
 "nbformat": 4,
 "nbformat_minor": 2
}
