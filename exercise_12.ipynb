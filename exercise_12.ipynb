{
 "cells": [
  {
   "cell_type": "markdown",
   "metadata": {
    "deletable": true,
    "editable": true
   },
   "source": [
    "# Exercise 10 : Computing the static quark potential"
   ]
  },
  {
   "cell_type": "markdown",
   "metadata": {
    "deletable": true,
    "editable": true
   },
   "source": [
    "### "
   ]
  },
  {
   "cell_type": "code",
   "execution_count": 2,
   "metadata": {
    "collapsed": false,
    "deletable": true,
    "editable": true
   },
   "outputs": [],
   "source": [
    "import numpy as np\n",
    "import os\n",
    "from functools import partial\n",
    "from re import split\n",
    "from time import time\n",
    "\n",
    "def natural_key(string_):\n",
    "    return [int(s) if s.isdigit() else s for s in split(r'(\\d+)', string_)]\n",
    "\n",
    "\n",
    "def load_ensemble(action, beta, volume):\n",
    "    #wilson_action or rectangular_action\n",
    "    \n",
    "    ensemble = []\n",
    "    directory = \"gauge_configs/\" + str(action) + \"/beta_\" + str(beta) + \"/vol_\" + str(volume)  + \"/\"\n",
    "    for root, dirs, files in os.walk(directory, topdown=False):\n",
    "        for name in sorted(files, key = natural_key):\n",
    "            ensemble.append(np.load(os.path.abspath(os.path.join(root, name)), allow_pickle=True))\n",
    "                        \n",
    "    return ensemble"
   ]
  },
  {
   "cell_type": "markdown",
   "metadata": {
    "deletable": true,
    "editable": true
   },
   "source": [
    "### Classes for the lattice and the site at each lattice point.\n",
    "\n",
    "Site value is just a scalar here as this is a simple gauge simulation. The fundamental data structure of the lattice is a numpy array of site objects which have four links initialised to the identity matrix."
   ]
  },
  {
   "cell_type": "code",
   "execution_count": 72,
   "metadata": {
    "collapsed": false,
    "deletable": true,
    "editable": true
   },
   "outputs": [],
   "source": [
    "def link(lattice, coordinates, mu):\n",
    "        \n",
    "    n_points = lattice.shape[0]\n",
    "        \n",
    "    return lattice[coordinates[0] % n_points, coordinates[1] % n_points, coordinates[2] % n_points, coordinates[3] % n_points, mu, : , :]"
   ]
  },
  {
   "cell_type": "markdown",
   "metadata": {
    "deletable": true,
    "editable": true
   },
   "source": [
    "### Rectangle loop lattice average"
   ]
  },
  {
   "cell_type": "code",
   "execution_count": 78,
   "metadata": {
    "collapsed": true,
    "deletable": true,
    "editable": true
   },
   "outputs": [],
   "source": [
    "def wilson_loop(lattice, coordinates, spatial_extent, temporal_extent, spatial_direction):\n",
    "    #each point has 3 temporal loops xt yt and zt, time is on exact same \n",
    "    #footing so doesnt really matter (euclidean isotropic)\n",
    "    \n",
    "    #starting bottom left, path of anti-quark in time ('static')\n",
    "    bottom_res = link(lattice, coordinates, 0)\n",
    "    bottom_coords_next = coordinates[:]\n",
    "    \n",
    "    #starting one in from top right as U^\\dagger, path of quark in time ('static')\n",
    "    top_coords = coordinates[:]\n",
    "    top_coords[0] += temporal_extent-1\n",
    "    top_coords[spatial_direction] += spatial_extent\n",
    "    top_res = link(lattice, top_coords, 0).conj().T\n",
    "    top_coords_next = top_coords[:]\n",
    "    \n",
    "    for i in range(t-1):\n",
    "    #calculate total link product from top and bottom paths\n",
    "        \n",
    "        bottom_coords_next[0] += 1\n",
    "        bottom_link_next = link(lattice, bottom_coords_next, 0)\n",
    "        bottom_res = np.dot(bottom_res, bottom_link_next)\n",
    "    \n",
    "        top_coords_next[0] -= 1\n",
    "        top_link_next = link(lattice, top_coords_next, 0).conj().T\n",
    "        top_res = np.dot(top_res, top_link_next)\n",
    "        \n",
    "\n",
    "    #links for sides of path\n",
    "    left_coords = coordinates[:]\n",
    "    left_coords[spatial_direction] += spatial_extent-1\n",
    "    left_res = link(lattice, left_coords, spatial_direction).conj().T\n",
    "    left_coords_next = left_coords[:]\n",
    "    \n",
    "    right_coords = coordinates[:]\n",
    "    right_coords[0] += temporal_extent\n",
    "    right_res = link(lattice, right_coords, spatial_direction)\n",
    "    right_coords_next = right_coords[:]\n",
    "    \n",
    "    for j in range(r-1):\n",
    "        #calculate total link product from right and left paths\n",
    "        \n",
    "        left_coords_next[spatial_direction] -= 1\n",
    "        left_link_next = link(lattice, left_coords_next, spatial_direction).conj().T\n",
    "        left_res = np.dot(left_res, left_link_next)\n",
    "        \n",
    "        right_coords_next[spatial_direction] += 1\n",
    "        right_link_next = link(lattice, right_coords_next, spatial_direction)\n",
    "        right_res = np.dot(right_res, right_link_next)\n",
    "        \n",
    "    bottom_right = np.dot(bottom_res, right_res)\n",
    "    top_left = np.dot(top_res, left_res)\n",
    "    total_loop = np.dot(bottom_right, top_left)\n",
    "    \n",
    "    return np.trace(total_loop).real / 3"
   ]
  },
  {
   "cell_type": "code",
   "execution_count": null,
   "metadata": {
    "collapsed": true,
    "deletable": true,
    "editable": true
   },
   "outputs": [],
   "source": [
    "def lattice_average_loop(lattice, spatial_extent, temporal_extent):\n",
    "    dim = lattice.shape[0]\n",
    "    res = 0\n",
    "    for t in range(dim):\n",
    "        for x in range(dim):\n",
    "            for y in range(dim):\n",
    "                for z in range(dim):\n",
    "                    for sd in range(1,4):\n",
    "                        res += wilson_loop(lattice, [t,x,y,z], spatial_extent, temporal_extent, sd)\n",
    "                        \n",
    "    return res / dim ** 4 / 3    "
   ]
  },
  {
   "cell_type": "code",
   "execution_count": null,
   "metadata": {
    "collapsed": true,
    "deletable": true,
    "editable": true
   },
   "outputs": [],
   "source": [
    "def loop_array(lattice, spatial_extent):\n",
    "    dim = lattice.shape[0]\n",
    "    loop_arr = []\n",
    "    for temporal_extent in range(dim):\n",
    "        val = lattice_average_loop(lattice, spatial_extent, temporal_extent)\n",
    "        loop_arr.append(val)\n",
    "        \n",
    "    return loop_arr        "
   ]
  },
  {
   "cell_type": "code",
   "execution_count": 79,
   "metadata": {
    "collapsed": true,
    "deletable": true,
    "editable": true
   },
   "outputs": [],
   "source": [
    "def gauge_array(lattice_ensemble, spatial_exten):\n",
    "    p = Pool(6)\n",
    "    func = partial(loop_array, spatial_extent = spatial_extent)\n",
    "    loop_ensemble = np.array(map(func, lattice_ensemble))\n",
    "    p.terminate()\n",
    "    \n",
    "    return loop_ensemble"
   ]
  },
  {
   "cell_type": "code",
   "execution_count": null,
   "metadata": {
    "collapsed": true,
    "deletable": true,
    "editable": true
   },
   "outputs": [],
   "source": [
    "def analysis():\n",
    "    \n",
    "    ensemble = load_ensemble(action, beta, volume)\n",
    "    n_configs = ensemble.shape[x]\n",
    "    dim = ensemble.shape[y]\n",
    "    \n",
    "    fig, axs =  plt.subplots(nrows=7, ncols=1, figsize=(8, 8), dpi=100)\n",
    "    fig.subplots_adjust(wspace=0.5, hspace=0.5)\n",
    "    ax = axs.flat\n",
    "    \n",
    "    for spatial_extent in range(1, dim):\n",
    "    \n",
    "        ga = gauge_array(ensemble, spatial_extent)\n",
    "        avg = np.mean(ga,0)\n",
    "        err = np.std(ga,0) / np.sqrt(n_configs)\n",
    "        avg_shift = np.roll(avg, -1)\n",
    "        err_shift = np.roll(err, -1)\n",
    "        \n",
    "        V_eff = np.log(np.divide(avg,avg_shift))\n",
    "        V_eff_err = np.sqrt(np.divide(err, avg)**2 + np.divide(err_shift, avg_shift)**2) / np.sqrt(n_configs)\n",
    "    \n",
    "        t = np.arange(0, dim)\n",
    "        \n",
    "        #Plotting\n",
    "        ax[i].errorbar(t, V_eff, yerr=V_eff_err, fmt='o',  markersize=2, color='k')\n",
    "        ax[i].tick_params(bottom=\"off\", top=\"off\", left=\"off\", right=\"off\")\n",
    "        ax[i].set_title(\"Static Quark Potential at position: \" + str(spatial_extent))\n",
    "        #ax[i].set_xlim(0, 10)\n",
    "        #ax[i].set_ylim(-2, 2)\n",
    "        #ax[i].set_xticks([0, 2, 4, 6, 8, 10])\n",
    "        #ax[i].set_yticks([-2, -1, 0, 1, 2])\n",
    "        \n",
    "    \n",
    "    plt.show()"
   ]
  },
  {
   "cell_type": "markdown",
   "metadata": {
    "deletable": true,
    "editable": true
   },
   "source": [
    "### Analysis"
   ]
  },
  {
   "cell_type": "code",
   "execution_count": null,
   "metadata": {
    "collapsed": true,
    "deletable": true,
    "editable": true
   },
   "outputs": [],
   "source": []
  }
 ],
 "metadata": {
  "kernelspec": {
   "display_name": "Python 3",
   "language": "python",
   "name": "python3"
  },
  "language_info": {
   "codemirror_mode": {
    "name": "ipython",
    "version": 3
   },
   "file_extension": ".py",
   "mimetype": "text/x-python",
   "name": "python",
   "nbconvert_exporter": "python",
   "pygments_lexer": "ipython3",
   "version": "3.5.2"
  }
 },
 "nbformat": 4,
 "nbformat_minor": 2
}
