{
 "cells": [
  {
   "cell_type": "markdown",
   "metadata": {
    "deletable": true,
    "editable": true
   },
   "source": [
    "# Exercise 10 : Gluon Path Integrals"
   ]
  },
  {
   "cell_type": "markdown",
   "metadata": {
    "deletable": true,
    "editable": true
   },
   "source": [
    "### Function to generate an array of SU(3) matrices and their inverses to use in the monte-carlo process\n",
    "\n",
    "See Gattringer and Lang page 83. Although they say you should choose random numbers between $(-0.5, 0.5)$ this leads to negative numbers on the diagonal for the generated su3 matrices, these are not closer to the identity for smaller epsilon (as -.999 is generated for epsilon = 0.01 and -.075 is generated for epsilon = 0.5, the first value is obviously further away from 1 even though the epsilon is smaller). Hence smaller epsilon does not give a higher acceptance which is required to tune it for 50%\n",
    "\n",
    "So I will use random numbers from $(0,0.5)$ I tested the expectation values obtained from $(0,0.5)$ and $(-0.5,0.5)$ and they are the same. After emailing lang, only need 3 random numbers and r[0] = sqrt(xxx) without sign function"
   ]
  },
  {
   "cell_type": "code",
   "execution_count": 15,
   "metadata": {
    "collapsed": false,
    "deletable": true,
    "editable": true
   },
   "outputs": [],
   "source": [
    "import numpy as np\n",
    "import os\n",
    "from functools import partial\n",
    "from math import factorial\n",
    "from re import split\n",
    "from time import time\n",
    "\n",
    "\n",
    "def generate_su2(epsilon):\n",
    "    \n",
    "    r_random_numbers = np.random.uniform(0, 0.5, (4))\n",
    "    r = np.empty((4))\n",
    "    \n",
    "    r[1:] = epsilon * r_random_numbers[1:] / np.linalg.norm(r_random_numbers[1:])\n",
    "    r[0] = np.sign(r_random_numbers[0]) * np.sqrt(1-epsilon**2)\n",
    "    \n",
    "    r11 = r[0] + r[3]*1j\n",
    "    r12 = r[1]*1j + r[2]\n",
    "    r21 = r[1]*1j - r[2]\n",
    "    r22 = r[0] - r[3]*1j\n",
    "    \n",
    "    return np.array([[r11, r12], [r21, r22]])\n",
    "    \n",
    "    \n",
    "def generate_su3_array(n, epsilon):\n",
    "\n",
    "    su3_array = np.empty((2*n, 3, 3), dtype = 'complex128')\n",
    "    \n",
    "    for i in range(n):\n",
    "\n",
    "        R_su3 = np.identity(3, dtype=complex)\n",
    "        S_su3 = np.identity(3, dtype=complex)\n",
    "        T_su3 = np.identity(3, dtype=complex)\n",
    "\n",
    "        R_su3[:2, :2] = generate_su2(epsilon)\n",
    "        S_su3[0:3:2, 0:3:2] = generate_su2(epsilon)\n",
    "        T_su3[1:, 1:] = generate_su2(epsilon)\n",
    "\n",
    "        X_su3 = np.dot(np.dot(R_su3, S_su3), T_su3)\n",
    "\n",
    "        su3_array[2*i, :, :] = X_su3\n",
    "        su3_array[2*i+1, :, :] = X_su3.conj().T\n",
    "        \n",
    "    return su3_array"
   ]
  },
  {
   "cell_type": "markdown",
   "metadata": {
    "deletable": true,
    "editable": true
   },
   "source": [
    "### Classes for the lattice and the site at each lattice point.\n",
    "\n",
    "Site value is just a scalar here as this is a simple gauge simulation. The fundamental data structure of the lattice is a numpy array of site objects which have four links initialised to the identity matrix."
   ]
  },
  {
   "cell_type": "code",
   "execution_count": 16,
   "metadata": {
    "collapsed": false,
    "deletable": true,
    "editable": true
   },
   "outputs": [],
   "source": [
    "def generate_site():\n",
    "    \n",
    "    link_value = np.identity(3, dtype = 'complex128')\n",
    "    link = np.tile(link_value, (4, 1, 1))\n",
    "    \n",
    "    return link\n",
    "        \n",
    "\n",
    "def generate_lattice(n_points):\n",
    "\n",
    "    volume = np.append(np.repeat(n_points, 4), (4,3,3))\n",
    "    grid = np.empty(volume, dtype = 'complex128')\n",
    "        \n",
    "    for t in range(n_points):\n",
    "        for x in range(n_points):\n",
    "            for y in range(n_points):\n",
    "                for z in range(n_points):\n",
    "                    grid[t, x, y, z] = generate_site()\n",
    "                        \n",
    "    return grid\n",
    "\n",
    "def link(lattice, coords, mu):\n",
    "        \n",
    "    n_points = lattice.shape[0]\n",
    "        \n",
    "    return lattice[coords[0] % n_points, coords[1] % n_points, coords[2] % n_points, coords[3] % n_points, mu, : , :]"
   ]
  },
  {
   "cell_type": "markdown",
   "metadata": {
    "collapsed": true,
    "deletable": true,
    "editable": true
   },
   "source": [
    "### Function which computes the staple sum for a given site link\n",
    "\n",
    "The function takes a coordinate array [t, x, y, z] for the lattice and a direction t = 0, x = 1, y = 2 or z = 3 and computes the sum of staples which include this link. This corresponds to the Wilson action. See Gattringer and Lang page 79 eqn (4.20)."
   ]
  },
  {
   "cell_type": "code",
   "execution_count": 17,
   "metadata": {
    "collapsed": false,
    "deletable": true,
    "editable": true
   },
   "outputs": [],
   "source": [
    "def wilson_link_sum(lattice, coordinates,  mu, u_0):\n",
    "    dimension = 4\n",
    "    res = np.zeros((3,3), dtype = 'complex128')\n",
    "    \n",
    "    for nu in range(dimension):\n",
    "        if nu != mu:\n",
    "            \n",
    "            mu_hat = np.zeros(dimension, dtype = int)\n",
    "            nu_hat = np.zeros(dimension, dtype = int)\n",
    "            \n",
    "            mu_hat[mu] = 1\n",
    "            nu_hat[nu] = 1\n",
    "            \n",
    "            #1x1 positive\n",
    "            res += np.dot(np.dot(link(lattice, coordinates + mu_hat, nu), \n",
    "                                 link(lattice, coordinates + nu_hat, mu).conj().T),\n",
    "                                 link(lattice, coordinates, nu).conj().T)\n",
    "            #1x1 negative\n",
    "            res += np.dot(np.dot(link(lattice, coordinates + mu_hat - nu_hat, nu).conj().T, \n",
    "                                 link(lattice, coordinates - nu_hat, mu).conj().T), \n",
    "                                 link(lattice, coordinates - nu_hat, nu))\n",
    "        \n",
    "    return res / u_0**4\n",
    "\n",
    "\n",
    "def improved_link_sum(lattice, coordinates, mu, u_0):\n",
    "    #Rectangular Improvement\n",
    "    \n",
    "    dimension = 4\n",
    "    res_rec = np.zeros((3,3), dtype = 'complex128')\n",
    "    \n",
    "    for nu in range(dimension):\n",
    "        if nu != mu:\n",
    "            \n",
    "            mu_hat = np.zeros(dimension, dtype = int)\n",
    "            nu_hat = np.zeros(dimension, dtype = int)\n",
    "            \n",
    "            mu_hat[mu] = 1\n",
    "            nu_hat[nu] = 1\n",
    "            \n",
    "    \n",
    "            link_00_nu = link(lattice, coordinates, nu)\n",
    "            link_10_mu = link(lattice, coordinates + mu_hat, mu)\n",
    "            link_10_nu = link(lattice, coordinates + mu_hat, nu)\n",
    "            link_11_mu = link(lattice, coordinates + nu_hat + mu_hat, mu)\n",
    "            link_11_nu = link(lattice, coordinates + nu_hat + mu_hat, nu)\n",
    "            link_01_mu = link(lattice, coordinates + nu_hat, mu)\n",
    "            link_01_nu = link(lattice, coordinates + nu_hat, nu)\n",
    "            link_20_nu = link(lattice, coordinates + 2*mu_hat, nu)\n",
    "            link_02_mu = link(lattice, coordinates + 2*nu_hat, mu) \n",
    "            \n",
    "            link_1n1_mu = link(lattice, coordinates + mu_hat - nu_hat, mu)\n",
    "            link_1n1_nu = link(lattice, coordinates + mu_hat - nu_hat, nu)\n",
    "            link_0n1_mu = link(lattice, coordinates - nu_hat, mu)\n",
    "            link_0n1_nu = link(lattice, coordinates - nu_hat, nu)\n",
    "            link_0n2_mu = link(lattice, coordinates - 2*nu_hat, mu)\n",
    "            link_0n2_nu = link(lattice, coordinates - 2*nu_hat, nu)\n",
    "            link_2n1_nu = link(lattice, coordinates + 2*mu_hat - nu_hat, nu)\n",
    "            link_1n2_nu = link(lattice, coordinates + mu_hat - 2*nu_hat, nu)\n",
    "            \n",
    "            #2x1 positive rectangle\n",
    "            res_rec += np.dot(np.dot(np.dot(np.dot(link_10_mu,\n",
    "                                                   link_20_nu),\n",
    "                                                   link_11_mu.conj().T), \n",
    "                                                   link_01_mu.conj().T),\n",
    "                                                   link_00_nu.conj().T)\n",
    "            #2x1 negative rectangle\n",
    "            res_rec += np.dot(np.dot(np.dot(np.dot(link_10_mu,\n",
    "                                                   link_2n1_nu.conj().T),\n",
    "                                                   link_1n1_mu.conj().T), \n",
    "                                                   link_0n1_mu.conj().T),\n",
    "                                                   link_0n1_nu)\n",
    "            #1x2 postive rectangle\n",
    "            res_rec += np.dot(np.dot(np.dot(np.dot(link_10_nu,\n",
    "                                                   link_11_nu),\n",
    "                                                   link_02_mu.conj().T), \n",
    "                                                   link_01_nu.conj().T),\n",
    "                                                   link_00_nu.conj().T)\n",
    "            #1x2 negative rectangle\n",
    "            res_rec += np.dot(np.dot(np.dot(np.dot(link_1n1_nu.conj().T,\n",
    "                                                   link_1n2_nu.conj().T),\n",
    "                                                   link_0n2_mu.conj().T), \n",
    "                                                   link_0n2_nu),\n",
    "                                                   link_0n1_nu)\n",
    "    \n",
    "    res = 5 * wilson_link_sum(lattice, coordinates,  mu, u_0) / 3 - res_rec / u_0 **6 / 12\n",
    "    \n",
    "    return res       "
   ]
  },
  {
   "cell_type": "markdown",
   "metadata": {
    "deletable": true,
    "editable": true
   },
   "source": [
    "### Update function for a single gauge link\n",
    "\n",
    "The function takes a su3 matrix, coordinate array, direction and constant beta and preforms a single montecarlo step for a single gauge link"
   ]
  },
  {
   "cell_type": "code",
   "execution_count": 18,
   "metadata": {
    "collapsed": false,
    "deletable": true,
    "editable": true
   },
   "outputs": [],
   "source": [
    "def update_link(lattice, link_sum, su3_matrix, coords, mu, beta, u_0, n_hits):\n",
    "    \n",
    "    accept = 0\n",
    "    \n",
    "    t = coords[0]\n",
    "    x = coords[1]\n",
    "    y = coords[2]\n",
    "    z = coords[3]\n",
    "    \n",
    "    A = link_sum(lattice, coords,  mu, u_0)\n",
    "    \n",
    "    for i in range(n_hits):\n",
    "    \n",
    "        accept += 1\n",
    "    \n",
    "        gauge_link_old = np.copy(lattice[t, x, y, z, mu, : , :])\n",
    "        \n",
    "        lattice[t, x, y, z, mu, : , :] = np.dot(su3_matrix, gauge_link_old)\n",
    "        \n",
    "        diff = lattice[t, x, y, z, mu, : , :] - gauge_link_old\n",
    "    \n",
    "        deltaS = -1.0 * beta / u_0 * np.trace(np.dot(diff, A)).real\n",
    "    \n",
    "        r = np.minimum(1.0, np.exp(-1.0 * deltaS))\n",
    "    \n",
    "        if r < np.random.rand():\n",
    "        \n",
    "            lattice[t, x, y, z, mu, : , :] = gauge_link_old\n",
    "            \n",
    "            accept -= 1\n",
    "    \n",
    "    return accept / n_hits"
   ]
  },
  {
   "cell_type": "markdown",
   "metadata": {
    "deletable": true,
    "editable": true
   },
   "source": [
    "### Function to update whole lattice"
   ]
  },
  {
   "cell_type": "code",
   "execution_count": 19,
   "metadata": {
    "collapsed": false,
    "deletable": true,
    "editable": true
   },
   "outputs": [],
   "source": [
    "def update_lattice(lattice, link_sum, su3_set, beta, u_0, n_hits):\n",
    "    n_points = lattice.shape[0]\n",
    "    dimension = 4 \n",
    "    acceptance = 0\n",
    "    su3_set_length = len(su3_set)\n",
    "    \n",
    "    for t in range(n_points):\n",
    "        for x in range(n_points):\n",
    "            for y in range(n_points):\n",
    "                for z in range(n_points):\n",
    "                    for mu in range(dimension):\n",
    "                        \n",
    "                        su3_matrix = su3_set[np.random.randint(0, su3_set_length)]\n",
    "                        acceptance += update_link(lattice, link_sum, su3_matrix, [t,x,y,z], mu, beta, u_0, n_hits)\n",
    "                            \n",
    "    return acceptance / ((dimension) * (n_points ** dimension))"
   ]
  },
  {
   "cell_type": "markdown",
   "metadata": {
    "collapsed": false,
    "deletable": true,
    "editable": true
   },
   "source": [
    "### Ensemble Generation\n",
    "\n",
    "Do individual hits count as updates for correlation? assumming they do and 50 correlation steps = 5 correlation x 10 hits"
   ]
  },
  {
   "cell_type": "code",
   "execution_count": 20,
   "metadata": {
    "collapsed": false,
    "deletable": true,
    "editable": true
   },
   "outputs": [],
   "source": [
    "def config_save(configuration, action, beta, volume, k):\n",
    "    \n",
    "    filename = \"gauge_configs/\" + str(action) + \"/beta_\" + str(beta) + \"/vol_\" + str(volume) + \"/\" + str(k)\n",
    "    os.makedirs(os.path.dirname(filename), exist_ok=True)\n",
    "    np.save(filename, configuration, allow_pickle = True)\n",
    "    print(\"Configuration \" + str(k) + \" saved\")\n",
    "\n",
    "def markov_chain(lattice, link_sum,  su3_set, beta, u_0, n_configs, n_corr, n_hits, thermalise = True, save = True):\n",
    "    \n",
    "    acceptance = 0\n",
    "    volume = lattice.shape[:4]\n",
    "    \n",
    "    #Thermalise\n",
    "    if thermalise == True:\n",
    "        for i in range(5*n_corr):\n",
    "            \n",
    "            update_lattice(lattice, link_sum, su3_set, beta, u_0, n_hits)\n",
    "    \n",
    "    #Equilibrium Update\n",
    "    for j in range(n_configs*n_corr):\n",
    "        \n",
    "        acceptance += update_lattice(lattice, link_sum, su3_set, beta, u_0, n_hits)\n",
    "        \n",
    "        if save == True:\n",
    "            if j % n_corr == 0:\n",
    "            \n",
    "                ensemble_index = int(j/n_corr)\n",
    "                config_save(lattice, action.__name__, beta, volume, ensemble_index)\n",
    "    \n",
    "    if n_configs != 0 and n_corr != 0:\n",
    "    \n",
    "        acceptance = acceptance / (n_configs*n_corr)       \n",
    "    \n",
    "    return acceptance"
   ]
  },
  {
   "cell_type": "markdown",
   "metadata": {
    "deletable": true,
    "editable": true
   },
   "source": [
    "### Load from file"
   ]
  },
  {
   "cell_type": "code",
   "execution_count": 21,
   "metadata": {
    "collapsed": false,
    "deletable": true,
    "editable": true,
    "scrolled": true
   },
   "outputs": [],
   "source": [
    "def natural_key(string_):\n",
    "    return [int(s) if s.isdigit() else s for s in re.split(r'(\\d+)', string_)]\n",
    "\n",
    "\n",
    "def load_ensemble(action, beta, volume):\n",
    "    #wilson_action or rectangular_action\n",
    "    \n",
    "    ensemble = []\n",
    "    directory = \"gauge_configs/\" + str(action) + \"/beta_\" + str(beta)  + \"/\"\n",
    "    for root, dirs, files in os.walk(directory, topdown=False):\n",
    "        for name in sorted(files, key = natural_key):\n",
    "            ensemble.append(np.load(os.path.abspath(os.path.join(root, name)), allow_pickle=True))\n",
    "                        \n",
    "    return ensemble"
   ]
  },
  {
   "cell_type": "markdown",
   "metadata": {
    "deletable": true,
    "editable": true
   },
   "source": [
    "### Wilson loop functions to calculate expectation values"
   ]
  },
  {
   "cell_type": "code",
   "execution_count": 22,
   "metadata": {
    "collapsed": true,
    "deletable": true,
    "editable": true
   },
   "outputs": [],
   "source": [
    "def square_wilson_loop(lattice, coordinates, mu, nu):\n",
    "    \n",
    "    dimension = 4\n",
    "    res = np.zeros((3,3), dtype = 'complex128')\n",
    "    \n",
    "    mu_hat = np.zeros(dimension, dtype = int)\n",
    "    nu_hat = np.zeros(dimension, dtype = int)\n",
    "            \n",
    "    mu_hat[mu] = 1\n",
    "    nu_hat[nu] = 1\n",
    "    \n",
    "    res = np.dot(np.dot(np.dot(link(lattice, coordinates,          mu), \n",
    "                               link(lattice, coordinates + mu_hat, nu)), \n",
    "                               link(lattice, coordinates + nu_hat, mu).conj().T), \n",
    "                               link(lattice, coordinates,          nu).conj().T)\n",
    "        \n",
    "    return np.trace(res).real / 3.0\n",
    "\n",
    "\n",
    "def rectangular_wilson_loop(lattice, coordinates, mu, nu):\n",
    "    \n",
    "    dimension = 4\n",
    "    res = np.zeros((3,3), dtype = 'complex128')\n",
    "    \n",
    "    mu_hat = np.zeros(dimension, dtype = int)\n",
    "    nu_hat = np.zeros(dimension, dtype = int)\n",
    "            \n",
    "    mu_hat[mu] = 1\n",
    "    nu_hat[nu] = 1\n",
    "    \n",
    "    link_00_mu = link(lattice, coordinates, mu)\n",
    "    link_00_nu = link(lattice, coordinates, nu)\n",
    "    link_10_mu = link(lattice, coordinates + mu_hat, mu)\n",
    "    link_10_nu = link(lattice, coordinates + mu_hat, nu)\n",
    "    link_11_mu = link(lattice, coordinates + nu_hat + mu_hat, mu)\n",
    "    link_11_nu = link(lattice, coordinates + nu_hat + mu_hat, nu)\n",
    "    link_01_mu = link(lattice, coordinates + nu_hat, mu)\n",
    "    link_01_nu = link(lattice, coordinates + nu_hat, nu)\n",
    "    link_20_nu = link(lattice, coordinates + 2*mu_hat, nu)\n",
    "    link_02_mu = link(lattice, coordinates + 2*nu_hat, mu) \n",
    "            \n",
    "            \n",
    "    #2x1 positive rectangle\n",
    "    res1 = np.dot(np.dot(np.dot(np.dot(np.dot(link_00_mu, \n",
    "                                              link_10_mu),\n",
    "                                              link_20_nu),\n",
    "                                              link_11_mu.conj().T), \n",
    "                                              link_01_mu.conj().T),\n",
    "                                              link_00_nu.conj().T)\n",
    "    #1x2 postive rectangle\n",
    "    res2 = np.dot(np.dot(np.dot(np.dot(np.dot(link_00_mu, \n",
    "                                              link_10_nu),\n",
    "                                              link_11_nu),\n",
    "                                              link_02_mu.conj().T), \n",
    "                                              link_01_nu.conj().T),\n",
    "                                              link_00_nu.conj().T)\n",
    "            \n",
    "    return (np.trace(res1).real + np.trace(res2).real) / 6"
   ]
  },
  {
   "cell_type": "markdown",
   "metadata": {
    "deletable": true,
    "editable": true
   },
   "source": [
    "### Functions to average loop over the lattice and the ensemble"
   ]
  },
  {
   "cell_type": "code",
   "execution_count": 23,
   "metadata": {
    "collapsed": true,
    "deletable": true,
    "editable": true
   },
   "outputs": [],
   "source": [
    "def lattice_average(lattice, wilson_loop_function):\n",
    "    \n",
    "    dimension = 4\n",
    "    n_points = lattice.shape[0]\n",
    "    \n",
    "    unique_2d_loops_number = 6\n",
    "    res = 0\n",
    "    \n",
    "    for t in range(n_points):\n",
    "        for x in range(n_points):\n",
    "            for y in range(n_points):\n",
    "                for z in range(n_points):\n",
    "                    for mu in range(dimension):\n",
    "                        for nu in range(dimension):\n",
    "                            if nu < mu:\n",
    "                                res += wilson_loop_function(lattice, [t,x,y,z], mu, nu)\n",
    "                                \n",
    "    return res / ((n_points**dimension)*unique_2d_loops_number)\n",
    "\n",
    "\n",
    "def gauge_average(lattice_ensemble, wilson_loop_function):\n",
    "\n",
    "    func = partial(lattice_average, wilson_loop_function = wilson_loop_function)\n",
    "    loop_ensemble = list(map(func, lattice_ensemble))\n",
    "        \n",
    "    return np.mean(loop_ensemble), np.std(loop_ensemble) / len(lattice_ensemble)"
   ]
  },
  {
   "cell_type": "code",
   "execution_count": 24,
   "metadata": {
    "collapsed": false,
    "deletable": true,
    "editable": true
   },
   "outputs": [
    {
     "name": "stdout",
     "output_type": "stream",
     "text": [
      "Wilson action acceptance: 0.489658203125 total time: 602.9789292812347\n",
      "Wilson action square loop expectation 0.877738632244 time: 0.629753828048706\n",
      "Wilson action rectangular loop expectation 0.798595060679 time: 1.529761791229248\n",
      "Improved action acceptance: 0.41093994140625 total time: 1921.2175521850586\n",
      "Improved action square loop expectation 0.905572299337 time: 0.5414674282073975\n",
      "Improved action rectangular loop expectation 0.835114354974 time: 1.3294868469238281\n"
     ]
    }
   ],
   "source": [
    "lattice = generate_lattice(n_points = 8)\n",
    "\n",
    "su3_array = generate_su3_array(100, epsilon = 0.1)\n",
    "\n",
    "t1a = time()\n",
    "acceptance1 = markov_chain(lattice, wilson_link_sum, su3_array, beta = 5.5, u_0= 1, n_configs = 1, n_corr = 50, n_hits = 1, save = False)\n",
    "t1b = time()\n",
    "\n",
    "t1c = time()\n",
    "wilson_square_loop = lattice_average(lattice, square_wilson_loop)\n",
    "t1d = time()\n",
    "\n",
    "t1e = time()\n",
    "wilson_rectangular_loop = lattice_average(lattice, rectangular_wilson_loop)\n",
    "t1f = time()\n",
    "\n",
    "t2a = time()\n",
    "acceptance2 = markov_chain(lattice, improved_link_sum, su3_array, beta = 1.719, u_0= 0.797, n_configs = 1, n_corr = 50, n_hits= 1, save = False)\n",
    "t2b = time()\n",
    "\n",
    "t2c = time()\n",
    "improved_square_loop = lattice_average(lattice, square_wilson_loop)\n",
    "t2d = time()\n",
    "\n",
    "t2e = time()\n",
    "improved_rectangular_loop = lattice_average(lattice, rectangular_wilson_loop)\n",
    "t2f = time()\n",
    "\n",
    "\n",
    "print(\"Wilson action acceptance: \" + str(acceptance1) + \" total time: \" + str(t1b-t1a))\n",
    "print(\"Wilson action square loop expectation \" + str(wilson_square_loop) + \" time: \" + str(t1d-t1c))\n",
    "print(\"Wilson action rectangular loop expectation \" + str(wilson_rectangular_loop) + \" time: \" + str(t1f-t1e))\n",
    "\n",
    "print(\"Improved action acceptance: \" + str(acceptance2) + \" total time: \" + str(t2b-t2a))\n",
    "print(\"Improved action square loop expectation \" + str(improved_square_loop) + \" time: \" + str(t2d-t2c))\n",
    "print(\"Improved action rectangular loop expectation \" + str(improved_rectangular_loop) + \" time: \" + str(t2f-t2e))\n",
    "\n",
    "del lattice"
   ]
  },
  {
   "cell_type": "code",
   "execution_count": 25,
   "metadata": {
    "collapsed": false,
    "deletable": true,
    "editable": true
   },
   "outputs": [
    {
     "name": "stdout",
     "output_type": "stream",
     "text": [
      "Wilson action acceptance: 0.4707756347656155 total time: 823.3715784549713\n",
      "Wilson action square loop expectation 0.276387324645 time: 0.559319257736206\n",
      "Wilson action rectangular loop expectation 0.0776650895487 time: 1.3092007637023926\n",
      "Improved action acceptance: 0.2631679687499847 total time: 2280.2800352573395\n",
      "Improved action square loop expectation 0.54374568688 time: 0.651191234588623\n",
      "Improved action rectangular loop expectation 0.287486892241 time: 1.6563169956207275\n"
     ]
    }
   ],
   "source": [
    "lattice = generate_lattice(n_points = 8)\n",
    "\n",
    "su3_array = generate_su3_array(100, epsilon = 0.1)\n",
    "\n",
    "t1a = time()\n",
    "acceptance1 = markov_chain(lattice, wilson_link_sum, su3_array, beta = 5.5, u_0= 1, n_configs = 1, n_corr = 50, n_hits = 5, save = False)\n",
    "t1b = time()\n",
    "\n",
    "t1c = time()\n",
    "wilson_square_loop = lattice_average(lattice, square_wilson_loop)\n",
    "t1d = time()\n",
    "\n",
    "t1e = time()\n",
    "wilson_rectangular_loop = lattice_average(lattice, rectangular_wilson_loop)\n",
    "t1f = time()\n",
    "\n",
    "t2a = time()\n",
    "acceptance2 = markov_chain(lattice, improved_link_sum, su3_array, beta = 1.719, u_0= 0.797, n_configs = 1, n_corr = 50, n_hits= 5, save = False)\n",
    "t2b = time()\n",
    "\n",
    "t2c = time()\n",
    "improved_square_loop = lattice_average(lattice, square_wilson_loop)\n",
    "t2d = time()\n",
    "\n",
    "t2e = time()\n",
    "improved_rectangular_loop = lattice_average(lattice, rectangular_wilson_loop)\n",
    "t2f = time()\n",
    "\n",
    "\n",
    "print(\"Wilson action acceptance: \" + str(acceptance1) + \" total time: \" + str(t1b-t1a))\n",
    "print(\"Wilson action square loop expectation \" + str(wilson_square_loop) + \" time: \" + str(t1d-t1c))\n",
    "print(\"Wilson action rectangular loop expectation \" + str(wilson_rectangular_loop) + \" time: \" + str(t1f-t1e))\n",
    "\n",
    "print(\"Improved action acceptance: \" + str(acceptance2) + \" total time: \" + str(t2b-t2a))\n",
    "print(\"Improved action square loop expectation \" + str(improved_square_loop) + \" time: \" + str(t2d-t2c))\n",
    "print(\"Improved action rectangular loop expectation \" + str(improved_rectangular_loop) + \" time: \" + str(t2f-t2e))\n",
    "\n",
    "del lattice"
   ]
  },
  {
   "cell_type": "code",
   "execution_count": null,
   "metadata": {
    "collapsed": true
   },
   "outputs": [],
   "source": []
  }
 ],
 "metadata": {
  "kernelspec": {
   "display_name": "Python 3",
   "language": "python",
   "name": "python3"
  },
  "language_info": {
   "codemirror_mode": {
    "name": "ipython",
    "version": 3
   },
   "file_extension": ".py",
   "mimetype": "text/x-python",
   "name": "python",
   "nbconvert_exporter": "python",
   "pygments_lexer": "ipython3",
   "version": "3.5.2"
  }
 },
 "nbformat": 4,
 "nbformat_minor": 2
}
