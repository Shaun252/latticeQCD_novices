{
 "cells": [
  {
   "cell_type": "markdown",
   "metadata": {
    "deletable": true,
    "editable": true
   },
   "source": [
    "# Numerical Equations of Motion and Frequency"
   ]
  },
  {
   "cell_type": "markdown",
   "metadata": {
    "deletable": true,
    "editable": true
   },
   "source": [
    "### Equation of motion for unimproved action\n",
    "\n",
    "Starting with the unimproved action\n",
    "\n",
    "\\begin{eqnarray}\n",
    "S &=& a\\sum_{j=0}^{\\infty} -\\frac{1}{2} m x_j \\Delta^{(2)} x_j+V(x_j) \\\\\n",
    "&=& a\\sum_{j=0}^{\\infty} -\\frac{1}{2} m x_j \\frac{x_{j+1}-2 x_j + x_{j-1}}{a^2}+V(x_j)\n",
    "\\end{eqnarray}\n",
    "\n",
    "Taking the derivative wrt $x_l$\n",
    "\n",
    "\\begin{eqnarray}\n",
    "\\frac{\\partial S}{\\partial x_l} &=& a\\sum_{j=0}^{\\infty} -\\frac{1}{2}m \\left[\\frac{\\partial x_j}{\\partial x_l} \\frac{x_{j+1}-2x_j+x_{j-1}}{a^2} + x_j \\frac{\\partial }{\\partial x_l}\\left(\\frac{x_{j+1}-2x_j+x_{j-1}}{a^2}\\right)\\right] + \\frac{\\partial V(x_j)}{\\partial x_l} \\\\\n",
    "&=& a\\sum_{j=0}^{\\infty} -\\frac{1}{2}m \\left[\\delta_{lj} \\frac{x_{j+1}-2x_j+x_{j-1}}{a^2} + x_j \\frac{1}{a^2} \\delta_{l,j+1} - 2\\delta_{lj} + \\delta_{l,j-1} \\right] + \\frac{\\partial V(x_j)}{\\partial x_j} \\delta_{lj} \\\\\n",
    "&=& -a\\frac{1}{2}m \\left[ \\frac{x_{l+1}-2x_l+x_{l-1}}{a^2} + \\frac{x_{l-1}-2x_l+x_{l+1}}{a^2} \\right] +\\frac{\\partial V(x_l)}{\\partial x_l} \\\\\n",
    "&=& -am\\frac{x_{l+1}-2x_l+x_{l-1}}{a^2} + \\frac{\\partial V(x_l)}{\\partial x_l} \\\\\n",
    "\\end{eqnarray}\n",
    "\n",
    "Setting $\\frac{\\partial S}{\\partial x_l} = 0$\n",
    "\n",
    "\\begin{eqnarray}\n",
    "m\\frac{x_{l+1}-2x_l+x_{l-1}}{a^2} = \\frac{\\partial V(x_l)}{\\partial x_l} \\\\\n",
    "m \\Delta^{(2)} x_l = \\frac{\\partial V(x_l)}{\\partial x_l} \n",
    "\\end{eqnarray}"
   ]
  },
  {
   "cell_type": "markdown",
   "metadata": {},
   "source": [
    "### Numerical Frequency\n",
    "\n",
    "Choosing $V(x) = \\frac{1}{2}m\\omega_0^2 x^2$ we have\n",
    "\n",
    "\\begin{eqnarray}\n",
    "\\frac{x_{j+1}-2x_j+x_{j-1}}{a^2} &=& \\omega_0^2 x_j\\\\\n",
    "x_{j+1}+x_{j-1} &=& (2+(a\\omega_0)^2) x_j\n",
    "\\end{eqnarray}\n",
    "\n",
    "Ansatz solution of $x_j = e^{-\\omega ja}$ gives\n",
    "\n",
    "\\begin{eqnarray}\n",
    "e^{-\\omega (j+1)a}+e^{-\\omega (j-1)a} &=& (2+(a\\omega_0)^2) e^{-\\omega ja}\\\\\n",
    "2\\cosh(a\\omega) &=& 2+(a\\omega_0)^2\\\\\n",
    "a\\omega &=& \\mathrm{arccosh}\\left(1+\\frac{(a\\omega_0)^2}{2}\\right)\\\\\n",
    "\\omega^2 &=& \\frac{1}{a^2} \\mathrm{arccosh}^2\\left(1+\\frac{(a\\omega_0)^2}{2}\\right)\\\\\n",
    "\\end{eqnarray}\n",
    "\n",
    "Now using sympy to compute the taylor expansion of $\\mathrm{arccosh}^2(1+\\frac{x^2}{2})$"
   ]
  },
  {
   "cell_type": "code",
   "execution_count": 33,
   "metadata": {
    "collapsed": false,
    "deletable": true,
    "editable": true
   },
   "outputs": [
    {
     "data": {
      "image/png": "[encoded data removed]",
      "text/latex": [
       "$$x^{2} - \\frac{x^{4}}{12} + \\mathcal{O}\\left(x^{6}\\right)$$"
      ],
      "text/plain": [
       "      4        \n",
       " 2   x     ⎛ 6⎞\n",
       "x  - ── + O⎝x ⎠\n",
       "     12        "
      ]
     },
     "execution_count": 33,
     "metadata": {},
     "output_type": "execute_result"
    }
   ],
   "source": [
    "import sympy as sp\n",
    "from sympy import init_printing\n",
    "init_printing(use_latex = True)\n",
    "\n",
    "x = sp.symbols('x')\n",
    "\n",
    "sp.series(sp.acosh(1 + (x)**2 / 2)**2, x)"
   ]
  },
  {
   "cell_type": "markdown",
   "metadata": {
    "deletable": true,
    "editable": true
   },
   "source": [
    "So we have\n",
    "\n",
    "\\begin{eqnarray}\n",
    "\\omega^2 &=& \\frac{1}{a^2} \\left[(a\\omega_0)^2 - \\frac{(a\\omega_0)^4}{12} + \\mathcal{O}((a\\omega_0)^6)\\right]\\\\\n",
    "\\omega^2 &=&  \\omega_0^2 \\left[1-\\frac{(a\\omega_0)^2}{12} + \\mathcal{O}((a\\omega_0)^4)\\right]\\\\\n",
    "\\end{eqnarray}"
   ]
  },
  {
   "cell_type": "markdown",
   "metadata": {},
   "source": [
    "### Improved Action\n",
    "\n",
    "In a similar fashion as above the equations of motion can be derivied for the improved action of the form\n",
    "\n",
    "\\begin{eqnarray}\n",
    "S &=& a\\sum_{j=0}^{\\infty} -\\frac{1}{2} m x_j \\left(\\Delta^{(2)}- \\frac{a^2}{12} (\\Delta^{(2)})^2\\right) x_j+V(x_j) \\\\\n",
    "&=& a\\sum_{j=0}^{\\infty} -\\frac{1}{2} m x_j \\frac{-x_{j+2}+16x_{j+1}-30 x_j + 16x_{j-1}-x_{j-2}}{12 a^2}+V(x_j)\n",
    "\\end{eqnarray}\n",
    "\n",
    "Giving\n",
    "\n",
    "\\begin{eqnarray}\n",
    "m \\left(\\Delta^{(2)}- \\frac{a^2}{12} (\\Delta^{(2)})^2\\right) x_l &=& \\frac{\\partial V(x_l)}{\\partial x_l} \\\\\n",
    "\\frac{-x_{j+2}+16x_{j+1}-30 x_j + 16x_{j-1}-x_{j-2}}{12 a^2} &=& \\omega_0^2 x_j \\\\\n",
    "\\end{eqnarray}\n",
    "\n",
    "as the equation of motion with $V(x) = \\frac{1}{2}m\\omega_0^2 x^2$. Once again using the ansatz $x_j = e^{-\\omega ja}$\n",
    "\n",
    "\\begin{eqnarray}\n",
    "-e^{-\\omega (j+2)a}+16e^{-\\omega (j+1)a}-30 e^{-\\omega ja} + 16e^{-\\omega (j-1)a}-e^{-\\omega (j-2)a} &=& 12(a\\omega_0)^2  e^{-\\omega ja}\\\\\n",
    "-e^{-\\omega 2a} -e^{-\\omega -2a} +16e^{-\\omega a} + 16e^{-\\omega -a} &=&30+ 12(a\\omega_0)^2\\\\\n",
    "-2\\cosh(2a \\omega) +32\\cosh(a\\omega) &=&30+ 12(a\\omega_0)^2\\\\\n",
    "\\cosh(2a \\omega) - 16\\cosh(a\\omega) &=& -15 - 6(a\\omega_0)^2\\\\\n",
    "2 \\cosh^2(a\\omega)-1 - 16\\cosh(a\\omega) &=&-15 - 6(a\\omega_0)^2\\\\\n",
    "\\cosh^2(a\\omega) - 8\\cosh(a\\omega) &=& -7 -3(a\\omega_0)^2\\\\\n",
    "\\cosh^2(a\\omega) - 8\\cosh(a\\omega) + 7 + 3(a\\omega_0)^2 &=& 0\\\\\n",
    "\\end{eqnarray}\n",
    "\n",
    "So\n",
    "\n",
    "\\begin{eqnarray}\n",
    "\\cosh (a\\omega_{\\pm}) &=& \\frac{8 \\pm \\sqrt{64-4(7 + 3(a\\omega_0)^2)}}{2}\\\\\n",
    "&=& \\frac{8 \\pm \\sqrt{36 - 12(a\\omega_0)^2}}{2}\\\\\n",
    "&=& 4 \\pm \\sqrt{9 - 3(a\\omega_0)^2}\\\\\n",
    "\\end{eqnarray}\n",
    "\n",
    "or\n",
    "\n",
    "\\begin{eqnarray}\n",
    "\\omega_{\\pm}^2 &=& \\frac{1}{a^2}\\mathrm{arccosh}^2\\left(4 \\pm \\sqrt{9 - 3(a\\omega_0)^2}\\right)\\\\\n",
    "\\end{eqnarray}\n",
    "\n",
    "Using sympy to expand $\\mathrm{arccosh}^2\\left(4 \\pm \\sqrt{9 - 3(x)^2}\\right)$ as a taylor series in x"
   ]
  },
  {
   "cell_type": "code",
   "execution_count": 34,
   "metadata": {
    "collapsed": false,
    "deletable": true,
    "editable": true
   },
   "outputs": [
    {
     "data": {
      "image/png": "[encoded data removed]",
      "text/latex": [
       "$$\\operatorname{acosh}{\\left (7 \\right )} - \\frac{\\sqrt{3} x^{2}}{24} - \\frac{23 \\sqrt{3}}{4608} x^{4} + \\mathcal{O}\\left(x^{6}\\right)$$"
      ],
      "text/plain": [
       "               2          4        \n",
       "           √3⋅x    23⋅√3⋅x     ⎛ 6⎞\n",
       "acosh(7) - ───── - ──────── + O⎝x ⎠\n",
       "             24      4608          "
      ]
     },
     "execution_count": 34,
     "metadata": {},
     "output_type": "execute_result"
    }
   ],
   "source": [
    "sp.series(sp.acosh(4 + sp.sqrt(9 - 3 * x**2)), x)"
   ]
  },
  {
   "cell_type": "code",
   "execution_count": null,
   "metadata": {
    "collapsed": true
   },
   "outputs": [],
   "source": []
  }
 ],
 "metadata": {
  "kernelspec": {
   "display_name": "Python 3",
   "language": "python",
   "name": "python3"
  },
  "language_info": {
   "codemirror_mode": {
    "name": "ipython",
    "version": 3
   },
   "file_extension": ".py",
   "mimetype": "text/x-python",
   "name": "python",
   "nbconvert_exporter": "python",
   "pygments_lexer": "ipython3",
   "version": "3.5.2"
  }
 },
 "nbformat": 4,
 "nbformat_minor": 2
}
