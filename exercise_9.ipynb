{
 "cells": [
  {
   "cell_type": "markdown",
   "metadata": {
    "deletable": true,
    "editable": true
   },
   "source": [
    "# Exercise 8: Loop Expansions"
   ]
  },
  {
   "cell_type": "markdown",
   "metadata": {
    "deletable": true,
    "editable": true
   },
   "source": [
    "Attempt to compute eqn (93)\n",
    "\n",
    "$A_{\\mu}$, $A_{\\nu}$ can be $A_{x}$, $A_{y}$ or $A_{x}$, $A_{t}$ etc\n",
    "\n",
    "Similarly $dx_{\\mu}$ and $dx_{\\nu}$ can be $dx$ and $dy$ or $dx$ and $dt$.\n",
    "\n",
    "We ignore the first order correction in (92) as we are taking the real component.\n",
    "\n",
    "First we use Stokes (greens) theorem where $x_0$ is \"origin\" and $x= (x_\\mu , x_\\nu)$\n",
    "\n",
    "\\begin{eqnarray*}\n",
    "\\oint_{\\mathcal{C}} A \\cdot dx &=& \\int_{-\\frac{a}{2}}^{\\frac{a}{2}}\\int_{-\\frac{a}{2}}^{\\frac{a}{2}} \\,dx_{\\mu} \\,dx_{\\nu} \\left[ \\partial_{\\mu} A_{\\nu}(x_0+x) - \\partial_{\\nu} A_{\\mu}(x_0+x) \\right]\n",
    "\\end{eqnarray*}\n",
    "\n",
    "Taylor expanding (maybe this is wrong as A is an operator? $A_{\\mu} = A^a_{\\mu}t^a$)\n",
    "\n",
    "\\begin{eqnarray*}\n",
    "&& \\int_{-\\frac{a}{2}}^{\\frac{a}{2}}\\int_{-\\frac{a}{2}}^{\\frac{a}{2}} \\,dx_{\\mu} \\,dx_{\\nu} \\left[ \\partial_{\\mu} A_{\\nu}(x_0+x) - \\partial_{\\nu} A_{\\mu}(x_0+x) \\right] \\\\\n",
    "&=& \\int_{-\\frac{a}{2}}^{\\frac{a}{2}}\\int_{-\\frac{a}{2}}^{\\frac{a}{2}} \\,dx_{\\mu} \\,dx_{\\nu} \\left[ \\partial_{\\mu} A_{\\nu}(x_0) + x_{\\mu}\\partial_{\\mu}\\partial_{\\mu} A_{\\nu}(x_0) + x_{\\nu}\\partial_{\\nu}\\partial_{\\mu} A_{\\nu}(x_0) - \\partial_{\\nu} A_{\\mu}(x_0) - x_{\\mu}\\partial_{\\mu}\\partial_{\\nu} A_{\\mu}(x_0) - x_{\\nu}\\partial_{\\nu}\\partial_{\\nu} A_{\\mu}(x_0) \\right] \\\\\n",
    "&=& \\int_{-\\frac{a}{2}}^{\\frac{a}{2}}\\int_{-\\frac{a}{2}}^{\\frac{a}{2}} \\,dx_{\\mu} \\,dx_{\\nu} \\left[ \\partial_{\\mu} A_{\\nu}(x_0) - \\partial_{\\nu} A_{\\mu}(x_0) + x_{\\mu}\\partial_{\\mu} \\left (\\partial_{\\mu} A_{\\nu}(x_0) -\\partial_{\\nu} A_{\\mu}(x_0) \\right) + x_{\\nu}\\partial_{\\nu} \\left(\\partial_{\\mu} A_{\\nu}(x_0) - \\partial_{\\nu} A_{\\mu}(x_0) \\right) \\right] \\\\\n",
    "&=& \\int_{-\\frac{a}{2}}^{\\frac{a}{2}}\\int_{-\\frac{a}{2}}^{\\frac{a}{2}} \\,dx_{\\mu} \\,dx_{\\nu} \\left[ \\partial_{\\mu} A_{\\nu}(x_0) - \\partial_{\\nu} A_{\\mu}(x_0) + \\left( x_{\\mu}\\partial_{\\mu} + x_{\\nu}\\partial_{\\nu} \\right) \\left(\\partial_{\\mu} A_{\\nu}(x_0) - \\partial_{\\nu} A_{\\mu}(x_0) \\right) \\right]\n",
    "\\end{eqnarray*}\n",
    "\n",
    "Now expanding the second line to compare, ignoring $g$\n",
    "\n",
    "\\begin{eqnarray*}\n",
    "&& \\int_{-\\frac{a}{2}}^{\\frac{a}{2}}\\int_{-\\frac{a}{2}}^{\\frac{a}{2}} \\,dx_{\\mu} \\,dx_{\\nu} \\left[ F_{\\mu\\nu}(x_0) + \\left( x_{\\mu}D_{\\mu} + x_{\\nu}D_{\\nu} \\right)F_{\\mu\\nu}(x_0) \\right]\\\\\n",
    "&=& \\int_{-\\frac{a}{2}}^{\\frac{a}{2}}\\int_{-\\frac{a}{2}}^{\\frac{a}{2}} \\,dx_{\\mu} \\,dx_{\\nu} \\Big[  \\partial_{\\mu} A_{\\nu}(x_0) - \\partial_{\\nu} A_{\\mu}(x_0) +i\\left[A_{\\mu}(x_0), A_{\\nu}(x_0)\\right] + \\left( x_{\\mu}\\partial_{\\mu} + x_{\\nu}\\partial_{\\nu} \\right)\\left(\\partial_{\\mu} A_{\\nu}(x_0)- \\partial_{\\nu} A_{\\mu}(x_0) +i\\left[A_{\\mu}(x_0), A_{\\nu}(x_0) \\right] \\right) - \\left(i x_{\\mu}A_{\\mu}(x_0)+i x_{\\nu}A_{\\nu}(x_0)\\right)\\left(\\partial_{\\mu} A_{\\nu}(x_0) - \\partial_{\\nu} A_{\\mu}(x_0) +i\\left[A_{\\mu}(x_0), A_{\\nu}(x_0) \\right] \\right) \\Big] \\\\\n",
    "\\end{eqnarray*}\n",
    "\n",
    "Assuming both are correct, after comparing I am left with these terms which should be zero\n",
    "\n",
    "\\begin{eqnarray*}\n",
    "&& i\\left[A_{\\mu}, A_{\\nu}\\right] + \\left( x_{\\mu}\\partial_{\\mu} + x_{\\nu}\\partial_{\\nu} \\right)i\\left[A_{\\mu}, A_{\\nu} \\right] - \\left(i x_{\\mu}A_{\\mu}+i x_{\\nu}A_{\\nu}\\right)\\left(\\partial_{\\mu} A_{\\nu} - \\partial_{\\nu} A_{\\mu} +i\\left[A_{\\mu}, A_{\\nu} \\right] \\right)  \\\\\n",
    "&=& i\\left[A_{\\mu}, A_{\\nu}\\right] +  i x_{\\mu}\\partial_{\\mu}\\left[A_{\\mu}, A_{\\nu} \\right] + i x_{\\nu}\\partial_{\\nu} \\left[A_{\\mu}, A_{\\nu} \\right] - \\left(i x_{\\mu}A_{\\mu}+i x_{\\nu}A_{\\nu}\\right)\\left(\\partial_{\\mu} A_{\\nu} - \\partial_{\\nu} A_{\\mu} \\right) +\\left( x_{\\mu}A_{\\mu} + x_{\\nu}A_{\\nu}\\right)\\left[A_{\\mu}, A_{\\nu} \\right] \\\\\n",
    "&=& i\\left[A_{\\mu}, A_{\\nu}\\right]\\\\\n",
    "&& + i x_{\\mu}\\left(\\partial_{\\mu}A_{\\mu}A_{\\nu} + A_{\\mu}\\partial_{\\mu}A_{\\nu} - \\partial_{\\mu}A_{\\nu}A_{\\mu} - A_{\\nu}\\partial_{\\mu}A_{\\mu} \\right) \\\\\n",
    "&& + i x_{\\nu}\\left(\\partial_{\\nu}A_{\\mu}A_{\\nu} + A_{\\mu}\\partial_{\\nu}A_{\\nu} - \\partial_{\\nu}A_{\\nu}A_{\\mu} - A_{\\nu}\\partial_{\\nu}A_{\\mu} \\right) \\\\ \n",
    "&& - i x_{\\mu}A_{\\mu}\\partial_{\\mu} A_{\\nu}+i x_{\\nu}A_{\\nu}\\partial_{\\mu} A_{\\nu} - i x_{\\mu}A_{\\mu}\\partial_{\\nu} A_{\\mu} + i x_{\\nu}A_{\\nu} \\partial_{\\nu} A_{\\mu} \\\\ \n",
    "&& +\\left( x_{\\mu}A_{\\mu} + x_{\\nu}A_{\\nu}\\right)\\left[A_{\\mu}, A_{\\nu} \\right] \\\\\n",
    "\\end{eqnarray*}\n",
    "\n",
    "So aside from the fact this isn't equal to zero we also have terms $\\mathcal{O}(A^3)$ which contradicts what the notes say. This does all work out if the field strength tensor is abelian though."
   ]
  },
  {
   "cell_type": "code",
   "execution_count": null,
   "metadata": {
    "collapsed": true,
    "deletable": true,
    "editable": true
   },
   "outputs": [],
   "source": []
  }
 ],
 "metadata": {
  "kernelspec": {
   "display_name": "Python 3",
   "language": "python",
   "name": "python3"
  },
  "language_info": {
   "codemirror_mode": {
    "name": "ipython",
    "version": 3
   },
   "file_extension": ".py",
   "mimetype": "text/x-python",
   "name": "python",
   "nbconvert_exporter": "python",
   "pygments_lexer": "ipython3",
   "version": "3.5.2"
  }
 },
 "nbformat": 4,
 "nbformat_minor": 2
}
