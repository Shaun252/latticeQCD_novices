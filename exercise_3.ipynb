{
 "cells": [
  {
   "cell_type": "markdown",
   "metadata": {
    "deletable": true,
    "editable": true
   },
   "source": [
    "## Monte Carlo Calculation of Harmonic Oscillator Two Point Function of $\\hat{X}^3(t)$\n",
    "\n",
    "Same as the last exercise with operators $\\hat{X}^3(t)$ instead of $\\hat{X}(t)$"
   ]
  },
  {
   "cell_type": "markdown",
   "metadata": {
    "deletable": true,
    "editable": true
   },
   "source": [
    "### Potentials"
   ]
  },
  {
   "cell_type": "code",
   "execution_count": 25,
   "metadata": {
    "collapsed": true,
    "deletable": true,
    "editable": true
   },
   "outputs": [],
   "source": [
    "import numpy as np\n",
    "import matplotlib.pyplot as plt\n",
    "from functools import partial\n",
    "import vegas\n",
    "import warnings; warnings.simplefilter('ignore')\n",
    "\n",
    "%matplotlib inline\n",
    "\n",
    "#Harmonic\n",
    "def v_sho(x):\n",
    "    \n",
    "    return (x**2)/2\n",
    "\n",
    "#Anharmonic\n",
    "def v_aho(x):\n",
    "    \n",
    "    return (x ** 4)/2\n"
   ]
  },
  {
   "cell_type": "markdown",
   "metadata": {
    "deletable": true,
    "editable": true
   },
   "source": [
    "### Action for One Spatial Point"
   ]
  },
  {
   "cell_type": "code",
   "execution_count": 26,
   "metadata": {
    "collapsed": true,
    "deletable": true,
    "editable": true
   },
   "outputs": [],
   "source": [
    "def action(x, i, v, m, a): \n",
    "    ir = (i+1)%len(x) \n",
    "    il = (i-1)%len(x)\n",
    "    return a *  v(x[i]) + (m/a) * x[i] * (x[i]-x[ir]-x[il])"
   ]
  },
  {
   "cell_type": "markdown",
   "metadata": {
    "deletable": true,
    "editable": true
   },
   "source": [
    "### Update Function"
   ]
  },
  {
   "cell_type": "code",
   "execution_count": 27,
   "metadata": {
    "collapsed": false,
    "deletable": true,
    "editable": true
   },
   "outputs": [],
   "source": [
    "def update(x, v, m, a, dx):\n",
    "    #Updates Every Point Once\n",
    "    accept = 0\n",
    "    for i in range(len(x)):\n",
    "        \n",
    "        x_old = x[i]\n",
    "        old_action = action(x=x, i=i, v=v, m=m, a=a)\n",
    "        \n",
    "        x[i] += np.random.uniform(-dx, dx)\n",
    "        new_action = action(x=x, i=i, v=v, m=m, a=a)\n",
    "        \n",
    "        diff = old_action - new_action\n",
    "        \n",
    "        r = np.minimum(1.0, np.exp(diff))\n",
    "    \n",
    "        if r < np.random.rand():\n",
    "            x[i] = x_old\n",
    "        \n",
    "        else:\n",
    "            accept += 1\n",
    "    \n",
    "    return x, accept / len(x)"
   ]
  },
  {
   "cell_type": "markdown",
   "metadata": {
    "deletable": true,
    "editable": true
   },
   "source": [
    "### Two Point Function"
   ]
  },
  {
   "cell_type": "code",
   "execution_count": 28,
   "metadata": {
    "collapsed": false,
    "deletable": true,
    "editable": true
   },
   "outputs": [],
   "source": [
    "def G(x):\n",
    "    #Returns Array Gn = [G1, G2,...]\n",
    "    n = len(x)\n",
    "    g = np.zeros(n)\n",
    "    for j in range(n):\n",
    "        for i in range(n):\n",
    "            g[j] += ((x[(i+j)%(n)])**3) * ((x[i])**3)\n",
    "            \n",
    "    return g/n"
   ]
  },
  {
   "cell_type": "markdown",
   "metadata": {
    "deletable": true,
    "editable": true
   },
   "source": [
    "### Markov Chain Generation"
   ]
  },
  {
   "cell_type": "code",
   "execution_count": 29,
   "metadata": {
    "collapsed": false,
    "deletable": true,
    "editable": true
   },
   "outputs": [],
   "source": [
    "def markov_chain(n_sites, n_configs, v, m, a, dx, n_corr):\n",
    "    \n",
    "    acc = 0\n",
    "    config = np.zeros((n_sites))\n",
    "    gn = []\n",
    "    \n",
    "    #Thermalise\n",
    "    for i in range(10*n_corr):\n",
    "        config = update(config, v, m, a, dx)[0]\n",
    "\n",
    "\n",
    "    for i in range(n_configs*n_corr):\n",
    "        config, acceptance = update(config, v, m, a, dx)\n",
    "        acc += acceptance\n",
    "        \n",
    "        if i % n_corr == 0:\n",
    "            gn.append(G(config))\n",
    "            \n",
    "    acc = acc / (n_configs*n_corr)\n",
    "            \n",
    "    return gn, acc"
   ]
  },
  {
   "cell_type": "markdown",
   "metadata": {
    "deletable": true,
    "editable": true
   },
   "source": [
    "### Analysis"
   ]
  },
  {
   "cell_type": "code",
   "execution_count": 30,
   "metadata": {
    "collapsed": false,
    "deletable": true,
    "editable": true
   },
   "outputs": [],
   "source": [
    "def analysis(n_sites, n_cfs_arr, v, m, a, dx, n_corr, harmonic=True):\n",
    "    \n",
    "    rows = int(np.ceil(len(n_cfs_arr)/2))\n",
    "    fig, axs =  plt.subplots(nrows=rows, ncols=rows, sharex='col', figsize=(8, 8), dpi=100)\n",
    "    fig.subplots_adjust(wspace=0.1, hspace=0.1)\n",
    "    ax = axs.flat\n",
    "    \n",
    "    for i, n_configs in enumerate(n_cfs_arr):\n",
    "    \n",
    "        gn, acc = markov_chain(n_sites=n_sites, n_configs=n_configs, v=v, m=m, a=a, dx=dx, n_corr=n_corr)\n",
    "        \n",
    "        avg = np.mean(gn,0)\n",
    "        err = np.std(gn,0) / np.sqrt(n_configs)\n",
    "        avg_shift = np.roll(avg, -1)\n",
    "        \n",
    "    \n",
    "        t = np.arange(0, n_sites * a, a)\n",
    "        E_eff = np.log(np.divide(avg,avg_shift)) / a\n",
    "    \n",
    "        \n",
    "        ax[i].set_xlim(0, 4)\n",
    "        ax[i].set_ylim(0, 2)\n",
    "        ax[i].errorbar(t, E_eff, yerr=err, fmt='o',  markersize=2, color='k')\n",
    "        ax[i].tick_params(bottom=\"off\", top=\"off\", left=\"off\", right=\"off\")\n",
    "        ax[i].set_title(\"Effective Energy for N_configs: \" + str(n_configs))\n",
    "        ax[i].set_xticks([0, 2, 4])\n",
    "        if harmonic == True:\n",
    "            ax[i].axhline(y=1, color='r', linestyle='-')\n",
    "            ax[i].set_yticks([1, 2])\n",
    "        elif harmonic == False:\n",
    "            ax[i].set_yticks([0.5, 1, 1.5, 2])\n",
    "            \n",
    "        \n",
    "    \n",
    "    print(\"Acceptance Rate: \" + str(acc))\n",
    "    plt.show()"
   ]
  },
  {
   "cell_type": "markdown",
   "metadata": {
    "deletable": true,
    "editable": true
   },
   "source": [
    "### Results for Harmonic Oscillator"
   ]
  },
  {
   "cell_type": "code",
   "execution_count": 31,
   "metadata": {
    "collapsed": false,
    "deletable": true,
    "editable": true
   },
   "outputs": [
    {
     "name": "stdout",
     "output_type": "stream",
     "text": [
      "Acceptance Rate: 0.49664024999999534\n"
     ]
    },
    {
     "data": {
      "image/png": "[encoded data removed]",
      "text/plain": [
       "<matplotlib.figure.Figure at 0x7fe0b39afda0>"
      ]
     },
     "metadata": {},
     "output_type": "display_data"
    }
   ],
   "source": [
    "analysis(n_sites=20, n_cfs_arr=[25,100,1000,10000], v=v_sho, m=1, a=0.5, dx=1.4, n_corr=20)"
   ]
  },
  {
   "cell_type": "markdown",
   "metadata": {
    "deletable": true,
    "editable": true
   },
   "source": [
    "### Results for Anharmonic Oscillator"
   ]
  },
  {
   "cell_type": "code",
   "execution_count": 32,
   "metadata": {
    "collapsed": false,
    "deletable": true,
    "editable": true
   },
   "outputs": [
    {
     "name": "stdout",
     "output_type": "stream",
     "text": [
      "Acceptance Rate: 0.48476074999999125\n"
     ]
    },
    {
     "data": {
      "image/png": "[encoded data removed]",
      "text/plain": [
       "<matplotlib.figure.Figure at 0x7fe0b3ac2898>"
      ]
     },
     "metadata": {},
     "output_type": "display_data"
    }
   ],
   "source": [
    "analysis(n_sites=20, n_cfs_arr=[25, 100, 1000, 10000], v=v_aho, m=1, a=0.5, dx=1.4, n_corr=20, harmonic=False)"
   ]
  },
  {
   "cell_type": "code",
   "execution_count": null,
   "metadata": {
    "collapsed": true,
    "deletable": true,
    "editable": true
   },
   "outputs": [],
   "source": []
  }
 ],
 "metadata": {
  "kernelspec": {
   "display_name": "Python 3",
   "language": "python",
   "name": "python3"
  },
  "language_info": {
   "codemirror_mode": {
    "name": "ipython",
    "version": 3
   },
   "file_extension": ".py",
   "mimetype": "text/x-python",
   "name": "python",
   "nbconvert_exporter": "python",
   "pygments_lexer": "ipython3",
   "version": "3.5.2"
  }
 },
 "nbformat": 4,
 "nbformat_minor": 2
}
