{
 "cells": [
  {
   "cell_type": "markdown",
   "metadata": {},
   "source": [
    "# Exercise 10: Landau Gauge and Maximal Expectation Values"
   ]
  },
  {
   "cell_type": "markdown",
   "metadata": {},
   "source": [
    "Want to show that the gauge which maximizes\n",
    "\n",
    "\\begin{eqnarray*}\n",
    "\\langle 0 | \\textrm{Tr} \\left( U_\\mu \\right) | 0 \\rangle\n",
    "\\end{eqnarray*}\n",
    "\n",
    "is the landau gauge $\\partial_\\mu A^\\mu =0$ in the continuum limit $a \\to 0$. Using equation (90) where we assume $A_\\mu$ is approximately constant over $a$ we have\n",
    "\n",
    "\\begin{eqnarray*}\n",
    "U_\\mu &\\approx& \\exp\\left(-iagA_{\\mu}\\right)\\\\\n",
    "&=& 1-iagA_{\\mu} + a^2g^2A^2_\\mu + \\ldots\n",
    "\\end{eqnarray*}\n",
    "\n",
    "Taking the trace of this\n",
    "\n",
    "\\begin{eqnarray*}\n",
    "\\textrm{Tr}\\left(1-iagA_{\\mu} + a^2g^2A^2_\\mu + \\ldots\\right) &=& 3+a^2g^2\\textrm{Tr}\\left(A^2_\\mu\\right)\n",
    "\\end{eqnarray*}\n",
    "\n",
    "Our expectation value is an average over all the links on the lattice which we can write in the continuum limit as\n",
    "\n",
    "\\begin{eqnarray*}\n",
    "\\langle 0 | \\textrm{Tr} \\left( U_\\mu \\right) | 0 \\rangle &=& \\sum_\\mu \\int d^4x\\, g^2\\textrm{Tr}\\left(A^2_\\mu\\right) + const.\n",
    "\\end{eqnarray*}\n",
    "\n",
    "So for this to be at an extremal point we require it's first order variation under an infinitesimal gauge transformation to vanish (the equivalent of setting the derivative to zero). An infinitesimal gauge transformation has the form\n",
    "\n",
    "\\begin{eqnarray*}\n",
    "\\Omega(x) &=& \\exp\\left(i\\epsilon H(x) \\right)\\\\\n",
    "&\\approx& 1+ i\\epsilon H(x)\n",
    "\\end{eqnarray*}\n",
    "\n",
    "where $H(x)$ is an element of the lie algebra like $A_\\mu$. We know non-abelian gauge fields transform as\n",
    "\n",
    "\\begin{eqnarray*}\n",
    "A^\\prime_\\mu &=& \\Omega(x)A_\\mu\\Omega^\\dagger(x)+i \\left(\\partial_\\mu\\Omega(x)\\right)\\Omega^\\dagger(x)\\\\\n",
    "&\\approx& \\left(1+ i\\epsilon H(x)\\right)A_\\mu\\left(1- i\\epsilon H(x)\\right) +  i\\left(i\\epsilon \\partial_\\mu H(x)\\right)\\left(1- i\\epsilon H(x)\\right)\\\\\n",
    "&=& A_\\mu + i\\epsilon \\left[H(x), A_\\mu\\right]-\\epsilon\\partial_\\mu H(x)\n",
    "\\end{eqnarray*}\n",
    "\n",
    "So our (first order) variation in our expectation value is\n",
    "\n",
    "\\begin{eqnarray*}\n",
    "\\delta \\langle 0 | \\textrm{Tr} \\left( U_\\mu \\right) | 0 \\rangle &=& 2\\epsilon g^2\\sum_\\mu \\int d^4x\\,\\textrm{Tr}\\left(A_\\mu \\left( i \\left[H(x), A_\\mu\\right]-\\partial_\\mu H(x) \\right) \\right)\n",
    "\\end{eqnarray*}\n",
    "\n",
    "The trace allows us to combine cross terms and also makes the commutator vanish so we are left with \n",
    "\n",
    "\\begin{eqnarray*}\n",
    "&&-2\\epsilon g^2\\sum_\\mu \\int d^4x\\,\\textrm{Tr}\\left(A_\\mu \\partial_\\mu H(x) \\right)\\\\\n",
    "&=& 2\\epsilon g^2\\sum_\\mu \\int d^4x\\,\\textrm{Tr}\\left( \\partial_\\mu A_\\mu H(x) \\right) + \\textrm{Boundary Term}\\\\\n",
    "\\end{eqnarray*}\n",
    "\n",
    "where we integrated by parts. If we assume $H$ vanishes at infinity the requirement that our variation be zero for an extremal value corresponds to having $ \\partial_\\mu A_\\mu = 0$ as $H(x)$ is arbitrary."
   ]
  },
  {
   "cell_type": "code",
   "execution_count": null,
   "metadata": {
    "collapsed": true
   },
   "outputs": [],
   "source": []
  }
 ],
 "metadata": {
  "kernelspec": {
   "display_name": "Python 3",
   "language": "python",
   "name": "python3"
  },
  "language_info": {
   "codemirror_mode": {
    "name": "ipython",
    "version": 3
   },
   "file_extension": ".py",
   "mimetype": "text/x-python",
   "name": "python",
   "nbconvert_exporter": "python",
   "pygments_lexer": "ipython3",
   "version": "3.5.2"
  }
 },
 "nbformat": 4,
 "nbformat_minor": 2
}
