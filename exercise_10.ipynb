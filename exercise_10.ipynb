{
 "cells": [
  {
   "cell_type": "markdown",
   "metadata": {
    "deletable": true,
    "editable": true
   },
   "source": [
    "# Exercise 10 : Gluon Path Integrals"
   ]
  },
  {
   "cell_type": "markdown",
   "metadata": {
    "deletable": true,
    "editable": true
   },
   "source": [
    "### Function to generate an array of SU(3) matrices and their inverses to use in the monte-carlo process\n",
    "\n",
    "See Gattringer and Lang page 83. Although they say you should choose random numbers between $(-0.5, 0.5)$ this leads to negative numbers on the diagonal for the generated su3 matrices, these are not closer to the identity for smaller epsilon (as -.999 is generated for epsilon = 0.01 and -.075 is generated for epsilon = 0.5, the first value is obviously further away from 1 even though the epsilon is smaller). Hence smaller epsilon does not give a higher acceptance which is required to tune it for 50%\n",
    "\n",
    "So I will use random numbers from $(0,0.5)$ I tested the expectation values obtained from $(0,0.5)$ and $(-0.5,0.5)$ and they are the same. After emailing lang, only need 3 random numbers and r[0] = sqrt(xxx) without sign function\n",
    "\n",
    "Need to examine error propagation, autocorrelation"
   ]
  },
  {
   "cell_type": "code",
   "execution_count": 31,
   "metadata": {
    "collapsed": false,
    "deletable": true,
    "editable": true
   },
   "outputs": [],
   "source": [
    "import numpy as np\n",
    "import os\n",
    "from re import split\n",
    "from multiprocessing import Pool\n",
    "\n",
    "def generate_su2(epsilon):\n",
    "    #generates a random su2 matrix where epsilon controls the \"distance\" from the identity\n",
    "    r_random_numbers = np.random.uniform(0, 0.5, (4))\n",
    "    r = np.empty((4))\n",
    "    \n",
    "    r[1:] = epsilon * r_random_numbers[1:] / np.linalg.norm(r_random_numbers[1:])\n",
    "    r[0] = np.sign(r_random_numbers[0]) * np.sqrt(1-epsilon**2)\n",
    "    \n",
    "    r11 = r[0] + r[3]*1j\n",
    "    r12 = r[1]*1j + r[2]\n",
    "    r21 = r[1]*1j - r[2]\n",
    "    r22 = r[0] - r[3]*1j\n",
    "    \n",
    "    return np.array([[r11, r12], [r21, r22]])\n",
    "    \n",
    "def generate_su3_array(n, epsilon):\n",
    "    #generates a 2*n array of su3 matrices where epsilon controls the distance from the idenity\n",
    "    su3_array = np.empty((2*n, 3, 3), dtype = 'complex128')\n",
    "    \n",
    "    for i in range(n):\n",
    "\n",
    "        R_su3 = np.identity(3, dtype=complex)\n",
    "        S_su3 = np.identity(3, dtype=complex)\n",
    "        T_su3 = np.identity(3, dtype=complex)\n",
    "\n",
    "        R_su3[:2, :2] = generate_su2(epsilon)\n",
    "        S_su3[0:3:2, 0:3:2] = generate_su2(epsilon)\n",
    "        T_su3[1:, 1:] = generate_su2(epsilon)\n",
    "        \n",
    "        X_su3 = np.dot(np.dot(R_su3, S_su3), T_su3)\n",
    "\n",
    "        su3_array[2*i, :, :] = X_su3\n",
    "        su3_array[2*i+1, :, :] = X_su3.conj().T\n",
    "        \n",
    "    return su3_array"
   ]
  },
  {
   "cell_type": "markdown",
   "metadata": {
    "deletable": true,
    "editable": true
   },
   "source": [
    "### Classes for the lattice and the site at each lattice point.\n",
    "\n",
    "Site value is just a scalar here as this is a simple gauge simulation. The fundamental data structure of the lattice is a numpy array of site objects which have four links initialised to the identity matrix."
   ]
  },
  {
   "cell_type": "code",
   "execution_count": 32,
   "metadata": {
    "collapsed": false,
    "deletable": true,
    "editable": true
   },
   "outputs": [],
   "source": [
    "def generate_site():\n",
    "    #Returns a 4 dimensional array of su3 matrices initialised to the identity which can be assigned to each\n",
    "    #spatial lattice point\n",
    "    link_value = np.identity(3, dtype = 'complex128')\n",
    "    link = np.tile(link_value, (4, 1, 1))\n",
    "    \n",
    "    return link\n",
    "        \n",
    "\n",
    "def generate_lattice(n_points):\n",
    "    #Returns a (n_points, n_points, n_points, n_points, 4, 3, 3) numpy array as our lattice with 4\n",
    "    #su3 links assigned to each grid point\n",
    "    volume = np.append(np.repeat(n_points, 4), (4,3,3))\n",
    "    grid = np.empty(volume, dtype = 'complex128')\n",
    "    \n",
    "    for t in range(n_points):\n",
    "        for x in range(n_points):\n",
    "            for y in range(n_points):\n",
    "                for z in range(n_points):\n",
    "                    grid[t, x, y, z, :, :, :] = generate_site()\n",
    "                        \n",
    "    return grid\n",
    "\n",
    "def link(lattice, coordinates, mu):\n",
    "    #Function to take into account periodic bd conditions\n",
    "    n_points = lattice.shape[0]\n",
    "        \n",
    "    return lattice[coordinates[0] % n_points, coordinates[1] % n_points, \n",
    "                   coordinates[2] % n_points, coordinates[3] % n_points, mu, : , :]"
   ]
  },
  {
   "cell_type": "markdown",
   "metadata": {
    "collapsed": true,
    "deletable": true,
    "editable": true
   },
   "source": [
    "### Function which computes the staple sum for a given site link\n",
    "\n",
    "The function takes a coordinate array [t, x, y, z] for the lattice and a direction t = 0, x = 1, y = 2 or z = 3 and computes the sum of staples which include this link. This corresponds to the Wilson action. See Gattringer and Lang page 79 eqn (4.20)."
   ]
  },
  {
   "cell_type": "code",
   "execution_count": 33,
   "metadata": {
    "collapsed": false,
    "deletable": true,
    "editable": true
   },
   "outputs": [],
   "source": [
    "def wilson_link_sum(lattice, coordinates,  mu, u_0):\n",
    "    #Staple sum for the wilson plaquette action\n",
    "    dimension = 4\n",
    "    res = np.zeros((3,3), dtype = 'complex128')\n",
    "    \n",
    "    for nu in range(dimension):\n",
    "        if nu != mu:\n",
    "            \n",
    "            coordinates_mu = coordinates[:]\n",
    "            coordinates_mu[mu] += 1\n",
    "            \n",
    "            coordinates_nu = coordinates[:]\n",
    "            coordinates_nu[nu] += 1\n",
    "            \n",
    "            coordinates_mu_n_nu = coordinates[:]\n",
    "            coordinates_mu_n_nu[mu] += 1\n",
    "            coordinates_mu_n_nu[nu] -= 1\n",
    "            \n",
    "            coordinates_n_nu = coordinates[:]\n",
    "            coordinates_n_nu[nu] -= 1\n",
    "            \n",
    "            #1x1 positive\n",
    "            res += np.dot(np.dot(link(lattice, coordinates_mu, nu), \n",
    "                                 link(lattice, coordinates_nu, mu).conj().T),\n",
    "                                 link(lattice, coordinates,    nu).conj().T)\n",
    "            #1x1 negative\n",
    "            res += np.dot(np.dot(link(lattice, coordinates_mu_n_nu, nu).conj().T, \n",
    "                                 link(lattice, coordinates_n_nu,    mu).conj().T), \n",
    "                                 link(lattice, coordinates_n_nu,    nu))\n",
    "        \n",
    "    return res / u_0**4 / 3\n",
    "\n",
    "def improved_link_sum(lattice, coordinates, mu, u_0):\n",
    "    #Staple sum for rectangular improved action which includes next nearest neighbour links\n",
    "    \n",
    "    dimension = 4\n",
    "    res = np.zeros((3,3), dtype = 'complex128')\n",
    "    res_rec = np.zeros((3,3), dtype = 'complex128')\n",
    "    \n",
    "    for nu in range(dimension):\n",
    "        if nu != mu:\n",
    "            \n",
    "            coordinates_mu = coordinates[:]\n",
    "            coordinates_mu[mu] +=1\n",
    "            \n",
    "            coordinates_nu = coordinates[:]\n",
    "            coordinates_nu[nu] +=1\n",
    "            \n",
    "            coordinates_mu_nu = coordinates[:]\n",
    "            coordinates_mu_nu[mu] +=1\n",
    "            coordinates_mu_nu[nu] +=1\n",
    "            \n",
    "            coordinates_mu_mu = coordinates[:]\n",
    "            coordinates_mu_mu[mu] += 2\n",
    "            \n",
    "            coordinates_nu_nu = coordinates[:]\n",
    "            coordinates_nu_nu[nu] += 2\n",
    "            \n",
    "            coordinates_mu_n_nu = coordinates[:]\n",
    "            coordinates_mu_n_nu[mu] += 1\n",
    "            coordinates_mu_n_nu[nu] -= 1\n",
    "            \n",
    "            coordinates_n_nu = coordinates[:]\n",
    "            coordinates_n_nu[nu] -= 1\n",
    "            \n",
    "            coordinates_n_nu_nu = coordinates[:]\n",
    "            coordinates_n_nu_nu[nu] -= 2\n",
    "            \n",
    "            coordinates_mu_mu_n_nu = coordinates[:]\n",
    "            coordinates_mu_mu_n_nu[mu] += 2\n",
    "            coordinates_mu_mu_n_nu[nu] -= 1\n",
    "            \n",
    "            coordinates_mu_n_nu_nu = coordinates[:]\n",
    "            coordinates_mu_n_nu_nu[mu] += 1\n",
    "            coordinates_mu_n_nu_nu[nu] -= 2\n",
    "            \n",
    "            coordinates_n_mu_nu = coordinates[:]\n",
    "            coordinates_n_mu_nu[mu] -= 1\n",
    "            coordinates_n_mu_nu[nu] += 1\n",
    "            \n",
    "            coordinates_n_mu = coordinates[:]\n",
    "            coordinates_n_mu[mu] -= 1\n",
    "            \n",
    "            coordinates_n_mu_n_nu = coordinates[:]\n",
    "            coordinates_n_mu_n_nu[mu] -= 1\n",
    "            coordinates_n_mu_n_nu[nu] -= 1\n",
    "    \n",
    "            link_00_nu = link(lattice, coordinates,       nu)\n",
    "            link_01_mu = link(lattice, coordinates_nu,    mu)\n",
    "            link_01_nu = link(lattice, coordinates_nu,    nu)\n",
    "            link_10_mu = link(lattice, coordinates_mu,    mu)\n",
    "            link_10_nu = link(lattice, coordinates_mu,    nu)\n",
    "            link_11_mu = link(lattice, coordinates_mu_nu, mu)\n",
    "            link_11_nu = link(lattice, coordinates_mu_nu, nu)\n",
    "            link_20_nu = link(lattice, coordinates_mu_mu, nu)\n",
    "            link_02_mu = link(lattice, coordinates_nu_nu, mu) \n",
    "            \n",
    "            link_0n1_mu = link(lattice, coordinates_n_nu,       mu)\n",
    "            link_0n1_nu = link(lattice, coordinates_n_nu,       nu)\n",
    "            link_0n2_mu = link(lattice, coordinates_n_nu_nu,    mu)\n",
    "            link_0n2_nu = link(lattice, coordinates_n_nu_nu,    nu)\n",
    "            link_1n1_mu = link(lattice, coordinates_mu_n_nu,    mu)\n",
    "            link_1n1_nu = link(lattice, coordinates_mu_n_nu,    nu)\n",
    "            link_1n2_nu = link(lattice, coordinates_mu_n_nu_nu, nu)\n",
    "            link_2n1_nu = link(lattice, coordinates_mu_mu_n_nu, nu)\n",
    "            \n",
    "            link_n10_nu =  link(lattice, coordinates_n_mu,      nu)\n",
    "            link_n10_mu =  link(lattice, coordinates_n_mu,      mu)\n",
    "            link_n11_mu =  link(lattice, coordinates_n_mu_nu,   mu)\n",
    "            link_n1n1_mu = link(lattice, coordinates_n_mu_n_nu, mu)\n",
    "            link_n1n1_nu = link(lattice, coordinates_n_mu_n_nu, nu)\n",
    "            \n",
    "            #1x1 above\n",
    "            res += np.dot(np.dot(link_10_nu, \n",
    "                                 link_01_mu.conj().T),\n",
    "                                 link_00_nu.conj().T)\n",
    "            #1x1 below\n",
    "            res += np.dot(np.dot(link_1n1_nu.conj().T, \n",
    "                                 link_0n1_mu.conj().T), \n",
    "                                 link_0n1_nu)\n",
    "            \n",
    "            #2x1 landscape rectangle in front and above\n",
    "            res_rec += np.dot(np.dot(np.dot(np.dot(link_10_mu,\n",
    "                                                   link_20_nu),\n",
    "                                                   link_11_mu.conj().T), \n",
    "                                                   link_01_mu.conj().T),\n",
    "                                                   link_00_nu.conj().T)\n",
    "            \n",
    "            #2x1 landscape rectangle in front and below\n",
    "            res_rec += np.dot(np.dot(np.dot(np.dot(link_10_mu,\n",
    "                                                   link_2n1_nu.conj().T),\n",
    "                                                   link_1n1_mu.conj().T), \n",
    "                                                   link_0n1_mu.conj().T),\n",
    "                                                   link_0n1_nu)\n",
    "            \n",
    "            #2x1 landscape rectangle behind and above\n",
    "            res_rec += np.dot(np.dot(np.dot(np.dot(link_10_nu,\n",
    "                                                   link_01_mu.conj().T),\n",
    "                                                   link_n11_mu.conj().T), \n",
    "                                                   link_n10_nu.conj().T),\n",
    "                                                   link_n10_mu)\n",
    "            \n",
    "            #2x1 landscape rectangle behind and below\n",
    "            res_rec += np.dot(np.dot(np.dot(np.dot(link_1n1_nu.conj().T,\n",
    "                                                   link_0n1_mu.conj().T),\n",
    "                                                   link_n1n1_mu.conj().T), \n",
    "                                                   link_n1n1_nu),\n",
    "                                                   link_n10_mu)\n",
    "            \n",
    "            #1x2 portrait rectangle above\n",
    "            res_rec += np.dot(np.dot(np.dot(np.dot(link_10_nu,\n",
    "                                                   link_11_nu),\n",
    "                                                   link_02_mu.conj().T), \n",
    "                                                   link_01_nu.conj().T),\n",
    "                                                   link_00_nu.conj().T)\n",
    "            \n",
    "            #1x2 portrait rectangle below\n",
    "            res_rec += np.dot(np.dot(np.dot(np.dot(link_1n1_nu.conj().T,\n",
    "                                                   link_1n2_nu.conj().T),\n",
    "                                                   link_0n2_mu.conj().T), \n",
    "                                                   link_0n2_nu),\n",
    "                                                   link_0n1_nu)\n",
    "    \n",
    "    return (5 * res / u_0**4 / 9) - (res_rec / u_0**6 / 36)"
   ]
  },
  {
   "cell_type": "markdown",
   "metadata": {
    "deletable": true,
    "editable": true
   },
   "source": [
    "### Update function for a single gauge link\n",
    "\n",
    "The function takes a su3 matrix, coordinate array, direction and constant beta and preforms a single montecarlo step for a single gauge link"
   ]
  },
  {
   "cell_type": "code",
   "execution_count": 34,
   "metadata": {
    "collapsed": false,
    "deletable": true,
    "editable": true
   },
   "outputs": [],
   "source": [
    "def update_link(lattice, coordinates, mu, link_sum, su3_set, su3_set_length, beta, u_0, n_hits):\n",
    "    \n",
    "    accept = 0\n",
    "    \n",
    "    t = coordinates[0]\n",
    "    x = coordinates[1]\n",
    "    y = coordinates[2]\n",
    "    z = coordinates[3]\n",
    "    \n",
    "    #compute staple once for given link\n",
    "    staple = link_sum(lattice, coordinates,  mu, u_0)\n",
    "    \n",
    "    #update single link multiple times to bring into equilibrium with surrounding links\n",
    "    for i in range(n_hits):\n",
    "\n",
    "        su3_matrix = su3_set[np.random.randint(0, su3_set_length)]\n",
    "        \n",
    "        new_link = np.dot(su3_matrix , lattice[t, x, y, z, mu, : , :])\n",
    "        \n",
    "        diff = new_link - lattice[t, x, y, z, mu, : , :]\n",
    "    \n",
    "        deltaS = beta * np.trace(np.dot(diff, staple)).real\n",
    "    \n",
    "        if np.exp(deltaS) > np.random.rand():\n",
    "          \n",
    "            lattice[t, x, y, z, mu, : , :] = new_link\n",
    "            accept += 1\n",
    "    \n",
    "    return accept / n_hits"
   ]
  },
  {
   "cell_type": "markdown",
   "metadata": {
    "deletable": true,
    "editable": true
   },
   "source": [
    "### Function to update whole lattice"
   ]
  },
  {
   "cell_type": "code",
   "execution_count": 35,
   "metadata": {
    "collapsed": false,
    "deletable": true,
    "editable": true
   },
   "outputs": [],
   "source": [
    "def update_lattice(lattice, link_sum, su3_set, beta, u_0, n_hits):\n",
    "    n_points = lattice.shape[0]\n",
    "    dimension = 4 \n",
    "    acceptance = 0\n",
    "    su3_set_length = len(su3_set)\n",
    "    \n",
    "    for t in range(n_points):\n",
    "        for x in range(n_points):\n",
    "            for y in range(n_points):\n",
    "                for z in range(n_points):\n",
    "                    for mu in range(dimension):\n",
    "                        acceptance += update_link(lattice, [t,x,y,z], mu, link_sum, \n",
    "                                                  su3_set, su3_set_length, beta, u_0, n_hits)\n",
    "                            \n",
    "    return acceptance / dimension / n_points**dimension"
   ]
  },
  {
   "cell_type": "markdown",
   "metadata": {
    "collapsed": false,
    "deletable": true,
    "editable": true
   },
   "source": [
    "### Ensemble Generation\n",
    "\n",
    "Do individual hits count as updates for correlation? assumming they do and 50 correlation steps = 5 correlation x 10 hits"
   ]
  },
  {
   "cell_type": "code",
   "execution_count": 36,
   "metadata": {
    "collapsed": false,
    "deletable": true,
    "editable": true
   },
   "outputs": [],
   "source": [
    "def markov_chain(lattice, link_sum,  su3_set, beta, u_0, n_configs, n_corr, n_hits = 10, \n",
    "                 thermal_steps = 150, thermalise = True, save = True):\n",
    "    \n",
    "    acceptance = 0\n",
    "    \n",
    "    #thermalise\n",
    "    if thermalise == True:\n",
    "        for i in range(thermal_steps):\n",
    "            \n",
    "            update_lattice(lattice, link_sum, su3_set, beta, u_0, n_hits)\n",
    "    \n",
    "    #equilibrium update\n",
    "    for j in range(n_configs*n_corr):\n",
    "        \n",
    "        acceptance += update_lattice(lattice, link_sum, su3_set, beta, u_0, n_hits)\n",
    "        \n",
    "        if save == True:\n",
    "            if j % n_corr == 0:\n",
    "            \n",
    "                ensemble_index = int(j/n_corr)\n",
    "                config_save(lattice, link_sum.__name__, beta, ensemble_index)\n",
    "    \n",
    "    if n_configs != 0 and n_corr != 0:\n",
    "    \n",
    "        acceptance = acceptance / n_configs / n_corr       \n",
    "    \n",
    "    return acceptance"
   ]
  },
  {
   "cell_type": "markdown",
   "metadata": {
    "deletable": true,
    "editable": true
   },
   "source": [
    "### Plaquette lattice average"
   ]
  },
  {
   "cell_type": "code",
   "execution_count": 37,
   "metadata": {
    "collapsed": true,
    "deletable": true,
    "editable": true
   },
   "outputs": [],
   "source": [
    "def square_wilson_loop(lattice, coordinates, mu, nu):\n",
    "    #compute upper plaquette\n",
    "    \n",
    "    coordinates_mu = coordinates[:]\n",
    "    coordinates_mu[mu] +=1\n",
    "    coordinates_nu = coordinates[:]\n",
    "    coordinates_nu[nu] +=1\n",
    "    \n",
    "    res = np.dot(np.dot(np.dot(link(lattice, coordinates,    mu), \n",
    "                               link(lattice, coordinates_mu, nu)), \n",
    "                               link(lattice, coordinates_nu, mu).conj().T), \n",
    "                               link(lattice, coordinates,    nu).conj().T)\n",
    "        \n",
    "    return np.trace(res).real / 3\n",
    "\n",
    "\n",
    "def square_lattice_average(lattice):\n",
    "    #average plaquette over whole lattice\n",
    "    dimension = 4\n",
    "    unique_2d_loops_number = 6\n",
    "    n_points = lattice.shape[0]\n",
    "    \n",
    "    res = 0\n",
    "    for t in range(n_points):\n",
    "        for x in range(n_points):\n",
    "            for y in range(n_points):\n",
    "                for z in range(n_points):\n",
    "                    for mu in range(dimension):\n",
    "                        for nu in range(mu):\n",
    "                            res += square_wilson_loop(lattice, [t,x,y,z], mu, nu)\n",
    "                                \n",
    "    return res / n_points**dimension / unique_2d_loops_number"
   ]
  },
  {
   "cell_type": "markdown",
   "metadata": {
    "deletable": true,
    "editable": true
   },
   "source": [
    "### Rectangle loop lattice average"
   ]
  },
  {
   "cell_type": "code",
   "execution_count": 38,
   "metadata": {
    "collapsed": true,
    "deletable": true,
    "editable": true
   },
   "outputs": [],
   "source": [
    "def rectangular_wilson_loop(lattice, coordinates, mu, nu):\n",
    "    #compute upper rectangle in front\n",
    "    \n",
    "    coordinates_mu = coordinates[:]\n",
    "    coordinates_mu[mu] += 1\n",
    "    coordinates_nu = coordinates[:]\n",
    "    coordinates_nu[nu] += 1\n",
    "    coordinates_mu_nu = coordinates[:]\n",
    "    coordinates_mu_nu[mu] += 1\n",
    "    coordinates_mu_nu[nu] += 1\n",
    "    coordinates_mu_mu = coordinates[:]\n",
    "    coordinates_mu_mu[mu] += 2        \n",
    "    \n",
    "    link_00_mu = link(lattice, coordinates,       mu)\n",
    "    link_00_nu = link(lattice, coordinates,       nu)\n",
    "    link_10_mu = link(lattice, coordinates_mu,    mu)\n",
    "    link_11_mu = link(lattice, coordinates_mu_nu, mu)\n",
    "    link_01_mu = link(lattice, coordinates_nu,    mu)\n",
    "    link_20_nu = link(lattice, coordinates_mu_mu, nu) \n",
    "    \n",
    "    #2x1 positive rectangle\n",
    "    res = np.dot(np.dot(np.dot(np.dot(np.dot(link_00_mu, \n",
    "                                             link_10_mu),\n",
    "                                             link_20_nu),\n",
    "                                             link_11_mu.conj().T), \n",
    "                                             link_01_mu.conj().T),\n",
    "                                             link_00_nu.conj().T)\n",
    "    \n",
    "    return np.trace(res).real / 3\n",
    "\n",
    "\n",
    "def rectangular_lattice_average(lattice):\n",
    "    #average landscape & portrait rectangle over lattice\n",
    "    dimension = 4\n",
    "    unique_2d_loops_number = 6\n",
    "    n_points = lattice.shape[0]\n",
    "    \n",
    "    res = 0\n",
    "    for t in range(n_points):\n",
    "        for x in range(n_points):\n",
    "            for y in range(n_points):\n",
    "                for z in range(n_points):\n",
    "                    for mu in range(dimension):\n",
    "                        for nu in range(mu):\n",
    "                            res += rectangular_wilson_loop(lattice, [t,x,y,z], mu, nu)\n",
    "                            res += rectangular_wilson_loop(lattice, [t,x,y,z], nu, mu)\n",
    "                                \n",
    "    return res / n_points**dimension / unique_2d_loops_number / 2"
   ]
  },
  {
   "cell_type": "markdown",
   "metadata": {
    "deletable": true,
    "editable": true
   },
   "source": [
    "### Config save and load"
   ]
  },
  {
   "cell_type": "code",
   "execution_count": 39,
   "metadata": {
    "collapsed": true,
    "deletable": true,
    "editable": true
   },
   "outputs": [],
   "source": [
    "def config_save(configuration, action, beta, k):\n",
    "    #save in a local folder \"gauge_configs\"\n",
    "    filename = \"gauge_configs/\" + str(action) + \"/beta_\" + str(beta) + \"/\" + str(k)\n",
    "    os.makedirs(os.path.dirname(filename), exist_ok=True)\n",
    "    np.save(filename, configuration, allow_pickle = True)\n",
    "    print(\"Configuration \" + str(k) + \" saved\")\n",
    "\n",
    "def natural_key(string_):\n",
    "    return [int(s) if s.isdigit() else s for s in split(r'(\\d+)', string_)]\n",
    "\n",
    "def load_ensemble(action, beta):\n",
    "    #load ensemble files using action = \"wilson_link_sum\" or \"improved_link_sum\"\n",
    "    ensemble = []\n",
    "    directory = \"gauge_configs/\" + str(action) + \"/beta_\" + str(beta)  + \"/\"\n",
    "    for root, dirs, files in os.walk(directory, topdown=False):\n",
    "        for name in sorted(files, key = natural_key):\n",
    "            ensemble.append(np.load(os.path.abspath(os.path.join(root, name)), allow_pickle=True))\n",
    "                        \n",
    "    return ensemble\n",
    "\n",
    "def gauge_average(lattice_ensemble, lattice_average):\n",
    "    \n",
    "    p = Pool(6)\n",
    "    loop_ensemble = list(p.map(lattice_average, lattice_ensemble))\n",
    "    p.terminate()\n",
    "    \n",
    "    return np.mean(loop_ensemble), np.std(loop_ensemble) / np.sqrt(len(lattice_ensemble))"
   ]
  },
  {
   "cell_type": "markdown",
   "metadata": {
    "deletable": true,
    "editable": true
   },
   "source": [
    "### Analysis"
   ]
  },
  {
   "cell_type": "code",
   "execution_count": 40,
   "metadata": {
    "collapsed": false,
    "deletable": true,
    "editable": true
   },
   "outputs": [],
   "source": [
    "#latt1 = generate_lattice(n_points = 8)\n",
    "\n",
    "#su3_array1 = generate_su3_array(25, epsilon = 0.2)\n",
    "\n",
    "#acceptance1 = markov_chain(latt1, wilson_link_sum, su3_array1, beta = 5.5, u_0= 1, \n",
    "#                           n_configs = 20, n_corr = 50, n_hits = 10)\n",
    "\n",
    "#latt2 = generate_lattice(n_points = 1)\n",
    "\n",
    "#su3_array2 = generate_su3_array(25, epsilon = 0.2)\n",
    "\n",
    "#acceptance2 = markov_chain(latt2, improved_link_sum, su3_array2, beta = 1.719, u_0= 0.797, \n",
    "#                           n_configs = 20, n_corr = 50, n_hits = 10)"
   ]
  },
  {
   "cell_type": "code",
   "execution_count": 41,
   "metadata": {
    "collapsed": false,
    "deletable": true,
    "editable": true
   },
   "outputs": [
    {
     "name": "stdout",
     "output_type": "stream",
     "text": [
      "Wilson action square loop expectation (0.50342664698795536, 0.0021316912924218938)\n",
      "Wilson action rectangular loop expectation (0.26809322741907776, 0.0027698987110815697)\n"
     ]
    }
   ],
   "source": [
    "ensemble1 = load_ensemble(\"wilson_link_sum\", beta = 5.5)\n",
    "\n",
    "rect_plaquette = gauge_average(ensemble1, square_lattice_average)\n",
    "\n",
    "rect_rect = gauge_average(ensemble1, rectangular_lattice_average)\n",
    "\n",
    "print(\"Wilson action square loop expectation \" + str(rect_plaquette) )\n",
    "print(\"Wilson action rectangular loop expectation \" + str(rect_rect))\n"
   ]
  },
  {
   "cell_type": "code",
   "execution_count": 42,
   "metadata": {
    "collapsed": false,
    "deletable": true,
    "editable": true
   },
   "outputs": [
    {
     "name": "stdout",
     "output_type": "stream",
     "text": [
      "Rectangular action square loop expectation (0.544155495752911, 0.0014384340928572591)\n",
      "Rectangular action rectangular loop expectation (0.28796577142442314, 0.0022535381677123009)\n"
     ]
    }
   ],
   "source": [
    "ensemble2 = load_ensemble(\"improved_link_sum\", beta = 1.719)\n",
    "\n",
    "rect_plaquette = gauge_average(ensemble2, square_lattice_average)\n",
    "\n",
    "rect_rect = gauge_average(ensemble2, rectangular_lattice_average)\n",
    "\n",
    "print(\"Rectangular action square loop expectation \" + str(rect_plaquette) )\n",
    "print(\"Rectangular action rectangular loop expectation \" + str(rect_rect))\n"
   ]
  }
 ],
 "metadata": {
  "kernelspec": {
   "display_name": "Python 3",
   "language": "python",
   "name": "python3"
  },
  "language_info": {
   "codemirror_mode": {
    "name": "ipython",
    "version": 3
   },
   "file_extension": ".py",
   "mimetype": "text/x-python",
   "name": "python",
   "nbconvert_exporter": "python",
   "pygments_lexer": "ipython3",
   "version": "3.5.2"
  }
 },
 "nbformat": 4,
 "nbformat_minor": 2
}
