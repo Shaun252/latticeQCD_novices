{
 "cells": [
  {
   "cell_type": "markdown",
   "metadata": {
    "deletable": true,
    "editable": true
   },
   "source": [
    "# Exercise 10 : Gluon Path Integrals"
   ]
  },
  {
   "cell_type": "markdown",
   "metadata": {
    "deletable": true,
    "editable": true
   },
   "source": [
    "### Function to generate an array of SU(3) matrices and their inverses to use in the monte-carlo process\n",
    "\n",
    "See Gattringer and Lang page 83. Although they say you should choose random numbers between $(-0.5, 0.5)$ this leads to negative numbers on the diagonal for the generated su3 matrices, these are not closer to the identity for smaller epsilon (as -.999 is generated for epsilon = 0.01 and -.075 is generated for epsilon = 0.5, the first value is obviously further away from 1 even though the epsilon is smaller). Hence smaller epsilon does not give a higher acceptance which is required to tune it for 50%\n",
    "\n",
    "So I will use random numbers from $(0,0.5)$"
   ]
  },
  {
   "cell_type": "code",
   "execution_count": null,
   "metadata": {
    "collapsed": false,
    "deletable": true,
    "editable": true
   },
   "outputs": [],
   "source": [
    "import numpy as np\n",
    "\n",
    "def generate_su3_array(n, epsilon):\n",
    "\n",
    "    su3_array = np.empty((2*n, 3, 3), dtype = 'complex128')\n",
    "\n",
    "\n",
    "    for i in range(n):\n",
    "\n",
    "        r_random_numbers = np.random.uniform(0, 0.5, (4))\n",
    "        s_random_numbers = np.random.uniform(0, 0.5, (4))\n",
    "        t_random_numbers = np.random.uniform(0, 0.5, (4))\n",
    "\n",
    "        r = np.empty((4))\n",
    "        s = np.empty((4))\n",
    "        t = np.empty((4))\n",
    "\n",
    "        r[1:] = epsilon * r_random_numbers[1:] / np.linalg.norm(r_random_numbers[1:])\n",
    "        r[0] = np.sign(r_random_numbers[0]) * np.sqrt(1-epsilon**2)\n",
    "\n",
    "        s[1:] = epsilon * s_random_numbers[1:] / np.linalg.norm(s_random_numbers[1:])\n",
    "        s[0] = np.sign(s_random_numbers[0]) * np.sqrt(1-epsilon**2)\n",
    "\n",
    "        t[1:] = epsilon * t_random_numbers[1:] / np.linalg.norm(t_random_numbers[1:])\n",
    "        t[0] = np.sign(t_random_numbers[0]) * np.sqrt(1-epsilon**2)\n",
    "\n",
    "        r11 = r[0] + r[3]*1j\n",
    "        r12 = r[1]*1j + r[2]\n",
    "        r21 = r[1]*1j - r[2]\n",
    "        r22 = r[0] - r[3]*1j\n",
    "\n",
    "        s11 = s[0] + s[3]*1j\n",
    "        s12 = s[1]*1j + s[2]\n",
    "        s21 = s[1]*1j - s[2]\n",
    "        s22 = s[0] - s[3]*1j\n",
    "\n",
    "        t11 = t[0] + t[3]*1j\n",
    "        t12 = t[1]*1j + t[2]\n",
    "        t21 = t[1]*1j - t[2]\n",
    "        t22 = t[0] - t[3]*1j\n",
    "\n",
    "\n",
    "        R_su3 = np.array([[r11, r12, 0],\n",
    "                          [r21, r22, 0],\n",
    "                          [0, 0, 1]])\n",
    "\n",
    "        S_su3 = np.array([[s11, 0, s12],\n",
    "                          [0, 1, 0],\n",
    "                          [s21, 0, s22]])\n",
    "\n",
    "        T_su3 = np.array([[1, 0, 0],\n",
    "                          [0, t11, t12],\n",
    "                          [0, t21, t22]])\n",
    "\n",
    "\n",
    "        X_su3 = np.dot(np.dot(R_su3, S_su3), T_su3)\n",
    "\n",
    "\n",
    "        su3_array[2*i, :, :] = X_su3\n",
    "\n",
    "        su3_array[2*i+1, :, :] = X_su3.conj().T\n",
    "        \n",
    "    return su3_array\n",
    "\n",
    "#for su3_matrix in su3_array:\n",
    "#    print(np.round(np.linalg.det(su3_matrix), 18))\n",
    "#    print(np.round(np.linalg.inv(su3_matrix) - su3_matrix.conj().T, 20))\n",
    "# Accurate up to 18~ decimal places"
   ]
  },
  {
   "cell_type": "markdown",
   "metadata": {
    "deletable": true,
    "editable": true
   },
   "source": [
    "### Classes for the lattice and the site at each lattice point.\n",
    "\n",
    "Site value is just a scalar here as this is a simple gauge simulation. The fundamental data structure of the lattice is a numpy array of site objects which have four links initialised to the identity matrix."
   ]
  },
  {
   "cell_type": "code",
   "execution_count": null,
   "metadata": {
    "collapsed": false,
    "deletable": true,
    "editable": true
   },
   "outputs": [],
   "source": [
    "class site:\n",
    "    def __init__(self, site_value = 0, link_value = np.identity(3, dtype = 'complex128')):\n",
    "        \n",
    "        self.site_value = site_value\n",
    "        self.link = np.empty((4,3,3), dtype = 'complex128')\n",
    "        self.link[0] = link_value\n",
    "        self.link[1] = link_value\n",
    "        self.link[2] = link_value\n",
    "        self.link[3] = link_value\n",
    "        \n",
    "\n",
    "class lattice:\n",
    "    def __init__(self, length, n_points, dimension = 4):\n",
    "        \n",
    "        self.length = length\n",
    "        self.n_points  = n_points\n",
    "        self.dimension = dimension\n",
    "        self.spacing = self.length / self.n_points\n",
    "        self.volume = np.repeat(self.n_points, self.dimension)\n",
    "        self.grid = np.empty(self.volume, dtype = object)\n",
    "        \n",
    "        for t in range(self.n_points):\n",
    "            for x in range(self.n_points):\n",
    "                for y in range(self.n_points):\n",
    "                    for z in range(self.n_points):\n",
    "                        self.grid[t, x, y, z] = site()\n",
    "        \n",
    "    def __call__(self, coordinates):\n",
    "        \n",
    "        t = int(coordinates[0] % self.n_points)\n",
    "        x = int(coordinates[1] % self.n_points)\n",
    "        y = int(coordinates[2] % self.n_points)\n",
    "        z = int(coordinates[3] % self.n_points)\n",
    "        \n",
    "        return self.grid[t, x, y, z]"
   ]
  },
  {
   "cell_type": "markdown",
   "metadata": {
    "collapsed": true,
    "deletable": true,
    "editable": true
   },
   "source": [
    "### Function which computes the staple sum for a given site link\n",
    "\n",
    "The function takes a coordinate array [t, x, y, z] for the lattice and a direction t = 0, x = 1, y = 2 or z = 3 and computes the sum of staples which include this link. This corresponds to the Wilson action. See Gattringer and Lang page 79 eqn (4.20)."
   ]
  },
  {
   "cell_type": "code",
   "execution_count": null,
   "metadata": {
    "collapsed": false,
    "deletable": true,
    "editable": true
   },
   "outputs": [],
   "source": [
    "def wilson_staple_sum(lattice, coordinates, mu):\n",
    "    \n",
    "    res = np.zeros((3,3), dtype = 'complex128')\n",
    "    dimension = lattice.dimension\n",
    "    \n",
    "    for nu in range(dimension):\n",
    "        if nu != mu:\n",
    "            mu_hat = np.zeros(4, dtype = int)\n",
    "            nu_hat = np.zeros(4, dtype = int)\n",
    "            \n",
    "            mu_hat[mu] = 1\n",
    "            nu_hat[nu] = 1\n",
    "            \n",
    "            res += np.dot(np.dot(lattice(coordinates + mu_hat).link[nu], \n",
    "                                 lattice(coordinates + nu_hat).link[mu].conj().T),\n",
    "                                 lattice(coordinates).link[nu].conj().T)\n",
    "        \n",
    "            res += np.dot(np.dot(lattice(coordinates + mu_hat - nu_hat).link[nu].conj().T, \n",
    "                                 lattice(coordinates - nu_hat).link[mu].conj().T), \n",
    "                                 lattice(coordinates - nu_hat).link[nu])\n",
    "        \n",
    "    return res"
   ]
  },
  {
   "cell_type": "markdown",
   "metadata": {
    "deletable": true,
    "editable": true
   },
   "source": [
    "### Update function for a single gauge link\n",
    "\n",
    "The function takes a su3 matrix, coordinate array, direction and constant beta and preforms a single montecarlo step for a single gauge link"
   ]
  },
  {
   "cell_type": "code",
   "execution_count": null,
   "metadata": {
    "collapsed": false,
    "deletable": true,
    "editable": true
   },
   "outputs": [],
   "source": [
    "def update(lattice, su3_matrix, coordinates, mu, beta):\n",
    "    \n",
    "    accept = 1\n",
    "    \n",
    "    gauge_link_old = np.copy(lattice(coordinates).link[mu])\n",
    "    \n",
    "    lattice(coordinates).link[mu] = np.dot(su3_matrix, gauge_link_old)\n",
    "    \n",
    "    diff = lattice(coordinates).link[mu] - gauge_link_old\n",
    "    \n",
    "    staple_sum = wilson_staple_sum(lattice = lattice, coordinates = coordinates, mu=mu)\n",
    "    \n",
    "    deltaS = -1.0 * beta * np.trace(np.dot(diff, staple_sum)).real\n",
    "    \n",
    "    r = np.minimum(1.0, np.exp(-1.0 * deltaS))\n",
    "    \n",
    "    if r < np.random.rand():\n",
    "        \n",
    "        lattice(coordinates).link[mu] = gauge_link_old\n",
    "        accept = 0\n",
    "    \n",
    "    return accept"
   ]
  },
  {
   "cell_type": "markdown",
   "metadata": {
    "deletable": true,
    "editable": true
   },
   "source": [
    "### Function to update whole lattice"
   ]
  },
  {
   "cell_type": "code",
   "execution_count": null,
   "metadata": {
    "collapsed": false,
    "deletable": true,
    "editable": true
   },
   "outputs": [],
   "source": [
    "def update_lattice(lattice, su3_set, beta):\n",
    "    \n",
    "    acceptance = 0\n",
    "    n_points = lattice.n_points\n",
    "    dimension = lattice.dimension\n",
    "    su3_set_length = len(su3_set)\n",
    "    \n",
    "    for t in range(n_points):\n",
    "        for x in range(n_points):\n",
    "            for y in range(n_points):\n",
    "                for z in range(n_points):\n",
    "                    for mu in range(dimension):\n",
    "                        \n",
    "                        su3_matrix = su3_set[np.random.randint(0, su3_set_length)]\n",
    "                        acceptance += update(lattice=lattice, su3_matrix=su3_matrix, \n",
    "                                             coordinates=[t,x,y,z], mu=mu, beta=beta)\n",
    "                            \n",
    "    return acceptance / (dimension * n_points ** dimension)"
   ]
  },
  {
   "cell_type": "markdown",
   "metadata": {
    "collapsed": false,
    "deletable": true,
    "editable": true
   },
   "source": [
    "### Ensemble Generation"
   ]
  },
  {
   "cell_type": "code",
   "execution_count": null,
   "metadata": {
    "collapsed": false,
    "deletable": true,
    "editable": true
   },
   "outputs": [],
   "source": [
    "def markov_chain(lattice, su3_set, beta, n_configs, n_corr, thermalise = True):\n",
    "    \n",
    "    acceptance = 0\n",
    "    ensemble = np.empty(np.append(n_configs, lattice.volume), dtype = object)\n",
    "    \n",
    "    \n",
    "    #Thermalise\n",
    "    if thermalise == True:\n",
    "        for i in range(5*n_corr):\n",
    "            print(i)\n",
    "            update_lattice(lattice = lattice, su3_set = su3_set, beta = beta)\n",
    "\n",
    "    for j in range(n_configs*n_corr):\n",
    "        acceptance += update_lattice(lattice = lattice, su3_set = su3_set, beta = beta)\n",
    "        \n",
    "        if j % n_corr == 0:\n",
    "            \n",
    "            ensemble_index = int(j/n_corr)\n",
    "            ensemble[ensemble_index] = lattice.grid\n",
    "            print(j%n_corr)\n",
    "            \n",
    "    acceptance = acceptance / (n_configs*n_corr)       \n",
    "    \n",
    "    return ensemble, acceptance    "
   ]
  },
  {
   "cell_type": "markdown",
   "metadata": {
    "deletable": true,
    "editable": true
   },
   "source": [
    "### Create instance of lattice and thermalise"
   ]
  },
  {
   "cell_type": "code",
   "execution_count": null,
   "metadata": {
    "collapsed": false,
    "deletable": true,
    "editable": true
   },
   "outputs": [],
   "source": [
    "import time\n",
    "lattice = lattice(2, 8)\n",
    "su3_array = generate_su3_array(50, 0.1)\n",
    "\n",
    "t1a = time.time()\n",
    "markov_chain(lattice, su3_array, beta = 5.5, n_configs = 0, n_corr = 50)\n",
    "t1b = time.time()\n",
    "\n",
    "print(t1b-t1a)"
   ]
  },
  {
   "cell_type": "markdown",
   "metadata": {
    "deletable": true,
    "editable": true
   },
   "source": [
    "### Generate ensemble"
   ]
  },
  {
   "cell_type": "code",
   "execution_count": null,
   "metadata": {
    "collapsed": false
   },
   "outputs": [],
   "source": [
    "t2a = time.time()\n",
    "ensemble, acceptance = markov_chain(lattice, su3_array, beta = 5.5, n_configs = 200, n_corr = 50, thermalise = False)\n",
    "t2b = time.time()\n",
    "\n",
    "print(t2b-t2a)\n",
    "print(acceptance)"
   ]
  },
  {
   "cell_type": "markdown",
   "metadata": {},
   "source": [
    "### Wilson loop function for $a \\times a$"
   ]
  },
  {
   "cell_type": "code",
   "execution_count": null,
   "metadata": {
    "collapsed": true
   },
   "outputs": [],
   "source": [
    "def wilson_loop(lattice, coordinates, mu, nu):\n",
    "    \n",
    "    dimension = lattice.dimension\n",
    "    res = np.zeros((3,3), dtype = 'complex128')\n",
    "    \n",
    "    mu_hat = np.zeros(4, dtype = int)\n",
    "    nu_hat = np.zeros(4, dtype = int)\n",
    "            \n",
    "    mu_hat[mu] = 1\n",
    "    nu_hat[nu] = 1\n",
    "            \n",
    "    res += np.dot(np.dot(np.dot(lattice(coordinates).link[mu], \n",
    "                                lattice(coordinates + mu_hat).link[nu]), \n",
    "                                lattice(coordinates + nu_hat).link[mu].conj().T), \n",
    "                                lattice(coordinates).link[nu].conj().T)\n",
    "        \n",
    "    return np.trace(res).real                     "
   ]
  },
  {
   "cell_type": "code",
   "execution_count": null,
   "metadata": {
    "collapsed": true
   },
   "outputs": [],
   "source": [
    "def wilson_loop_average(lattice):\n",
    "    dimension = lattice.dimension\n",
    "    res = 0\n",
    "    \n",
    "    for t in range(n_points):\n",
    "        for x in range(n_points):\n",
    "            for y in range(n_points):\n",
    "                for z in range(n_points):\n",
    "                    for mu in range(dimension):\n",
    "                        for nu in range(dimension):\n",
    "                            if nu != mu:\n",
    "                                res += wilson_loop(lattice, [t,x,y,z], mu, nu)\n",
    "        \n",
    "    return res / ((n_points ** dimension)*(dimension**2)\n",
    "    "
   ]
  }
 ],
 "metadata": {
  "kernelspec": {
   "display_name": "Python 3",
   "language": "python",
   "name": "python3"
  },
  "language_info": {
   "codemirror_mode": {
    "name": "ipython",
    "version": 3
   },
   "file_extension": ".py",
   "mimetype": "text/x-python",
   "name": "python",
   "nbconvert_exporter": "python",
   "pygments_lexer": "ipython3",
   "version": "3.5.2"
  }
 },
 "nbformat": 4,
 "nbformat_minor": 2
}
