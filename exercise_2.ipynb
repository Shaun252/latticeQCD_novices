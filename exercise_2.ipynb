{
 "cells": [
  {
   "cell_type": "markdown",
   "metadata": {
    "deletable": true,
    "editable": true
   },
   "source": [
    "## Beyond the Ground State\n",
    "\n",
    "In this exercise I look at evaluating path integrals by monte carlo methods to obtain information about the first excited states."
   ]
  },
  {
   "cell_type": "markdown",
   "metadata": {
    "deletable": true,
    "editable": true
   },
   "source": [
    "### Euclidean Correlators\n",
    "\n",
    "We begin our discussion by examing euclidean correlators. These have the form\n",
    "\n",
    "\\begin{eqnarray}\n",
    "\\big\\langle \\hat{O}_2(t_2)\\hat{O}_1(t_1)\\big\\rangle = \\frac{1}{Z} \\int d\\psi \\big\\langle \\psi \\big|e^{-\\hat{H}(t_f - t_2)}\\hat{O}_2e^{-\\hat{H}(t_2 - t_1)}\\hat{O}_1e^{-\\hat{H}(t_1 - t_i)}\\big| \\psi \\big\\rangle\n",
    "\\end{eqnarray}\n",
    "\n",
    "with $Z$ being our familar closed euclidean propagator integrated over $\\psi$ to give the parition function\n",
    "\n",
    "\\begin{eqnarray}\n",
    "Z &=&\\int d\\psi \\big\\langle \\psi \\big| e^{-\\hat{H}T} \\big| \\psi \\big\\rangle = \\sum_n e^{-E_nT} \\\\\n",
    "&=& \\lim_{N \\to \\infty} \\left(\\frac{m}{2\\pi a}\\right)^{\\frac{N}{2}} \\int dx_{N-1}...dx_1\\ dx_0 \\ e^{-a\\left(\\sum_{j=0}^{N-1}\\frac{m}{2}\\left(\\frac{(x_{j+1}-x_j)}{a}\\right)^2+V(x_j)\\right)}\n",
    "\\end{eqnarray}\n",
    "\n",
    "where the last equality arises from choosing $\\big| \\psi \\big\\rangle = \\big| x \\big\\rangle$ with $T=Na$."
   ]
  },
  {
   "cell_type": "markdown",
   "metadata": {
    "deletable": true,
    "editable": true
   },
   "source": [
    "### Discrete Representation\n",
    "\n",
    "By inserting three copies of $\\sum_n |n\\rangle \\langle n |$ into the numerator we obtain\n",
    "\\begin{eqnarray}\n",
    "\\big\\langle \\hat{O}_2(t_2)\\hat{O}_1(t_1)\\big\\rangle = \\frac{\\sum_n \\sum_m \\big\\langle n \\big| \\hat{O}_2 \\big| m \\big\\rangle \\big\\langle m \\big| \\hat{O}_1 \\big| n \\big\\rangle e^{-(T-t)E_n}e^{-tE_m}}{\\sum_n e^{-TE_n}}\n",
    "\\end{eqnarray}\n",
    "\n",
    "with $T=t_f-t_i$ as before and $t=t_2-t_1$. Pulling out $e^{-TE_0}$ out of the top and bottom and inserting $e^{tE_0}e^{-tE_0} = 1$ gives\n",
    "\n",
    "\\begin{eqnarray}\n",
    "\\frac{e^{-TE_0}\\sum_n \\sum_m \\big\\langle n \\big| \\hat{O}_2 \\big| m \\big\\rangle \\big\\langle m \\big| \\hat{O}_1 \\big| n \\big\\rangle e^{-TE_n}e^{+TE_0}e^{tE_n}e^{-tE_m}e^{tE_0}e^{-tE_0}}{e^{-TE_0}\\sum_n e^{-TE_n}e^{TE_0}} = \\frac{\\sum_n \\sum_m \\big\\langle n \\big| \\hat{O}_2 \\big| m \\big\\rangle \\big\\langle m \\big| \\hat{O}_1 \\big| n \\big\\rangle e^{-T\\Delta E_n}e^{t\\Delta E_n}e^{-t\\Delta E_m}}{\\sum_n e^{-T\\Delta E_n}}\n",
    "\\end{eqnarray}\n",
    "\n",
    "where we have $\\Delta E_n = E_n - E_0$. So we have that the correlator depends on the energies relative to ground state energy $E_0$. If we take the limit as $T \\to \\infty$ the denominator is $1$. Similarly in the numerator only terms where $\\Delta E_n = 0$ survive where $\\big| n \\big\\rangle = \\big| 0 \\big\\rangle$.\n",
    "\n",
    "\\begin{eqnarray}\n",
    "\\lim_{T \\to \\infty}\\big\\langle \\hat{O}_2(t_2)\\hat{O}_1(t_1)\\big\\rangle = \\sum_m \\big\\langle 0 \\big| \\hat{O}_2 \\big| m \\big\\rangle \\big\\langle m \\big| \\hat{O}_1 \\big| 0 \\big\\rangle e^{-t\\Delta E_m}\n",
    "\\end{eqnarray}\n",
    "\n",
    "This is the central result for finding excited states where our result tt is a sum of exponentials and each exponent corresponds to an energy level. The sum is also dependent on $t$ as opposed to $T$ like in the previous exercise which allows us to examine the excited states."
   ]
  },
  {
   "cell_type": "markdown",
   "metadata": {
    "deletable": true,
    "editable": true
   },
   "source": [
    "### Continuous Representation\n",
    "\n",
    "As before to obtain a formula for numerical compution we will choose $\\big| \\psi \\big\\rangle = \\big| x \\big\\rangle$. We also restrict ourselves to operators which are built up from $\\hat{X}$ only i.e. where $\\hat{O}\\big| x \\big\\rangle = O(x)\\big| x \\big\\rangle$.\n",
    "\n",
    "We know from the Trotter formula that\n",
    "\n",
    "\\begin{eqnarray}\n",
    "e^{-\\hat{H}T}  &=& \\lim_{N \\to \\infty} (e^{-\\hat{H}a})^N \n",
    "\\end{eqnarray}\n",
    "\n",
    "where $T=Na$. Writing $n_2 = \\frac{t_2-t_1}{a}$ and $n_1 = \\frac{t_1-t_i}{a}$ we have that\n",
    "\n",
    "\\begin{eqnarray} \n",
    "\\big\\langle \\psi_f \\big|e^{-\\hat{H}(t_f - t_2)}\\hat{O}_2e^{-\\hat{H}(t_2 - t_1)}\\hat{O}_1e^{-\\hat{H}(t_1 - t_i)}\\big| \\psi_i \\big\\rangle = \\ \\lim_{N \\to \\infty} \\big\\langle x_N \\big| (e^{-\\hat{H}a})^{N-n_2-n_1} \\hat{O}_2 (e^{-\\hat{H}a})^{n_2} \\hat{O}_1 (e^{-\\hat{H}a})^{n_1} \\big| x_0 \\big\\rangle\n",
    "\\end{eqnarray}\n",
    "\n",
    "Inserting $N-n_2-n_1-1$ copies, $1$ copy before the first operator, $n_2$ copies, $1$ copy before the second operator and finally $n_1$ copies of $ \\int dx \\ \\big| x \\big\\rangle \\big\\langle x \\big|$ we have\n",
    "\n",
    "\\begin{eqnarray}\n",
    "&=&\\lim_{N \\to \\infty} \\int dx_{N-1}...dx_{n_2+n_1+1}\\ dy\\ dx_{n_2+n_1}.....dx_{n_1+1}\\ dz \\ dx_{n_1}...dx_1 \\big\\langle x_N \\big| e^{-\\hat{H}a} \\big| x_{N-1} \\big\\rangle...\\big\\langle x_{n_2+n_1+1} \\big| e^{-\\hat{H}a} \\big| y \\big\\rangle \\big\\langle y \\big|\\hat{O}_2 \\big| x_{n_2+n_1} \\big\\rangle \\big\\langle x_{n_2+n_1} \\big|e^{-\\hat{H}a} \\big| x_{n_2+n_1-1} \\big\\rangle\\\\\n",
    "&&...\\big\\langle x_{n_1+1} \\big|e^{-\\hat{H}a} \\big| z \\big\\rangle \\big\\langle z \\big| \\hat{O}_1 \\big| x_{n_1} \\big\\rangle \\big\\langle x_{n_1} \\big| e^{-\\hat{H}a} \\big| x_{n_1-1} \\big\\rangle...\\big\\langle x_{1} \\big| e^{-\\hat{H}a}    \\big| x_0 \\big\\rangle \\\\\n",
    "&=& \\lim_{N \\to \\infty} \\left(\\frac{m}{2\\pi a}\\right)^{\\frac{N}{2}} \\int dx_{N-1}...dx_{n_2+n_1+1}\\ dy\\ dx_{n_2+n_1}.....dx_{n_1+1}\\ dz \\ dx_{n_1}...dx_1 \\ O_2(x_{n_2+n_1}) \\ O_1(x_{n_1}) \\ \\delta(y - x_{n_2+n_1}) \\ \\delta(z - x_{n_1}) \\ \\  e^{-\\frac{m}{2a}(x_N-x_{N-1})^2} e^{-aV(x_{N-1})} \\\\\n",
    "&&...e^{-\\frac{m}{2a}(x_{n_2+n_1+1}-y)^2} e^{-aV(y)}e^{-\\frac{m}{2a}(x_{n_2+n_1}-x_{n_2+n_1-1})^2} e^{-aV(x_{n_2+n_1-1})}...e^{-\\frac{m}{2a}(x_{n_1+1}-z)^2} e^{-aV(z)} e^{-\\frac{m}{2a}(x_{n_1}-x_{n_1-1})^2} e^{-aV(x_{n_1-1})}...e^{-\\frac{m}{2a}(x_{1}-x_{0})^2} e^{-aV(x_{0})} \\\\\n",
    "&=& \\lim_{N \\to \\infty} \\left(\\frac{m}{2\\pi a}\\right)^{\\frac{N}{2}} \\int dx_{N-1}...dx_1 O_2(x_{n_2+n_1}) O_1(x_{n_1}) e^{-\\frac{m}{2a}(x_N-x_{N-1})^2} e^{-aV(x_{N-1})}...e^{-\\frac{m}{2a}(x_{1}-x_{0})^2} e^{-aV(x_{0})} \\\\\n",
    "&=& \\lim_{N \\to \\infty} \\left(\\frac{m}{2\\pi a}\\right)^{\\frac{N}{2}} \\int dx_{N-1}...dx_1 O_2(x_{n_2+n_1}) \\ O_1(x_{n_1}) \\ e^{-a\\left(\\sum_{j=0}^{N-1}\\frac{m}{2}\\left(\\frac{(x_{j+1}-x_j)}{a}\\right)^2+V(x_j)\\right)}\n",
    "\\end{eqnarray}"
   ]
  },
  {
   "cell_type": "markdown",
   "metadata": {
    "deletable": true,
    "editable": true
   },
   "source": [
    "### Putting it all together\n",
    "\n",
    "We now have\n",
    "\n",
    "\\begin{eqnarray}\n",
    "&&\\lim_{T \\to \\infty} \\big\\langle \\hat{O}_2(t_2)\\hat{O}_1(t_1)\\big\\rangle \\\\\n",
    "&=& \\frac{1}{Z} \\lim_{T \\to \\infty} \\lim_{N \\to \\infty} \\left(\\frac{m}{2\\pi a}\\right)^{\\frac{N}{2}} \\int dx_{N-1}...dx_0 \\ O_2(x_{n_2+n_1}) \\ O_1(x_{n_1}) \\ e^{-aS_E} = \\sum_m \\big\\langle 0 \\big| \\hat{O}_2 \\big| m \\big\\rangle \\big\\langle m \\big| \\hat{O}_1 \\big| 0 \\big\\rangle e^{-t\\Delta E_m}\n",
    "\\end{eqnarray}\n",
    "\n",
    "with\n",
    "\n",
    "\\begin{eqnarray}\n",
    "S_E &=& e^{-a\\left(\\sum_{j=0}^{N-1}\\frac{m}{2}\\left(\\frac{(x_{j+1}-x_j)}{a}\\right)^2+V(x_j)\\right)} \\\\\n",
    "Z &=& \\lim_{N \\to \\infty} \\left(\\frac{m}{2\\pi a}\\right)^{\\frac{N}{2}} \\int dx_{N-1}...dx_0 \\ e^{-aS_E} \\\\\n",
    "n_2 &=& \\frac{t_2-t_1}{a} \\\\ \n",
    "n_1 &=& \\frac{t_1-t_i}{a} \\\\\n",
    "T &=& t_f-t_i = Na \\\\\n",
    "t &=& t_1-t_2 \\\\\n",
    "x_N &=& x_0\n",
    "\\end{eqnarray}"
   ]
  },
  {
   "cell_type": "markdown",
   "metadata": {
    "deletable": true,
    "editable": true
   },
   "source": [
    "### Monte Carlo Methods and Markov Chains\n",
    "\n",
    "Instead of integrating with the vegas integration routine we will apply the metropolis algorithm to estimate the value of \n",
    "\n",
    "\\begin{eqnarray}\n",
    "\\frac{1}{Z} \\left(\\frac{m}{2\\pi a}\\right)^{\\frac{N}{2}} \\int dx_{N-1}...dx_0 \\ O_2(x_{n_2+n_1}) \\ O_1(x_{n_1}) \\ e^{-aS_E}\n",
    "\\end{eqnarray}\n",
    "\n",
    "This is done by noting that $\\big\\langle \\hat{O}_2(t_2)\\hat{O}_1(t_1)\\big\\rangle$ is a weighted average of over all closed paths paths $x^\\alpha = \\left\\{x^\\alpha_0,x^\\alpha_1,...,x^\\alpha_{N-1} \\right\\}$ with the weight $e^{-aS_E}$.\n",
    "\n",
    "The metropolis algorithm allows us to generate an ensemble / markov chain (subset) of these paths $x^\\alpha$ where $\\alpha$ runs from $1 \\to N_{cf}$ which obey the same probability distribution as the full infinite set. We can then estimate the value of the integral using this ensemble.\n",
    "\n",
    "\\begin{eqnarray}\n",
    "\\big\\langle \\hat{O}_2(t_2)\\hat{O}_1(t_1)\\big\\rangle \\approx \\overline{\\big\\langle \\hat{O}_2(t_2)\\hat{O}_1(t_1)\\big\\rangle} = \\frac{1}{N_{cf}} \\sum^{N_{cf}}_{\\alpha = 1} O_2(x^\\alpha_{n_2+n_1}) \\ O_1(x^\\alpha_{n_1}) \n",
    "\\end{eqnarray}\n",
    "\n",
    "This average has an associated standard error given by\n",
    "\n",
    "\\begin{eqnarray}\n",
    "\\text{Standard Error} = \\left(\\frac{\\overline{\\big\\langle \\hat{O}_2(t_2)\\hat{O}_1(t_1)\\big\\rangle^2} - \\overline{\\big\\langle \\hat{O}_2(t_2)\\hat{O}_1(t_1)\\big\\rangle}^2}{N_{cf}}\\right)^\\frac{1}{2}\n",
    "\\end{eqnarray}\n",
    "\n",
    "where\n",
    "\n",
    "\\begin{eqnarray}\n",
    "\\overline{\\big\\langle \\hat{O}_2(t_2)\\hat{O}_1(t_1)\\big\\rangle^2} = \\frac{1}{N_{cf}} \\sum^{N_{cf}}_{\\alpha = 1} \\left(O_2(x^\\alpha_{n_2+n_1}) \\ O_1(x^\\alpha_{n_1})\\right)^2\n",
    "\\end{eqnarray}\n",
    "\n",
    "The metropolis algorithm works by generating $x^\\text{new}$ from $x^\\text{old}$ by de/incrementing each $x^\\text{old}_i$ by a random amount bounded by $\\epsilon$. We only accepting each change if either $\\Delta S = S_E(x^\\text{old}) - S_E(x^\\text{new}) \\geq 0$ or $e^{\\Delta S} > \\nu$ where $\\nu$ is a random number between $0$ and $1$.\n",
    "\n",
    "We want to achieve around $50%$ acceptance by tuning $\\epsilon$. Successive $x^\\alpha$ will be highly correlated so we only store every $N_{corr}$ path. In starting the algorithm our system could be very far from a high probability path so we let it thermalise for $(5-10)N_{corr}$ updates."
   ]
  },
  {
   "cell_type": "markdown",
   "metadata": {
    "deletable": true,
    "editable": true
   },
   "source": [
    "### Potentials\n",
    "\n",
    "We will use the harmonic and anharmonic potentials from the last section to examine the first excited states."
   ]
  },
  {
   "cell_type": "code",
   "execution_count": 17,
   "metadata": {
    "collapsed": true,
    "deletable": true,
    "editable": true
   },
   "outputs": [],
   "source": [
    "import numpy as np\n",
    "import matplotlib.pyplot as plt\n",
    "from functools import partial\n",
    "import vegas\n",
    "import warnings; warnings.simplefilter('ignore')\n",
    "\n",
    "%matplotlib inline\n",
    "\n",
    "#Harmonic\n",
    "def v_sho(x):\n",
    "    \n",
    "    return (x**2)/2\n",
    "\n",
    "#Anharmonic\n",
    "def v_aho(x):\n",
    "    \n",
    "    return (x ** 4)/2\n"
   ]
  },
  {
   "cell_type": "markdown",
   "metadata": {
    "deletable": true,
    "editable": true
   },
   "source": [
    "As we only update one $x^\\alpha_i$ at a time we only need to calculate the action of the local neighbourhood of our $x^\\alpha_i$."
   ]
  },
  {
   "cell_type": "code",
   "execution_count": 18,
   "metadata": {
    "collapsed": true,
    "deletable": true,
    "editable": true
   },
   "outputs": [],
   "source": [
    "def action(x, i, v, m, a): \n",
    "    ir = (i+1)%len(x) \n",
    "    il = (i-1)%len(x)\n",
    "    return a *  v(x[i]) + (m/a) * x[i] * (x[i]-x[ir]-x[il])"
   ]
  },
  {
   "cell_type": "markdown",
   "metadata": {
    "deletable": true,
    "editable": true
   },
   "source": [
    "### Update Function"
   ]
  },
  {
   "cell_type": "code",
   "execution_count": 19,
   "metadata": {
    "collapsed": false,
    "deletable": true,
    "editable": true
   },
   "outputs": [],
   "source": [
    "def update(x, v, m, a, dx):\n",
    "    #Updates Every Point Once\n",
    "    accept = 0\n",
    "    for i in range(len(x)):\n",
    "        \n",
    "        x_old = x[i]\n",
    "        old_action = action(x=x, i=i, v=v, m=m, a=a)\n",
    "        \n",
    "        x[i] += np.random.uniform(-dx, dx)\n",
    "        new_action = action(x=x, i=i, v=v, m=m, a=a)\n",
    "        \n",
    "        diff = old_action - new_action\n",
    "        \n",
    "        r = np.minimum(1.0, np.exp(diff))\n",
    "    \n",
    "        if r < np.random.rand():\n",
    "            x[i] = x_old\n",
    "        \n",
    "        else:\n",
    "            accept += 1\n",
    "    \n",
    "    return x, accept / len(x)"
   ]
  },
  {
   "cell_type": "markdown",
   "metadata": {
    "deletable": true,
    "editable": true
   },
   "source": [
    "### Two Point Function\n",
    "\n",
    "For this exercise we choose \n",
    "\n",
    "\\begin{eqnarray}\n",
    "\\big\\langle \\hat{O}_2(t_2)\\hat{O}_1(t_1)\\big\\rangle = \\big\\langle \\hat{X}_2(t_2)\\hat{X}_1(t_1)\\big\\rangle\n",
    "\\end{eqnarray}\n",
    "\n",
    "which gives\n",
    "\n",
    "\\begin{eqnarray}\n",
    "G(x) = X(x_{n_2+n_1}) \\ X(x_{n_1})\n",
    "\\end{eqnarray}\n",
    "\n",
    "the function which we will be averaging over the ensemble.\n",
    "\n",
    "\n",
    "Not sure why I sum over over every value of $n_1$ though. Something to do with summing all points to one point propagator?"
   ]
  },
  {
   "cell_type": "code",
   "execution_count": 20,
   "metadata": {
    "collapsed": false,
    "deletable": true,
    "editable": true
   },
   "outputs": [],
   "source": [
    "def G(x):\n",
    "    #Returns Array Gn = [G1, G2,...]\n",
    "    n = len(x)\n",
    "    g = np.zeros(n)\n",
    "    for j in range(n):\n",
    "        for i in range(n):\n",
    "            g[j] += (x[(i+j)%(n)]) *(x[i])\n",
    "            \n",
    "    return g/n"
   ]
  },
  {
   "cell_type": "markdown",
   "metadata": {
    "deletable": true,
    "editable": true
   },
   "source": [
    "### Markov Chain Generation"
   ]
  },
  {
   "cell_type": "code",
   "execution_count": 21,
   "metadata": {
    "collapsed": false,
    "deletable": true,
    "editable": true
   },
   "outputs": [],
   "source": [
    "def markov_chain(n_sites, n_configs, v, m, a, dx, n_corr):\n",
    "    \n",
    "    acc = 0\n",
    "    config = np.zeros((n_sites))\n",
    "    gn = []\n",
    "    \n",
    "    #Thermalise\n",
    "    for i in range(10*n_corr):\n",
    "        config = update(config, v, m, a, dx)[0]\n",
    "\n",
    "\n",
    "    for i in range(n_configs*n_corr):\n",
    "        config, acceptance = update(config, v, m, a, dx)\n",
    "        acc += acceptance\n",
    "        \n",
    "        if i % n_corr == 0:\n",
    "            gn.append(G(config))\n",
    "            \n",
    "    acc = acc / (n_configs*n_corr)\n",
    "            \n",
    "    return gn, acc"
   ]
  },
  {
   "cell_type": "markdown",
   "metadata": {
    "deletable": true,
    "editable": true
   },
   "source": [
    "### Analysis\n",
    "\n",
    "We will restrict ourselves to the first excited state for now. A simple way to extract this is an effective energy plateau fit. Firstly we take the large $t$ limit while still being less than $T$\n",
    "\n",
    "\\begin{eqnarray}\n",
    "\\lim_{t \\to \\infty} \\lim_{T \\to \\infty} \\big\\langle \\hat{X}(t_2)\\hat{X}(t_1)\\big\\rangle = \\big| \\big\\langle 0 \\big| \\hat{X} \\big| 1 \\big\\rangle \\big|^2 e^{-t(E_1 - E_0)}\n",
    "\\end{eqnarray}\n",
    "\n",
    "The $\\big| \\big\\langle 0 \\big| \\hat{X} \\big| 0 \\big\\rangle \\big|^2$ is zero as $\\hat{X} \\big| 0 \\big\\rangle$ is orthogonal to $\\big| 0 \\big\\rangle$. We can then extract the energy difference by a plateau fit of\n",
    "\n",
    "\\begin{eqnarray}\n",
    "\\lim_{t \\to \\infty} \\lim_{T \\to \\infty} \\log\\left(\\frac{\\big\\langle \\hat{X}(t_2)\\hat{X}(t_1)\\big\\rangle}{\\big\\langle \\hat{X}(t_2+a)\\hat{X}(t_1)\\big\\rangle}\\right) = (E_1-E_0)a\n",
    "\\end{eqnarray}\n",
    "\n",
    "We calculate the expectation value of the euclidean correlator from the averaging over the ensemble then we apply this formula, we also calculate the standard deviation of the correlator and propagate the error through.\n",
    "\n",
    "Alternatively I should be able to apply the log formula to each ensemble value but I get lots of nan values from the log(negative number). Maybe try remove all nan values? (Did try but it reduced all values to 0 for some reason). Maybe I was dividing by total dimension rather than dimension - dim(number of nan values)"
   ]
  },
  {
   "cell_type": "code",
   "execution_count": 22,
   "metadata": {
    "collapsed": false,
    "deletable": true,
    "editable": true
   },
   "outputs": [],
   "source": [
    "def analysis(n_sites, n_cfs_arr, v, m, a, dx, n_corr, harmonic=True):\n",
    "    \n",
    "    rows = int(np.ceil(len(n_cfs_arr)/2))\n",
    "    fig, axs =  plt.subplots(nrows=rows, ncols=rows, sharex='col', figsize=(8, 8), dpi=100)\n",
    "    fig.subplots_adjust(wspace=0.1, hspace=0.1)\n",
    "    ax = axs.flat\n",
    "    \n",
    "    for i, n_configs in enumerate(n_cfs_arr):\n",
    "    \n",
    "        gn, acc = markov_chain(n_sites=n_sites, n_configs=n_configs, v=v, m=m, a=a, dx=dx, n_corr=n_corr)\n",
    "        \n",
    "        avg = np.mean(gn,0)\n",
    "        err = np.std(gn,0) / np.sqrt(n_configs)\n",
    "        avg_shift = np.roll(avg, -1)\n",
    "        err_shift = np.roll(err, -1)\n",
    "        \n",
    "        E_eff = np.log(np.divide(avg,avg_shift)) / a\n",
    "        E_eff_err = np.sqrt(np.divide(err, avg)**2 + np.divide(err_shift, avg_shift)**2)/ a / np.sqrt(n_configs)\n",
    "    \n",
    "    \n",
    "        t = np.arange(0, n_sites * a, a)\n",
    "        \n",
    "    \n",
    "        \n",
    "        ax[i].set_xlim(0, 4)\n",
    "        ax[i].set_ylim(0, 2)\n",
    "        ax[i].errorbar(t, E_eff, yerr=err, fmt='o',  markersize=2, color='k')\n",
    "        ax[i].tick_params(bottom=\"off\", top=\"off\", left=\"off\", right=\"off\")\n",
    "        ax[i].set_title(\"Effective Energy for N_configs: \" + str(n_configs))\n",
    "        ax[i].set_xticks([0, 2, 4])\n",
    "        if harmonic == True:\n",
    "            ax[i].axhline(y=1, color='r', linestyle='-')\n",
    "            ax[i].set_yticks([1, 2])\n",
    "        elif harmonic == False:\n",
    "            ax[i].set_yticks([0.5, 1, 1.5, 2])\n",
    "            \n",
    "        \n",
    "    \n",
    "    print(\"Acceptance Rate: \" + str(acc))\n",
    "    plt.show()"
   ]
  },
  {
   "cell_type": "markdown",
   "metadata": {
    "deletable": true,
    "editable": true
   },
   "source": [
    "### Results for Harmonic Oscillator"
   ]
  },
  {
   "cell_type": "code",
   "execution_count": 23,
   "metadata": {
    "collapsed": false,
    "deletable": true,
    "editable": true
   },
   "outputs": [
    {
     "name": "stdout",
     "output_type": "stream",
     "text": [
      "Acceptance Rate: 0.4971505000000048\n"
     ]
    },
    {
     "data": {
      "image/png": "[encoded data removed]",
      "text/plain": [
       "<matplotlib.figure.Figure at 0x7f0e059419e8>"
      ]
     },
     "metadata": {},
     "output_type": "display_data"
    }
   ],
   "source": [
    "analysis(n_sites=20, n_cfs_arr=[25,100,1000,10000], v=v_sho, m=1, a=0.5, dx=1.4, n_corr=20)"
   ]
  },
  {
   "cell_type": "markdown",
   "metadata": {
    "deletable": true,
    "editable": true
   },
   "source": [
    "### Results for Anharmonic Oscillator"
   ]
  },
  {
   "cell_type": "code",
   "execution_count": 24,
   "metadata": {
    "collapsed": false,
    "deletable": true,
    "editable": true
   },
   "outputs": [
    {
     "name": "stdout",
     "output_type": "stream",
     "text": [
      "Acceptance Rate: 0.48410474999999065\n"
     ]
    },
    {
     "data": {
      "image/png": "[encoded data removed]",
      "text/plain": [
       "<matplotlib.figure.Figure at 0x7f0e05bdd550>"
      ]
     },
     "metadata": {},
     "output_type": "display_data"
    }
   ],
   "source": [
    "analysis(n_sites=20, n_cfs_arr=[25, 100, 1000, 10000], v=v_aho, m=1, a=0.5, dx=1.4, n_corr=20, harmonic=False)"
   ]
  },
  {
   "cell_type": "markdown",
   "metadata": {
    "deletable": true,
    "editable": true
   },
   "source": [
    "Approaches asymptotic value from below for x(t2)x(t1). I should also find out energy values for anharmonic potential. Errors obviously too small due to correlation?"
   ]
  }
 ],
 "metadata": {
  "kernelspec": {
   "display_name": "Python 3",
   "language": "python",
   "name": "python3"
  },
  "language_info": {
   "codemirror_mode": {
    "name": "ipython",
    "version": 3
   },
   "file_extension": ".py",
   "mimetype": "text/x-python",
   "name": "python",
   "nbconvert_exporter": "python",
   "pygments_lexer": "ipython3",
   "version": "3.5.2"
  }
 },
 "nbformat": 4,
 "nbformat_minor": 2
}
