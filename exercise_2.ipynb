{
 "cells": [
  {
   "cell_type": "markdown",
   "metadata": {
    "deletable": true,
    "editable": true
   },
   "source": [
    "## Exercise 2: Beyond the Ground State\n",
    "\n",
    "In this exercise the method of extracting states beyone the ground is derived and examined for the harmonic and anharmonic oscillators. This method is very important in lattice QCD as the excited states correspond to the actual particle spectrum."
   ]
  },
  {
   "cell_type": "markdown",
   "metadata": {
    "deletable": true,
    "editable": true
   },
   "source": [
    "### Euclidean Correlators\n",
    "\n",
    "Starting with euclidean correlators which are defined by\n",
    "\n",
    "\\begin{eqnarray*}\n",
    "\\big\\langle \\hat{O}_2(t_2)\\hat{O}_1(t_1)\\big\\rangle = \\frac{1}{\\mathbf{Z}} \\mathbf{Tr} \\left[e^{-\\hat{H}(t_f - t_2)}\\hat{O}_2e^{-\\hat{H}(t_2 - t_1)}\\hat{O}_1e^{-\\hat{H}(t_1 - t_i)} \\right] = \\frac{1}{Z} \\int d\\psi \\big\\langle \\psi \\big|e^{-\\hat{H}(t_f - t_2)}\\hat{O}_2e^{-\\hat{H}(t_2 - t_1)}\\hat{O}_1e^{-\\hat{H}(t_1 - t_i)}\\big| \\psi \\big\\rangle\n",
    "\\end{eqnarray*}\n",
    "\n",
    "Where $T=t_f-t_i$ and $\\hat{O}_i$ are typically made up of cominations of whatever operator that corresponds to the eigenstates that the trace is taken over. $\\mathbf{Z}$ is the closed euclidean propagator integrated over $\\psi$ to give the parition function from the previous exercise.\n",
    "\n",
    "\\begin{eqnarray*}\n",
    "\\mathbf{Z} &=& \\mathbf{Tr}\\left[e^{-T\\hat{H}} \\right] = \\int d \\psi \\big\\langle \\psi \\big| e^{-T\\hat{H}} \\big| \\psi \\big\\rangle = \\sum_n e^{-TE_0}  \\\\\n",
    "&=& \\lim_{N \\to \\infty} \\left(\\frac{m}{2\\pi a}\\right)^{\\frac{N}{2}} \\int dx_{N-1}...dx_0 \\ e^{-a\\left(\\sum_{j=0}^{N-1}\\frac{m}{2}\\left(\\frac{(x_{j+1}-x_j)}{a}\\right)^2+V(x_j)\\right)}\n",
    "\\end{eqnarray*}\n",
    "\n",
    "where the last equality arises from choosing $\\big| \\psi \\big\\rangle = \\big| x \\big\\rangle$ with $T=Na$."
   ]
  },
  {
   "cell_type": "markdown",
   "metadata": {
    "deletable": true,
    "editable": true
   },
   "source": [
    "### Hamiltonian Eigenstate Representation\n",
    "\n",
    "Inserting three copies of $\\sum_n \\big|n \\big\\rangle \\big\\langle n \\big| = I$ into the numerator and using $\\int d\\psi \\big| \\psi \\big\\rangle \\big\\langle \\psi \\big| = I$\n",
    "\n",
    "\\begin{eqnarray*}\n",
    "\\big\\langle \\hat{O}_2(t_2)\\hat{O}_1(t_1)\\big\\rangle = \\frac{\\sum_n \\sum_m \\big\\langle n \\big| \\hat{O}_2 \\big| m \\big\\rangle \\big\\langle m \\big| \\hat{O}_1 \\big| n \\big\\rangle e^{-(T-t)E_n}e^{-tE_m}}{\\sum_n e^{-TE_n}}\n",
    "\\end{eqnarray*}\n",
    "\n",
    "Where $t=t_2-t_1$. Pulling out $e^{-TE_0}$ out of the top and bottom and inserting $e^{tE_0}e^{-tE_0} = 1$ gives\n",
    "\n",
    "\\begin{eqnarray*}\n",
    "\\frac{e^{-TE_0}\\sum_n \\sum_m \\big\\langle n \\big| \\hat{O}_2 \\big| m \\big\\rangle \\big\\langle m \\big| \\hat{O}_1 \\big| n \\big\\rangle e^{-TE_n}e^{+TE_0}e^{tE_n}e^{-tE_m}e^{tE_0}e^{-tE_0}}{e^{-TE_0}\\sum_n e^{-TE_n}e^{TE_0}} = \\frac{\\sum_n \\sum_m \\big\\langle n \\big| \\hat{O}_2 \\big| m \\big\\rangle \\big\\langle m \\big| \\hat{O}_1 \\big| n \\big\\rangle e^{-T\\Delta E_n}e^{t\\Delta E_n}e^{-t\\Delta E_m}}{\\sum_n e^{-T\\Delta E_n}}\n",
    "\\end{eqnarray*}\n",
    "\n",
    "With $\\Delta E_n = E_n - E_0$. The correlator depends on the energies relative to ground state energy $E_0$. Taking take the limit of $T \\to \\infty$ the denominator is $1$. Similarly in the numerator only terms where $\\Delta E_n = 0$ survive where $\\big| n \\big\\rangle = \\big| 0 \\big\\rangle$.\n",
    "\n",
    "\\begin{eqnarray*}\n",
    "\\lim_{T \\to \\infty}\\big\\langle \\hat{O}_2(t_2)\\hat{O}_1(t_1)\\big\\rangle = \\sum_m \\big\\langle 0 \\big| \\hat{O}_2 \\big| m \\big\\rangle \\big\\langle m \\big| \\hat{O}_1 \\big| 0 \\big\\rangle e^{-t\\Delta E_m}\n",
    "\\end{eqnarray*}\n",
    "\n",
    "This is the central result for finding excited states. The result is a sum of exponentials with each exponent related to the energy level and a coefficient related to the state. The time dependence is on $t = t_2-t_1$ unlike the previous exercise where the time dependence was on $T=t_f-t_i$."
   ]
  },
  {
   "cell_type": "markdown",
   "metadata": {
    "deletable": true,
    "editable": true
   },
   "source": [
    "### Position and Momentum Eigenstate Representation\n",
    "\n",
    "As before to obtain a formula for numerical compution $\\big| \\psi \\big\\rangle = \\big| x \\big\\rangle$ is chosen. The operators then are required to have the property $\\hat{O}\\big| x \\big\\rangle = O(x)\\big| x \\big\\rangle$.\n",
    "\n",
    "Using the Trotter formula again\n",
    "\n",
    "\\begin{eqnarray*}\n",
    "e^{-T\\hat{H}}  &=& \\lim_{N \\to \\infty} (e^{-a\\hat{H}})^N \n",
    "\\end{eqnarray*}\n",
    "\n",
    "Where $T=Na$. Letting $n_2 = \\frac{t_2-t_1}{a}$ and $n_1 = \\frac{t_1-t_i}{a}$\n",
    "\n",
    "\\begin{eqnarray*} \n",
    "\\big\\langle \\psi_f \\big|e^{-\\hat{H}(t_f - t_2)}\\hat{O}_2e^{-\\hat{H}(t_2 - t_1)}\\hat{O}_1e^{-\\hat{H}(t_1 - t_i)}\\big| \\psi_i \\big\\rangle = \\ \\lim_{N \\to \\infty} \\big\\langle x_N \\big| (e^{-a\\hat{H}})^{N-n_2-n_1} \\hat{O}_2 (e^{-a\\hat{H}})^{n_2} \\hat{O}_1 (e^{-a\\hat{H}})^{n_1} \\big| x_0 \\big\\rangle\n",
    "\\end{eqnarray*}\n",
    "\n",
    "Inserting $N-n_2-n_1-1$ copies for the first exponential, $1$ copy before the first operator, $n_2$ copies for the second exponential, $1$ copy before the second operator and finally $n_1$ copies of $ \\int dx \\ \\big| x \\big\\rangle \\big\\langle x \\big|$\n",
    "\n",
    "\\begin{eqnarray*}\n",
    "&=&\\lim_{N \\to \\infty} \\int dx_{N-1}...dx_{n_2+n_1+1}\\ dy\\ dx_{n_2+n_1}.....dx_{n_1+1}\\ dz \\ dx_{n_1}...dx_1 \\big\\langle x_N \\big| e^{-a\\hat{H}} \\big| x_{N-1} \\big\\rangle...\\big\\langle x_{n_2+n_1+1} \\big| e^{-a\\hat{H}} \\big| y \\big\\rangle \\big\\langle y \\big|\\hat{O}_2 \\big| x_{n_2+n_1} \\big\\rangle \\big\\langle x_{n_2+n_1} \\big|e^{-a\\hat{H}} \\big| x_{n_2+n_1-1} \\big\\rangle\\\\\n",
    "&&...\\big\\langle x_{n_1+1} \\big|e^{-a\\hat{H}} \\big| z \\big\\rangle \\big\\langle z \\big| \\hat{O}_1 \\big| x_{n_1} \\big\\rangle \\big\\langle x_{n_1} \\big| e^{-a\\hat{H}} \\big| x_{n_1-1} \\big\\rangle...\\big\\langle x_{1} \\big| e^{-a\\hat{H}}    \\big| x_0 \\big\\rangle \\\\\n",
    "&=& \\lim_{N \\to \\infty} \\left(\\frac{m}{2\\pi a}\\right)^{\\frac{N}{2}} \\int dx_{N-1}...dx_{n_2+n_1+1}\\ dy\\ dx_{n_2+n_1}.....dx_{n_1+1}\\ dz \\ dx_{n_1}...dx_1 \\ O_2(x_{n_2+n_1}) \\ O_1(x_{n_1}) \\ \\delta(y - x_{n_2+n_1}) \\ \\delta(z - x_{n_1}) \\ \\  e^{-\\frac{m}{2a}(x_N-x_{N-1})^2} e^{-aV(x_{N-1})} \\\\\n",
    "&&...e^{-\\frac{m}{2a}(x_{n_2+n_1+1}-y)^2} e^{-aV(y)}e^{-\\frac{m}{2a}(x_{n_2+n_1}-x_{n_2+n_1-1})^2} e^{-aV(x_{n_2+n_1-1})}...e^{-\\frac{m}{2a}(x_{n_1+1}-z)^2} e^{-aV(z)} e^{-\\frac{m}{2a}(x_{n_1}-x_{n_1-1})^2} e^{-aV(x_{n_1-1})}...e^{-\\frac{m}{2a}(x_{1}-x_{0})^2} e^{-aV(x_{0})} \\\\\n",
    "&=& \\lim_{N \\to \\infty} \\left(\\frac{m}{2\\pi a}\\right)^{\\frac{N}{2}} \\int dx_{N-1}...dx_1 O_2(x_{n_2+n_1}) O_1(x_{n_1}) e^{-\\frac{m}{2a}(x_N-x_{N-1})^2} e^{-aV(x_{N-1})}...e^{-\\frac{m}{2a}(x_{1}-x_{0})^2} e^{-aV(x_{0})} \\\\\n",
    "&=& \\lim_{N \\to \\infty} \\left(\\frac{m}{2\\pi a}\\right)^{\\frac{N}{2}} \\int dx_{N-1}...dx_1 O_2(x_{n_2+n_1}) \\ O_1(x_{n_1}) \\ e^{-a\\left(\\sum_{j=0}^{N-1}\\frac{m}{2}\\left(\\frac{(x_{j+1}-x_j)}{a}\\right)^2+V(x_j)\\right)}\n",
    "\\end{eqnarray*}"
   ]
  },
  {
   "cell_type": "markdown",
   "metadata": {
    "deletable": true,
    "editable": true
   },
   "source": [
    "### Putting it all together\n",
    "\n",
    "Finally\n",
    "\n",
    "\\begin{eqnarray}\n",
    "&&\\lim_{T \\to \\infty} \\big\\langle \\hat{O}_2(t_2)\\hat{O}_1(t_1)\\big\\rangle =  \\lim_{T \\to \\infty} \\frac{1}{\\mathbf{Z}} \\lim_{N \\to \\infty} \\left(\\frac{m}{2\\pi a}\\right)^{\\frac{N}{2}} \\int dx_{N-1}...dx_0 \\ O_2(x_{n_2+n_1}) \\ O_1(x_{n_1}) \\ e^{-S_E} = \\sum_m \\big\\langle 0 \\big| \\hat{O}_2 \\big| m \\big\\rangle \\big\\langle m \\big| \\hat{O}_1 \\big| 0 \\big\\rangle e^{-t\\Delta E_m}\n",
    "\\end{eqnarray}\n",
    "\n",
    "with\n",
    "\n",
    "\\begin{eqnarray*}\n",
    "&&S_E = e^{-a\\left(\\sum_{j=0}^{N-1}\\frac{m}{2}\\left(\\frac{(x_{j+1}-x_j)}{a}\\right)^2+V(x_j)\\right)} \\\\\n",
    "&&Z = \\lim_{N \\to \\infty} \\left(\\frac{m}{2\\pi a}\\right)^{\\frac{N}{2}} \\int dx_{N-1}...dx_0 \\ e^{-S_E} \\\\\n",
    "&&n_2 = \\frac{t_2-t_1}{a} \\\\ \n",
    "&&n_1 = \\frac{t_1-t_i}{a} \\\\\n",
    "&&T = t_f-t_i = Na \\\\\n",
    "&&t = t_1-t_2 \\\\\n",
    "&&x_N = x_0\n",
    "\\end{eqnarray*}"
   ]
  },
  {
   "cell_type": "markdown",
   "metadata": {
    "deletable": true,
    "editable": true
   },
   "source": [
    "### Monte Carlo Methods and Markov Chains\n",
    "\n",
    "Instead of integrating eqn (1) with the vegas integration routine Monte Carlo methods will be employed.\n",
    "\n",
    "\\begin{eqnarray*}\n",
    "\\frac{1}{Z} \\left(\\frac{m}{2\\pi a}\\right)^{\\frac{N}{2}} \\int dx_{N-1}...dx_0 \\ O_2(x_{n_2+n_1}) \\ O_1(x_{n_1}) \\ e^{-aS_E}\n",
    "\\end{eqnarray*}\n",
    "\n",
    "This is done by noting that $\\big\\langle \\hat{O}_2(t_2)\\hat{O}_1(t_1)\\big\\rangle$ is a weighted average of $O_2(x_{n_2+n_1}) \\ O_1(x_{n_1})$ over all closed paths paths $x^\\alpha = \\left\\{x^\\alpha_0,x^\\alpha_1,...,x^\\alpha_{N-1} \\right\\}$ with the weight $e^{-S_E}$.\n",
    "\n",
    "The metropolis algorithm generates a subset or *ensemble* or *markov chain* of these paths $x^\\alpha$ hich obey the same probability distribution as the full infinite set. Individual $x^\\alpha$'s are called configurations and $\\alpha$ will now run from $1 \\to N_{cf}$. The value of the integral can then be estimated by averaging over the ensemble.\n",
    "\n",
    "\\begin{eqnarray*}\n",
    "\\big\\langle \\hat{O}_2(t_2)\\hat{O}_1(t_1)\\big\\rangle \\approx \\overline{\\big\\langle \\hat{O}_2(t_2)\\hat{O}_1(t_1)\\big\\rangle} \\equiv \\frac{1}{N_{cf}} \\sum^{N_{cf}}_{\\alpha = 1} O_2(x^\\alpha_{n_2+n_1}) \\ O_1(x^\\alpha_{n_1}) \n",
    "\\end{eqnarray*}\n",
    "\n",
    "This average has an associated standard error given by\n",
    "\n",
    "\\begin{eqnarray*}\n",
    "\\text{Standard Error} = \\left(\\frac{\\overline{\\big\\langle \\hat{O}_2(t_2)\\hat{O}_1(t_1)\\big\\rangle^2} - \\overline{\\big\\langle \\hat{O}_2(t_2)\\hat{O}_1(t_1)\\big\\rangle}^2}{N_{cf}}\\right)^\\frac{1}{2}\n",
    "\\end{eqnarray*}\n",
    "\n",
    "where\n",
    "\n",
    "\\begin{eqnarray*}\n",
    "\\overline{\\big\\langle \\hat{O}_2(t_2)\\hat{O}_1(t_1)\\big\\rangle^2} \\equiv \\frac{1}{N_{cf}} \\sum^{N_{cf}}_{\\alpha = 1} \\left(O_2(x^\\alpha_{n_2+n_1}) \\ O_1(x^\\alpha_{n_1})\\right)^2\n",
    "\\end{eqnarray*}\n",
    "\n",
    "Practically the metropolis algorithm works by generating a new configuration in the ensemble from the previous configuration by de/incrementing each $x^\\text{old}_i$ by a random amount bounded by $\\epsilon$. Each change is only accepted if if either \n",
    "\n",
    "$$\\Delta S = S_E(x^\\text{old}) - S_E(x^\\text{new}) \\geq 0$$\n",
    "\n",
    "or \n",
    "\n",
    "$$e^{\\Delta S} > \\nu$$\n",
    "\n",
    "where $\\nu$ is a new random number chosen between $0$ and $1$.\n",
    "\n",
    "$50\\%$ acceptance is the goal and is achieved by tuning $\\epsilon$. Successive $x^\\alpha$ will be highly correlated so only every $N_{corr}$ is stored. Starting the algorithm is done by thermalising for $10N_{corr}$ steps to let the configurations reach stability as typically the system is started from  $x = \\left\\{0,0,...,\\right\\}$."
   ]
  },
  {
   "cell_type": "markdown",
   "metadata": {
    "deletable": true,
    "editable": true
   },
   "source": [
    "### Potentials\n",
    "\n",
    "The python code below extracts the first excited states for the harmonic and anharmonic oscillator using the metropolis algorithm."
   ]
  },
  {
   "cell_type": "code",
   "execution_count": 118,
   "metadata": {
    "collapsed": true,
    "deletable": true,
    "editable": true
   },
   "outputs": [],
   "source": [
    "import numpy as np\n",
    "import matplotlib.pyplot as plt\n",
    "from functools import partial\n",
    "import vegas\n",
    "import warnings; warnings.simplefilter('ignore')\n",
    "\n",
    "%matplotlib inline\n",
    "\n",
    "#Harmonic\n",
    "def v_sho(x):\n",
    "    \n",
    "    return (x**2)/2\n",
    "\n",
    "#Anharmonic\n",
    "def v_aho(x):\n",
    "    \n",
    "    return (x ** 4)/2\n"
   ]
  },
  {
   "cell_type": "markdown",
   "metadata": {
    "deletable": true,
    "editable": true
   },
   "source": [
    "### Action\n",
    "\n",
    "As only one $x^\\alpha_i$ is updated at a time only the part of the action containing $x^\\alpha_i$ is calculated."
   ]
  },
  {
   "cell_type": "code",
   "execution_count": 119,
   "metadata": {
    "collapsed": true,
    "deletable": true,
    "editable": true
   },
   "outputs": [],
   "source": [
    "def action(x, i, v, m, a): \n",
    "    ir = (i+1)%len(x) \n",
    "    il = (i-1)%len(x)\n",
    "    return a *  v(x[i]) + (m/a) * x[i] * (x[i]-x[ir]-x[il])"
   ]
  },
  {
   "cell_type": "markdown",
   "metadata": {
    "deletable": true,
    "editable": true
   },
   "source": [
    "### Update Function"
   ]
  },
  {
   "cell_type": "code",
   "execution_count": 120,
   "metadata": {
    "collapsed": false,
    "deletable": true,
    "editable": true
   },
   "outputs": [],
   "source": [
    "def update(x, v, m, a, dx):\n",
    "    #Updates Every Point Once\n",
    "    accept = 0\n",
    "    for i in range(len(x)):\n",
    "        \n",
    "        x_old = x[i]\n",
    "        old_action = action(x=x, i=i, v=v, m=m, a=a)\n",
    "        \n",
    "        x[i] += np.random.uniform(-dx, dx)\n",
    "        new_action = action(x=x, i=i, v=v, m=m, a=a)\n",
    "        \n",
    "        diff = old_action - new_action\n",
    "        \n",
    "        r = np.minimum(1.0, np.exp(diff))\n",
    "    \n",
    "        if r < np.random.rand():\n",
    "            x[i] = x_old\n",
    "        \n",
    "        else:\n",
    "            accept += 1\n",
    "    \n",
    "    return x, accept / len(x)"
   ]
  },
  {
   "cell_type": "markdown",
   "metadata": {
    "deletable": true,
    "editable": true
   },
   "source": [
    "### Correlator\n",
    "\n",
    "For this exercise \n",
    "\n",
    "\\begin{eqnarray}\n",
    "\\big\\langle \\hat{O}_2(t_2)\\hat{O}_1(t_1)\\big\\rangle = \\big\\langle \\hat{X}_2(t_2)\\hat{X}_1(t_1)\\big\\rangle\n",
    "\\end{eqnarray}\n",
    "\n",
    "which numerically is\n",
    "\n",
    "\\begin{eqnarray}\n",
    "G(x) = X(x_{n_2+n_1}) \\ X(x_{n_1})\n",
    "\\end{eqnarray}\n",
    "\n",
    "#### Question\n",
    "\n",
    "Not sure why I sum over over every value of $n_1$ though. Something to do with summing all points to one point propagator?"
   ]
  },
  {
   "cell_type": "code",
   "execution_count": 121,
   "metadata": {
    "collapsed": false,
    "deletable": true,
    "editable": true
   },
   "outputs": [],
   "source": [
    "def G(x):\n",
    "    #Returns Array Gn = [G1, G2,...]\n",
    "    n = len(x)\n",
    "    g = np.zeros(n)\n",
    "    for j in range(n):\n",
    "        for i in range(n):\n",
    "            g[j] += (x[(i+j)%(n)]) *(x[i])\n",
    "            \n",
    "    return g/n"
   ]
  },
  {
   "cell_type": "markdown",
   "metadata": {
    "deletable": true,
    "editable": true
   },
   "source": [
    "### Markov Chain Generation"
   ]
  },
  {
   "cell_type": "code",
   "execution_count": 122,
   "metadata": {
    "collapsed": false,
    "deletable": true,
    "editable": true
   },
   "outputs": [],
   "source": [
    "def markov_chain(n_sites, n_configs, v, m, a, dx, n_corr):\n",
    "    \n",
    "    acc = 0\n",
    "    config = np.zeros((n_sites))\n",
    "    gn = []\n",
    "    \n",
    "    #Thermalise\n",
    "    for i in range(10*n_corr):\n",
    "        config = update(config, v, m, a, dx)[0]\n",
    "\n",
    "\n",
    "    for i in range(n_configs*n_corr):\n",
    "        config, acceptance = update(config, v, m, a, dx)\n",
    "        acc += acceptance\n",
    "        \n",
    "        if i % n_corr == 0:\n",
    "            gn.append(G(config))\n",
    "            \n",
    "    acc = acc / (n_configs*n_corr)\n",
    "            \n",
    "    return gn, acc"
   ]
  },
  {
   "cell_type": "markdown",
   "metadata": {
    "deletable": true,
    "editable": true
   },
   "source": [
    "### Analysis\n",
    "\n",
    "A simple way to extract the first excited state is an effective energy plateau fit. Taking the large $t$ limit while staying less than $T$\n",
    "\n",
    "\\begin{eqnarray*}\n",
    "\\lim_{t \\to \\infty} \\lim_{T \\to \\infty} \\big\\langle \\hat{X}(t_2)\\hat{X}(t_1)\\big\\rangle = \\big| \\big\\langle 0 \\big| \\hat{X} \\big| 1 \\big\\rangle \\big|^2 e^{-t(E_1 - E_0)}\n",
    "\\end{eqnarray*}\n",
    "\n",
    "The $\\big| \\big\\langle 0 \\big| \\hat{X} \\big| 0 \\big\\rangle \\big|^2$ is zero as $\\hat{X} \\big| 0 \\big\\rangle$ is orthogonal to $\\big| 0 \\big\\rangle$. The energy difference can then be read by a plateau fit of\n",
    "\n",
    "\\begin{eqnarray*}\n",
    "\\lim_{t \\to \\infty} \\lim_{T \\to \\infty} \\log\\left(\\frac{\\big\\langle \\hat{X}(t_2)\\hat{X}(t_1)\\big\\rangle}{\\big\\langle \\hat{X}(t_2+a)\\hat{X}(t_1)\\big\\rangle}\\right) = (E_1-E_0)a\n",
    "\\end{eqnarray*}\n",
    "\n",
    "The expectation value of the euclidean correlator is calculated from averaging over the ensemble then this formula is applied, the standard deviation of the correlator is also calculated and propagated through."
   ]
  },
  {
   "cell_type": "code",
   "execution_count": 123,
   "metadata": {
    "collapsed": false,
    "deletable": true,
    "editable": true
   },
   "outputs": [],
   "source": [
    "def analysis(n_sites, n_cfs_arr, v, m, a, dx, n_corr, harmonic=True):\n",
    "    \n",
    "    rows = int(np.ceil(len(n_cfs_arr)/2))\n",
    "    fig, axs =  plt.subplots(nrows=rows, ncols=2, figsize=(8, 8), dpi=100)\n",
    "    fig.subplots_adjust(wspace=0.5, hspace=0.5)\n",
    "    ax = axs.flat\n",
    "    \n",
    "    for i, n_configs in enumerate(n_cfs_arr):\n",
    "    \n",
    "        gn, acc = markov_chain(n_sites=n_sites, n_configs=n_configs, v=v, m=m, a=a, dx=dx, n_corr=n_corr)\n",
    "        \n",
    "        avg = np.mean(gn,0)\n",
    "        err = np.std(gn,0) / np.sqrt(n_configs)\n",
    "        avg_shift = np.roll(avg, -1)\n",
    "        err_shift = np.roll(err, -1)\n",
    "        \n",
    "        E_eff = np.log(np.divide(avg,avg_shift)) / a\n",
    "        E_eff_err = np.sqrt(np.divide(err, avg)**2 + np.divide(err_shift, avg_shift)**2)/ a / np.sqrt(n_configs)\n",
    "    \n",
    "    \n",
    "        t = np.arange(0, n_sites * a, a)\n",
    "        \n",
    "    \n",
    "        \n",
    "        ax[i].errorbar(t, E_eff, yerr=E_eff_err, fmt='o',  markersize=2, color='k')\n",
    "        ax[i].tick_params(bottom=\"off\", top=\"off\", left=\"off\", right=\"off\")\n",
    "        ax[i].set_title(\"Effective Energy for N_configs: \" + str(n_configs))\n",
    "        ax[i].set_xlim(0, 10)\n",
    "        ax[i].set_ylim(-2, 2)\n",
    "        ax[i].set_xticks([0, 2, 4, 6, 8, 10])\n",
    "        ax[i].set_yticks([-2, -1, 0, 1, 2])\n",
    "        if harmonic == True:\n",
    "            ax[i].axhline(y=1, color='r', linestyle='-')\n",
    "            \n",
    "        \n",
    "    \n",
    "    print(\"Acceptance Rate: \" + str(acc))\n",
    "    plt.show()"
   ]
  },
  {
   "cell_type": "markdown",
   "metadata": {
    "deletable": true,
    "editable": true
   },
   "source": [
    "### Results for Harmonic Oscillator"
   ]
  },
  {
   "cell_type": "code",
   "execution_count": 124,
   "metadata": {
    "collapsed": false,
    "deletable": true,
    "editable": true
   },
   "outputs": [
    {
     "name": "stdout",
     "output_type": "stream",
     "text": [
      "Acceptance Rate: 0.49641329999997963\n"
     ]
    },
    {
     "data": {
      "image/png": "[encoded data removed]",
      "text/plain": [
       "<matplotlib.figure.Figure at 0x7fc2407a5710>"
      ]
     },
     "metadata": {},
     "output_type": "display_data"
    }
   ],
   "source": [
    "analysis(n_sites=20, n_cfs_arr=[25,100,1000,10000,50000,100000], v=v_sho, m=1, a=0.5, dx=1.4, n_corr=20)"
   ]
  },
  {
   "cell_type": "markdown",
   "metadata": {
    "deletable": true,
    "editable": true
   },
   "source": [
    "The first excited state for the harmonic oscillator corresponds to $E_1=1.5$ which gives $\\Delta E_1 = 1.5-0.5 =1$ which is plotted on the graphs."
   ]
  },
  {
   "cell_type": "markdown",
   "metadata": {
    "deletable": true,
    "editable": true
   },
   "source": [
    "### Results for Anharmonic Oscillator"
   ]
  },
  {
   "cell_type": "code",
   "execution_count": 125,
   "metadata": {
    "collapsed": false,
    "deletable": true,
    "editable": true
   },
   "outputs": [
    {
     "name": "stdout",
     "output_type": "stream",
     "text": [
      "Acceptance Rate: 0.48431159999996154\n"
     ]
    },
    {
     "data": {
      "image/png": "[encoded data removed]",
      "text/plain": [
       "<matplotlib.figure.Figure at 0x7fc240a60048>"
      ]
     },
     "metadata": {},
     "output_type": "display_data"
    }
   ],
   "source": [
    "analysis(n_sites=20, n_cfs_arr=[25,100,1000,10000,50000,100000], v=v_aho, m=1, a=0.5, dx=1.4, n_corr=20, harmonic=False)"
   ]
  },
  {
   "cell_type": "markdown",
   "metadata": {
    "deletable": true,
    "editable": true
   },
   "source": [
    "#### Question\n",
    "\n",
    "Some of the graphs seem to approach asymptotic value from below for x(t2)x(t1)?. I should also find out energy values for anharmonic potential. Errors obviously too small due to correlation?"
   ]
  },
  {
   "cell_type": "code",
   "execution_count": null,
   "metadata": {
    "collapsed": true,
    "deletable": true,
    "editable": true
   },
   "outputs": [],
   "source": []
  }
 ],
 "metadata": {
  "kernelspec": {
   "display_name": "Python 3",
   "language": "python",
   "name": "python3"
  },
  "language_info": {
   "codemirror_mode": {
    "name": "ipython",
    "version": 3
   },
   "file_extension": ".py",
   "mimetype": "text/x-python",
   "name": "python",
   "nbconvert_exporter": "python",
   "pygments_lexer": "ipython3",
   "version": "3.5.2"
  }
 },
 "nbformat": 4,
 "nbformat_minor": 2
}
